{
 "cells": [
  {
   "cell_type": "code",
   "execution_count": 1,
   "metadata": {},
   "outputs": [],
   "source": [
    "import pandas as pd\n",
    "import torch\n",
    "import torch.nn as nn\n",
    "import torch.utils.data\n",
    "from torchmetrics import MetricCollection, classification, wrappers"
   ]
  },
  {
   "cell_type": "code",
   "execution_count": 2,
   "metadata": {},
   "outputs": [],
   "source": [
    "from Modules import Fingerprint_Generator\n",
    "\n",
    "fingerprint = \"ecfp-count\"\n",
    "\n",
    "# df = pd.read_csv(\"Transformed_Data/DILIst_DILI.csv\", index_col=0)  # Map style dataset\n",
    "# df = Fingerprint_Generator.generate_fp_column(df, df.drug, fp_type=fingerprint)\n",
    "\n",
    "# df_fp = pd.DataFrame(df.iloc[:, 2])\n",
    "# df_fp.insert(len(df_fp.columns), \"DILI?\", df.iloc[:, 1].astype(int))  # Insert 'DILI?' column as the last column\n",
    "\n",
    "# df_fp.to_csv(\"Transformed_Data/testo\")"
   ]
  },
  {
   "cell_type": "code",
   "execution_count": 3,
   "metadata": {},
   "outputs": [
    {
     "name": "stdout",
     "output_type": "stream",
     "text": [
      "   label                                         ecfp-count\n",
      "0      0  [0, 0, 0, 0, 0, 0, 0, 0, 0, 0, 0, 0, 0, 0, 0, ...\n",
      "1      0  [0, 0, 0, 0, 0, 0, 0, 0, 0, 0, 0, 0, 0, 0, 0, ...\n"
     ]
    }
   ],
   "source": [
    "df = pd.read_csv('Transformed_Data/rega_train.csv')\n",
    "df = Fingerprint_Generator.generate_fp_column(df, df.smiles, fp_type=fingerprint)\n",
    "df = df.drop(\"smiles\", axis=1)\n",
    "print(df.head(2))"
   ]
  },
  {
   "cell_type": "code",
   "execution_count": 4,
   "metadata": {},
   "outputs": [],
   "source": [
    "class DILIDataset(torch.utils.data.Dataset):\n",
    "    def __init__(self, features, labels) -> None:\n",
    "        self.features = features\n",
    "        self.labels = labels\n",
    "\n",
    "    def __len__(self):\n",
    "        return len(self.labels)\n",
    "\n",
    "    def __getitem__(self, index):\n",
    "        features = self.features.iloc[index]\n",
    "        labels = self.labels.iloc[index]\n",
    "        return torch.tensor([features], dtype=torch.float32), torch.tensor([labels], dtype=torch.float32)\n",
    "        # return torch.from_numpy(np.asarray([features])), torch.from_numpy(np.asarray([labels]))\n",
    "\n",
    "\n",
    "# DILIfeatures = df_fp.iloc[:, 0]\n",
    "# DILIlabels = df_fp.iloc[:, 1]\n",
    "\n",
    "DILIfeatures = df.iloc[:, 1]\n",
    "DILIlabels = df.iloc[:, 0]\n",
    "\n",
    "dilidataset = DILIDataset(DILIfeatures, DILIlabels)"
   ]
  },
  {
   "cell_type": "code",
   "execution_count": 5,
   "metadata": {},
   "outputs": [],
   "source": [
    "class EarlyStopper:\n",
    "    def __init__(self, patience=1, min_delta=0):\n",
    "        self.patience = patience\n",
    "        self.min_delta = min_delta\n",
    "        self.counter = 0\n",
    "        self.min_validation_loss = float('inf')\n",
    "\n",
    "    def early_stop(self, validation_loss):\n",
    "        if validation_loss < self.min_validation_loss:\n",
    "            self.min_validation_loss = validation_loss\n",
    "            self.counter = 0\n",
    "        elif validation_loss > (self.min_validation_loss + self.min_delta):\n",
    "            self.counter += 1\n",
    "            if self.counter >= self.patience:\n",
    "                return True\n",
    "        return False"
   ]
  },
  {
   "cell_type": "code",
   "execution_count": 6,
   "metadata": {},
   "outputs": [
    {
     "name": "stdout",
     "output_type": "stream",
     "text": [
      "Dataset split succeeded\n"
     ]
    }
   ],
   "source": [
    "torch.manual_seed(42)\n",
    "\n",
    "BATCH_SIZE = 64\n",
    "\n",
    "train_size = int(len(dilidataset) * 0.8)\n",
    "validation_size = len(dilidataset) - train_size\n",
    "\n",
    "train_data, validation_data = torch.utils.data.random_split(dilidataset, [train_size, validation_size])\n",
    "\n",
    "if len(train_data) + len(validation_data) == len(dilidataset):\n",
    "    print(\"Dataset split succeeded\")\n",
    "else:\n",
    "    print(\"Dataset split failed\")"
   ]
  },
  {
   "cell_type": "code",
   "execution_count": 7,
   "metadata": {},
   "outputs": [
    {
     "name": "stdout",
     "output_type": "stream",
     "text": [
      "Using cuda device: NVIDIA GeForce GTX 1070\n"
     ]
    }
   ],
   "source": [
    "# Set the device to GPU if available\n",
    "device = \"cuda\" if torch.cuda.is_available() else \"cpu\"\n",
    "print(f\"Using {device} device: {torch.cuda.get_device_name(0)}\")"
   ]
  },
  {
   "cell_type": "code",
   "execution_count": 8,
   "metadata": {},
   "outputs": [],
   "source": [
    "# from My_Pytorch_Utilities import reset_weights\n",
    "\n",
    "def reset_weights(model, verbose: bool = False) -> None:\n",
    "    for layer in model.children():\n",
    "        if hasattr(layer, \"reset_parameters\"):\n",
    "            layer.reset_parameters()\n",
    "            if verbose is False:\n",
    "                pass\n",
    "            else:\n",
    "                print(f\"Reset trainable parameters of layer = {layer}\")\n",
    "\n",
    "\n",
    "class DILI_Predictor(nn.Module):\n",
    "    def __init__(self, input_size, hidden_size, output_size) -> None:\n",
    "        super().__init__()\n",
    "        self.input_size = input_size\n",
    "        self.fc1 = nn.Linear(input_size, hidden_size)\n",
    "        self.fc2 = nn.Linear(hidden_size, hidden_size)\n",
    "        self.fc3 = nn.Linear(hidden_size, output_size)\n",
    "        self.sigmoid = nn.Sigmoid()\n",
    "\n",
    "    def forward(self, x):\n",
    "        model_output = self.fc1(x)\n",
    "        model_output = torch.relu(model_output)\n",
    "        model_output = self.fc2(model_output)\n",
    "        model_output = torch.relu(model_output)\n",
    "        model_output = self.fc3(model_output)\n",
    "        model_output = self.sigmoid(model_output)\n",
    "        return model_output\n",
    "\n",
    "\n",
    "class DILI_Predictor_Sequential(nn.Sequential):\n",
    "    def __init__(self, input_size, hidden_size, output_size) -> None:\n",
    "        super().__init__(\n",
    "            nn.Linear(input_size, hidden_size),\n",
    "            nn.ReLU(),\n",
    "            nn.Linear(hidden_size, hidden_size),\n",
    "            nn.ReLU(),\n",
    "            nn.Linear(hidden_size, output_size)\n",
    "        )\n",
    "\n",
    "model0 = DILI_Predictor_Sequential(2048, 512, 1).to(device)\n",
    "\n",
    "# model0 = torch.hub.load('pytorch/vision:v0.10.0', 'resnet18', pretrained=True)"
   ]
  },
  {
   "cell_type": "code",
   "execution_count": 9,
   "metadata": {},
   "outputs": [],
   "source": [
    "metric_collection = MetricCollection([\n",
    "    classification.Accuracy(task='binary', average='macro').to(device),\n",
    "    classification.BinaryAUROC().to(device),\n",
    "    classification.BinaryMatthewsCorrCoef().to(device)\n",
    "    ])\n",
    "\n",
    "b_acc = classification.Accuracy(task='binary', average='macro').to(device)\n"
   ]
  },
  {
   "cell_type": "code",
   "execution_count": 10,
   "metadata": {},
   "outputs": [
    {
     "name": "stdout",
     "output_type": "stream",
     "text": [
      "                                                 smiles  label\n",
      "0                                     CN(C)C(=N)N=C(N)N      0\n",
      "1                                      COC(=O)C=CC(=O)O      0\n",
      "2                                     O=C(O)C=Cc1ccccc1      0\n",
      "3                                     Cc1ccc(C(C)C)cc1O      0\n",
      "4                                    COc1ccc(C(=O)O)cc1      0\n",
      "...                                                 ...    ...\n",
      "2339  COc1ccc(CCOC2OC(CO)C(OC(=O)C=Cc3ccc(O)c(OC)c3)...      0\n",
      "2340  COc1ccc(-c2oc3c(CC=C(C)C)c(OC4OC(CO)C(O)C(O)C4...      0\n",
      "2341  COC(=O)C12Oc3cc(C)c(-c4c(C)cc5c(c4O)C(O)=C4C(=...      0\n",
      "2342  CC1(C)CCC2(C(=O)O)CCC3(C)C(=CCC4C5(C)CC(O)C(OC...      0\n",
      "2343                       Oc1ccc(C=Cc2cc(O)cc(O)c2)cc1      0\n",
      "\n",
      "[2344 rows x 2 columns]\n"
     ]
    },
    {
     "name": "stderr",
     "output_type": "stream",
     "text": [
      "  0%|          | 0/2 [00:00<?, ?it/s]c:\\Users\\Luke\\anaconda3\\envs\\honours\\Lib\\site-packages\\sklearn\\utils\\validation.py:605: FutureWarning: is_sparse is deprecated and will be removed in a future version. Check `isinstance(dtype, pd.SparseDtype)` instead.\n",
      "  if is_sparse(pd_dtype):\n",
      "c:\\Users\\Luke\\anaconda3\\envs\\honours\\Lib\\site-packages\\sklearn\\utils\\validation.py:614: FutureWarning: is_sparse is deprecated and will be removed in a future version. Check `isinstance(dtype, pd.SparseDtype)` instead.\n",
      "  if is_sparse(pd_dtype) or not is_extension_array_dtype(pd_dtype):\n",
      "  0%|          | 0/2 [00:00<?, ?it/s]\n"
     ]
    },
    {
     "ename": "AttributeError",
     "evalue": "'list' object has no attribute 'iloc'",
     "output_type": "error",
     "traceback": [
      "\u001b[1;31m---------------------------------------------------------------------------\u001b[0m",
      "\u001b[1;31mAttributeError\u001b[0m                            Traceback (most recent call last)",
      "\u001b[1;32mc:\\Users\\Luke\\Documents\\University\\5th Year\\Honours Python\\pytorch_DILI_CrossVal.ipynb Cell 10\u001b[0m line \u001b[0;36m7\n\u001b[0;32m      <a href='vscode-notebook-cell:/c%3A/Users/Luke/Documents/University/5th%20Year/Honours%20Python/pytorch_DILI_CrossVal.ipynb#X33sZmlsZQ%3D%3D?line=2'>3</a>\u001b[0m df \u001b[39m=\u001b[39m pd\u001b[39m.\u001b[39mread_csv(\u001b[39m'\u001b[39m\u001b[39mTransformed_Data/rega_train.csv\u001b[39m\u001b[39m'\u001b[39m)\n\u001b[0;32m      <a href='vscode-notebook-cell:/c%3A/Users/Luke/Documents/University/5th%20Year/Honours%20Python/pytorch_DILI_CrossVal.ipynb#X33sZmlsZQ%3D%3D?line=4'>5</a>\u001b[0m \u001b[39mprint\u001b[39m(df)\n\u001b[1;32m----> <a href='vscode-notebook-cell:/c%3A/Users/Luke/Documents/University/5th%20Year/Honours%20Python/pytorch_DILI_CrossVal.ipynb#X33sZmlsZQ%3D%3D?line=6'>7</a>\u001b[0m Fingerprint_Comparator\u001b[39m.\u001b[39mPytorch_Train(df\u001b[39m.\u001b[39miloc[:,\u001b[39m0\u001b[39m], df\u001b[39m.\u001b[39miloc[:,\u001b[39m1\u001b[39m], model0, \u001b[39m2048\u001b[39m, metric_collection)\u001b[39m.\u001b[39mregular_fingerprint([\u001b[39m\"\u001b[39m\u001b[39mecfp\u001b[39m\u001b[39m\"\u001b[39m, \u001b[39m\"\u001b[39m\u001b[39mecfp-count\u001b[39m\u001b[39m\"\u001b[39m])\n",
      "File \u001b[1;32mc:\\Users\\Luke\\Documents\\University\\5th Year\\Honours Python\\Modules\\Fingerprint_Comparator.py:194\u001b[0m, in \u001b[0;36mPytorch_Train.regular_fingerprint\u001b[1;34m(self, fingerprints)\u001b[0m\n\u001b[0;32m    188\u001b[0m     PyTorch_Dataset \u001b[39m=\u001b[39m PyTorch_Training\u001b[39m.\u001b[39mSMILES_Features_Dataset(fingerprint_features, \u001b[39mself\u001b[39m\u001b[39m.\u001b[39mlabels)\n\u001b[0;32m    190\u001b[0m     \u001b[39m# dim_padding = torch.tensor(self.model_input_len) - fingerprint_features.size\u001b[39;00m\n\u001b[0;32m    191\u001b[0m     \n\u001b[0;32m    192\u001b[0m     \u001b[39m# fingerprint_features = torch.nn.functional.pad(fingerprint_features, (0, dim_padding))\u001b[39;00m\n\u001b[1;32m--> 194\u001b[0m     loss, score_df \u001b[39m=\u001b[39m PyTorch_Training\u001b[39m.\u001b[39mModel_Train_Test(\u001b[39mself\u001b[39m\u001b[39m.\u001b[39mmodel, \u001b[39mself\u001b[39m\u001b[39m.\u001b[39mmetric_collection)\u001b[39m.\u001b[39mtrain_model_crossval(PyTorch_Dataset)\n\u001b[0;32m    196\u001b[0m \u001b[39mreturn\u001b[39;00m score_df\n",
      "File \u001b[1;32mc:\\Users\\Luke\\Documents\\University\\5th Year\\Honours Python\\Modules\\PyTorch_Training.py:94\u001b[0m, in \u001b[0;36mModel_Train_Test.train_model_crossval\u001b[1;34m(self, dataset, k_folds, epochs, batch_size, DP)\u001b[0m\n\u001b[0;32m     91\u001b[0m My_Pytorch_Utilities\u001b[39m.\u001b[39mTraining_Utilities()\u001b[39m.\u001b[39mreset_weights(\u001b[39mself\u001b[39m\u001b[39m.\u001b[39mmodel)  \u001b[39m# Reset the model weights between each fold\u001b[39;00m\n\u001b[0;32m     93\u001b[0m \u001b[39mfor\u001b[39;00m epoch \u001b[39min\u001b[39;00m \u001b[39mrange\u001b[39m(epochs):\n\u001b[1;32m---> 94\u001b[0m     train_loss, train_metrics \u001b[39m=\u001b[39m \u001b[39mself\u001b[39m\u001b[39m.\u001b[39mtrain_step(train_loader)\n\u001b[0;32m     95\u001b[0m     test_loss, test_metrics \u001b[39m=\u001b[39m \u001b[39mself\u001b[39m\u001b[39m.\u001b[39mtest_step(test_loader)\n\u001b[0;32m     97\u001b[0m     loss[\u001b[39m\"\u001b[39m\u001b[39mtrain_loss\u001b[39m\u001b[39m\"\u001b[39m]\u001b[39m.\u001b[39mappend(train_loss)\n",
      "File \u001b[1;32mc:\\Users\\Luke\\Documents\\University\\5th Year\\Honours Python\\Modules\\PyTorch_Training.py:37\u001b[0m, in \u001b[0;36mModel_Train_Test.train_step\u001b[1;34m(self, dataloader)\u001b[0m\n\u001b[0;32m     34\u001b[0m train_loss \u001b[39m=\u001b[39m \u001b[39m0\u001b[39m\n\u001b[0;32m     35\u001b[0m train_metrics \u001b[39m=\u001b[39m \u001b[39mself\u001b[39m\u001b[39m.\u001b[39mmetric_collection\u001b[39m.\u001b[39mclone(prefix\u001b[39m=\u001b[39m\u001b[39m\"\u001b[39m\u001b[39mtrain_\u001b[39m\u001b[39m\"\u001b[39m)\n\u001b[1;32m---> 37\u001b[0m \u001b[39mfor\u001b[39;00m batch, (X, y) \u001b[39min\u001b[39;00m \u001b[39menumerate\u001b[39m(dataloader):  \u001b[39m# Enables dataloader batching\u001b[39;00m\n\u001b[0;32m     38\u001b[0m     X, y \u001b[39m=\u001b[39m X\u001b[39m.\u001b[39mto(\u001b[39mself\u001b[39m\u001b[39m.\u001b[39mdevice), y\u001b[39m.\u001b[39mto(\u001b[39mself\u001b[39m\u001b[39m.\u001b[39mdevice)\n\u001b[0;32m     39\u001b[0m     pred_y \u001b[39m=\u001b[39m \u001b[39mself\u001b[39m\u001b[39m.\u001b[39mmodel(X)\u001b[39m.\u001b[39msqueeze(\u001b[39m1\u001b[39m)\n",
      "File \u001b[1;32mc:\\Users\\Luke\\anaconda3\\envs\\honours\\Lib\\site-packages\\torch\\utils\\data\\dataloader.py:633\u001b[0m, in \u001b[0;36m_BaseDataLoaderIter.__next__\u001b[1;34m(self)\u001b[0m\n\u001b[0;32m    630\u001b[0m \u001b[39mif\u001b[39;00m \u001b[39mself\u001b[39m\u001b[39m.\u001b[39m_sampler_iter \u001b[39mis\u001b[39;00m \u001b[39mNone\u001b[39;00m:\n\u001b[0;32m    631\u001b[0m     \u001b[39m# TODO(https://github.com/pytorch/pytorch/issues/76750)\u001b[39;00m\n\u001b[0;32m    632\u001b[0m     \u001b[39mself\u001b[39m\u001b[39m.\u001b[39m_reset()  \u001b[39m# type: ignore[call-arg]\u001b[39;00m\n\u001b[1;32m--> 633\u001b[0m data \u001b[39m=\u001b[39m \u001b[39mself\u001b[39m\u001b[39m.\u001b[39m_next_data()\n\u001b[0;32m    634\u001b[0m \u001b[39mself\u001b[39m\u001b[39m.\u001b[39m_num_yielded \u001b[39m+\u001b[39m\u001b[39m=\u001b[39m \u001b[39m1\u001b[39m\n\u001b[0;32m    635\u001b[0m \u001b[39mif\u001b[39;00m \u001b[39mself\u001b[39m\u001b[39m.\u001b[39m_dataset_kind \u001b[39m==\u001b[39m _DatasetKind\u001b[39m.\u001b[39mIterable \u001b[39mand\u001b[39;00m \\\n\u001b[0;32m    636\u001b[0m         \u001b[39mself\u001b[39m\u001b[39m.\u001b[39m_IterableDataset_len_called \u001b[39mis\u001b[39;00m \u001b[39mnot\u001b[39;00m \u001b[39mNone\u001b[39;00m \u001b[39mand\u001b[39;00m \\\n\u001b[0;32m    637\u001b[0m         \u001b[39mself\u001b[39m\u001b[39m.\u001b[39m_num_yielded \u001b[39m>\u001b[39m \u001b[39mself\u001b[39m\u001b[39m.\u001b[39m_IterableDataset_len_called:\n",
      "File \u001b[1;32mc:\\Users\\Luke\\anaconda3\\envs\\honours\\Lib\\site-packages\\torch\\utils\\data\\dataloader.py:677\u001b[0m, in \u001b[0;36m_SingleProcessDataLoaderIter._next_data\u001b[1;34m(self)\u001b[0m\n\u001b[0;32m    675\u001b[0m \u001b[39mdef\u001b[39;00m \u001b[39m_next_data\u001b[39m(\u001b[39mself\u001b[39m):\n\u001b[0;32m    676\u001b[0m     index \u001b[39m=\u001b[39m \u001b[39mself\u001b[39m\u001b[39m.\u001b[39m_next_index()  \u001b[39m# may raise StopIteration\u001b[39;00m\n\u001b[1;32m--> 677\u001b[0m     data \u001b[39m=\u001b[39m \u001b[39mself\u001b[39m\u001b[39m.\u001b[39m_dataset_fetcher\u001b[39m.\u001b[39mfetch(index)  \u001b[39m# may raise StopIteration\u001b[39;00m\n\u001b[0;32m    678\u001b[0m     \u001b[39mif\u001b[39;00m \u001b[39mself\u001b[39m\u001b[39m.\u001b[39m_pin_memory:\n\u001b[0;32m    679\u001b[0m         data \u001b[39m=\u001b[39m _utils\u001b[39m.\u001b[39mpin_memory\u001b[39m.\u001b[39mpin_memory(data, \u001b[39mself\u001b[39m\u001b[39m.\u001b[39m_pin_memory_device)\n",
      "File \u001b[1;32mc:\\Users\\Luke\\anaconda3\\envs\\honours\\Lib\\site-packages\\torch\\utils\\data\\_utils\\fetch.py:51\u001b[0m, in \u001b[0;36m_MapDatasetFetcher.fetch\u001b[1;34m(self, possibly_batched_index)\u001b[0m\n\u001b[0;32m     49\u001b[0m         data \u001b[39m=\u001b[39m \u001b[39mself\u001b[39m\u001b[39m.\u001b[39mdataset\u001b[39m.\u001b[39m__getitems__(possibly_batched_index)\n\u001b[0;32m     50\u001b[0m     \u001b[39melse\u001b[39;00m:\n\u001b[1;32m---> 51\u001b[0m         data \u001b[39m=\u001b[39m [\u001b[39mself\u001b[39m\u001b[39m.\u001b[39mdataset[idx] \u001b[39mfor\u001b[39;00m idx \u001b[39min\u001b[39;00m possibly_batched_index]\n\u001b[0;32m     52\u001b[0m \u001b[39melse\u001b[39;00m:\n\u001b[0;32m     53\u001b[0m     data \u001b[39m=\u001b[39m \u001b[39mself\u001b[39m\u001b[39m.\u001b[39mdataset[possibly_batched_index]\n",
      "File \u001b[1;32mc:\\Users\\Luke\\anaconda3\\envs\\honours\\Lib\\site-packages\\torch\\utils\\data\\_utils\\fetch.py:51\u001b[0m, in \u001b[0;36m<listcomp>\u001b[1;34m(.0)\u001b[0m\n\u001b[0;32m     49\u001b[0m         data \u001b[39m=\u001b[39m \u001b[39mself\u001b[39m\u001b[39m.\u001b[39mdataset\u001b[39m.\u001b[39m__getitems__(possibly_batched_index)\n\u001b[0;32m     50\u001b[0m     \u001b[39melse\u001b[39;00m:\n\u001b[1;32m---> 51\u001b[0m         data \u001b[39m=\u001b[39m [\u001b[39mself\u001b[39m\u001b[39m.\u001b[39mdataset[idx] \u001b[39mfor\u001b[39;00m idx \u001b[39min\u001b[39;00m possibly_batched_index]\n\u001b[0;32m     52\u001b[0m \u001b[39melse\u001b[39;00m:\n\u001b[0;32m     53\u001b[0m     data \u001b[39m=\u001b[39m \u001b[39mself\u001b[39m\u001b[39m.\u001b[39mdataset[possibly_batched_index]\n",
      "File \u001b[1;32mc:\\Users\\Luke\\anaconda3\\envs\\honours\\Lib\\site-packages\\torch\\utils\\data\\dataset.py:298\u001b[0m, in \u001b[0;36mSubset.__getitem__\u001b[1;34m(self, idx)\u001b[0m\n\u001b[0;32m    296\u001b[0m \u001b[39mif\u001b[39;00m \u001b[39misinstance\u001b[39m(idx, \u001b[39mlist\u001b[39m):\n\u001b[0;32m    297\u001b[0m     \u001b[39mreturn\u001b[39;00m \u001b[39mself\u001b[39m\u001b[39m.\u001b[39mdataset[[\u001b[39mself\u001b[39m\u001b[39m.\u001b[39mindices[i] \u001b[39mfor\u001b[39;00m i \u001b[39min\u001b[39;00m idx]]\n\u001b[1;32m--> 298\u001b[0m \u001b[39mreturn\u001b[39;00m \u001b[39mself\u001b[39m\u001b[39m.\u001b[39mdataset[\u001b[39mself\u001b[39m\u001b[39m.\u001b[39mindices[idx]]\n",
      "File \u001b[1;32mc:\\Users\\Luke\\Documents\\University\\5th Year\\Honours Python\\Modules\\PyTorch_Training.py:18\u001b[0m, in \u001b[0;36mSMILES_Features_Dataset.__getitem__\u001b[1;34m(self, idx)\u001b[0m\n\u001b[0;32m     17\u001b[0m \u001b[39mdef\u001b[39;00m \u001b[39m__getitem__\u001b[39m(\u001b[39mself\u001b[39m, idx):\n\u001b[1;32m---> 18\u001b[0m     features \u001b[39m=\u001b[39m \u001b[39mself\u001b[39m\u001b[39m.\u001b[39mfeatures\u001b[39m.\u001b[39miloc[idx]\n\u001b[0;32m     19\u001b[0m     labels \u001b[39m=\u001b[39m \u001b[39mself\u001b[39m\u001b[39m.\u001b[39mlabels\u001b[39m.\u001b[39miloc[idx]\n\u001b[0;32m     20\u001b[0m     \u001b[39mreturn\u001b[39;00m torch\u001b[39m.\u001b[39mtensor([features], dtype\u001b[39m=\u001b[39mtorch\u001b[39m.\u001b[39mfloat32), torch\u001b[39m.\u001b[39mtensor([labels], dtype\u001b[39m=\u001b[39mtorch\u001b[39m.\u001b[39mfloat32)\n",
      "\u001b[1;31mAttributeError\u001b[0m: 'list' object has no attribute 'iloc'"
     ]
    }
   ],
   "source": [
    "from Modules import Fingerprint_Comparator\n",
    "\n",
    "df = pd.read_csv('Transformed_Data/rega_train.csv')\n",
    "\n",
    "print(df)\n",
    "\n",
    "Fingerprint_Comparator.Pytorch_Train(df.iloc[:,0], df.iloc[:,1], model0, 2048, metric_collection).regular_fingerprint([\"ecfp\", \"ecfp-count\"])"
   ]
  },
  {
   "cell_type": "code",
   "execution_count": 15,
   "metadata": {},
   "outputs": [],
   "source": [
    "def train_step(model: torch.nn.Module, dataloader: torch.utils.data.DataLoader, loss_fn: torch.nn.Module, optimizer: torch.optim.Optimizer):\n",
    "    model.train()\n",
    "    train_metrics = metric_collection.clone(prefix=\"train_\")\n",
    "    train_loss, train_accuracy = 0, 0\n",
    "\n",
    "    for batch, (X, y) in enumerate(dataloader):\n",
    "        X, y = X.to(device), y.to(device)\n",
    "        predicted_y = model0(X)\n",
    "        predicted_y = predicted_y.squeeze(1)\n",
    "\n",
    "        loss = loss_fn(predicted_y, y)\n",
    "        train_loss += loss.item()\n",
    "        train_metrics_results = train_metrics(predicted_y, y)\n",
    "        \n",
    "        optimizer.zero_grad()\n",
    "        loss.backward()\n",
    "        optimizer.step()\n",
    "\n",
    "    train_metrics_results = train_metrics.compute()\n",
    "    train_metrics.reset()\n",
    "    \n",
    "    train_loss = train_loss / len(dataloader)\n",
    "\n",
    "    return train_loss, train_metrics_results #, predicted_y, y"
   ]
  },
  {
   "cell_type": "code",
   "execution_count": 16,
   "metadata": {},
   "outputs": [],
   "source": [
    "def test_step(model: torch.nn.Module, dataloader: torch.utils.data.DataLoader, loss_fn: torch.nn.Module):\n",
    "    model.eval()\n",
    "    test_metrics = metric_collection.clone(prefix=\"test_\")\n",
    "    test_loss = 0\n",
    "\n",
    "    with torch.inference_mode():\n",
    "        for batch, (X, y) in enumerate(dataloader):\n",
    "            X, y = X.to(device), y.to(device)\n",
    "            test_predicted_y = model0(X)\n",
    "            test_predicted_y = test_predicted_y.squeeze(1)\n",
    "            # print(test_predicted_y.shape); print(y.shape)#  Uncomment to confirm shape\n",
    "\n",
    "            loss = loss_fn(test_predicted_y, y)\n",
    "            test_loss += loss.item()\n",
    "            \n",
    "            test_metrics_results = test_metrics(test_predicted_y, y)\n",
    "        \n",
    "        test_metrics_results = test_metrics.compute()\n",
    "        test_metrics.reset()\n",
    "\n",
    "    test_loss = test_loss / len(dataloader)\n",
    "    \n",
    "    return test_loss, test_metrics_results"
   ]
  },
  {
   "cell_type": "code",
   "execution_count": 12,
   "metadata": {},
   "outputs": [],
   "source": [
    "def metics_tensor_dict_to_floats(metrics):\n",
    "    return {key: value.to(device='cpu', non_blocking=True).item() if hasattr(value, 'to') \n",
    "else value for key, value in metrics.items()}"
   ]
  },
  {
   "cell_type": "code",
   "execution_count": 17,
   "metadata": {},
   "outputs": [],
   "source": [
    "from sklearn.model_selection import StratifiedKFold\n",
    "\n",
    "\n",
    "def train(model: torch.nn.Module, dataset: torch.utils.data.Dataset, optimizer: torch.optim.Optimizer, loss_fn: torch.nn.Module = nn.BCELoss(), epochs: int = 10, k_folds: int = 5, batch_size: int = 256, DP:int = 3):\n",
    "    kfold = StratifiedKFold(k_folds, shuffle=True, random_state=42)\n",
    "    score_df = []\n",
    "\n",
    "    for fold, (train_idx, test_idx) in enumerate(kfold.split(dataset, dataset.labels)): \n",
    "        loss = {\"train_loss\": [], \"test_loss\": []}\n",
    "        \n",
    "        train_dataset = torch.utils.data.Subset(dataset, train_idx)\n",
    "        test_dataset = torch.utils.data.Subset(dataset, test_idx)\n",
    "        \n",
    "        train_loader = torch.utils.data.DataLoader(train_dataset, batch_size, shuffle=True)\n",
    "        test_loader = torch.utils.data.DataLoader(test_dataset, batch_size, shuffle=True)\n",
    "        \n",
    "        reset_weights(model)\n",
    "\n",
    "        for epoch in range(epochs):\n",
    "            # tracker.increment()\n",
    "            train_loss, train_metrics = train_step(model=model, dataloader=train_loader, loss_fn=loss_fn, optimizer=optimizer)\n",
    "            # tracker.update(predicted_y, y)\n",
    "            test_loss, test_metrics = test_step(model=model, dataloader=test_loader, loss_fn=loss_fn)\n",
    "\n",
    "            train_metrics, test_metrics = metics_tensor_dict_to_floats(train_metrics), metics_tensor_dict_to_floats(test_metrics)\n",
    "            loss[\"train_loss\"].append(train_loss)\n",
    "            loss[\"test_loss\"].append(test_loss)\n",
    "            \n",
    "            if EarlyStopper().early_stop(test_loss):\n",
    "                break\n",
    "\n",
    "        score_df.append(pd.DataFrame.from_dict(test_metrics, orient=\"index\").transpose().round(DP))\n",
    "        \n",
    "        print(f\"Fold {fold+1} final results after {epoch+1} epochs: Train Acc: {train_metrics['train_BinaryAccuracy']:.{DP}f} Train Loss: {train_loss:.{DP}f} (n = {len(train_idx)}) | Test Acc: {test_metrics['test_BinaryAccuracy']:.{DP}f} Test Loss: {test_loss:.{DP}f} (n = {len(test_idx)}) \")\n",
    "\n",
    "    score_df = pd.concat(score_df)\n",
    "    score_df.insert(0, \"Fold\", range(k_folds))\n",
    "    score_df.set_index(\"Fold\", inplace=True)\n",
    "    \n",
    "    return loss, score_df #, tracker.compute_all()"
   ]
  },
  {
   "cell_type": "code",
   "execution_count": 14,
   "metadata": {},
   "outputs": [
    {
     "ename": "NameError",
     "evalue": "name 'train' is not defined",
     "output_type": "error",
     "traceback": [
      "\u001b[1;31m---------------------------------------------------------------------------\u001b[0m",
      "\u001b[1;31mNameError\u001b[0m                                 Traceback (most recent call last)",
      "\u001b[1;32mc:\\Users\\Luke\\Documents\\University\\5th Year\\Honours Python\\pytorch_DILI_CrossVal.ipynb Cell 15\u001b[0m line \u001b[0;36m6\n\u001b[0;32m      <a href='vscode-notebook-cell:/c%3A/Users/Luke/Documents/University/5th%20Year/Honours%20Python/pytorch_DILI_CrossVal.ipynb#X16sZmlsZQ%3D%3D?line=2'>3</a>\u001b[0m optimizer \u001b[39m=\u001b[39m torch\u001b[39m.\u001b[39moptim\u001b[39m.\u001b[39mAdam(model0\u001b[39m.\u001b[39mparameters(), lr\u001b[39m=\u001b[39m\u001b[39m1e-4\u001b[39m)\n\u001b[0;32m      <a href='vscode-notebook-cell:/c%3A/Users/Luke/Documents/University/5th%20Year/Honours%20Python/pytorch_DILI_CrossVal.ipynb#X16sZmlsZQ%3D%3D?line=4'>5</a>\u001b[0m reset_weights(model0)\n\u001b[1;32m----> <a href='vscode-notebook-cell:/c%3A/Users/Luke/Documents/University/5th%20Year/Honours%20Python/pytorch_DILI_CrossVal.ipynb#X16sZmlsZQ%3D%3D?line=5'>6</a>\u001b[0m model0_loss, model0_df \u001b[39m=\u001b[39m train(model\u001b[39m=\u001b[39mmodel0, dataset\u001b[39m=\u001b[39mdilidataset, optimizer\u001b[39m=\u001b[39moptimizer, loss_fn\u001b[39m=\u001b[39mloss_fn, epochs\u001b[39m=\u001b[39m\u001b[39m1\u001b[39m, k_folds\u001b[39m=\u001b[39m\u001b[39m2\u001b[39m, batch_size\u001b[39m=\u001b[39m\u001b[39m256\u001b[39m)\n",
      "\u001b[1;31mNameError\u001b[0m: name 'train' is not defined"
     ]
    }
   ],
   "source": [
    "# Define loss function and optimizer\n",
    "loss_fn = nn.BCEWithLogitsLoss()\n",
    "optimizer = torch.optim.Adam(model0.parameters(), lr=1e-4)\n",
    "\n",
    "reset_weights(model0)\n",
    "model0_loss, model0_df = train(model=model0, dataset=dilidataset, optimizer=optimizer, loss_fn=loss_fn, epochs=1, k_folds=2, batch_size=256)"
   ]
  },
  {
   "cell_type": "code",
   "execution_count": 18,
   "metadata": {},
   "outputs": [
    {
     "name": "stdout",
     "output_type": "stream",
     "text": [
      "Results after 1 epochs: Train Acc: 0.000 Train Loss: 0.690 (n = 1875) | Test Acc: 0.000 Test Loss: 0.685 (n = 469) \n",
      "Results after 2 epochs: Train Acc: 0.571 Train Loss: 0.675 (n = 1875) | Test Acc: 0.671 Test Loss: 0.676 (n = 469) \n"
     ]
    },
    {
     "data": {
      "text/plain": [
       "({'train_loss': [0.6896825283765793, 0.6748193502426147],\n",
       "  'test_loss': [0.6847695708274841, 0.675948828458786]},\n",
       "        test_BinaryAccuracy  test_BinaryAUROC  test_BinaryMatthewsCorrCoef\n",
       " Epoch                                                                    \n",
       " 0                    0.000             0.000                        0.000\n",
       " 1                    0.671             0.725                        0.616)"
      ]
     },
     "execution_count": 18,
     "metadata": {},
     "output_type": "execute_result"
    }
   ],
   "source": [
    "from Modules import PyTorch_Training\n",
    "\n",
    "PyTorch_Training.Model_Train_Test(model0, metric_collection, loss_fn=loss_fn).train_model(dilidataset, epochs=2)"
   ]
  },
  {
   "cell_type": "code",
   "execution_count": null,
   "metadata": {},
   "outputs": [
    {
     "name": "stderr",
     "output_type": "stream",
     "text": [
      "c:\\Users\\Luke\\anaconda3\\envs\\honours\\Lib\\site-packages\\sklearn\\utils\\validation.py:605: FutureWarning: is_sparse is deprecated and will be removed in a future version. Check `isinstance(dtype, pd.SparseDtype)` instead.\n",
      "  if is_sparse(pd_dtype):\n",
      "c:\\Users\\Luke\\anaconda3\\envs\\honours\\Lib\\site-packages\\sklearn\\utils\\validation.py:614: FutureWarning: is_sparse is deprecated and will be removed in a future version. Check `isinstance(dtype, pd.SparseDtype)` instead.\n",
      "  if is_sparse(pd_dtype) or not is_extension_array_dtype(pd_dtype):\n"
     ]
    },
    {
     "name": "stdout",
     "output_type": "stream",
     "text": [
      "Fold 1 final results after 10 epochs: Train Acc: 0.389 Train Loss: 0.494 (n = 1875) | Test Acc: 0.877 Test Loss: 0.575 (n = 469) \n",
      "Fold 2 final results after 10 epochs: Train Acc: 0.377 Train Loss: 0.491 (n = 1875) | Test Acc: 0.875 Test Loss: 0.579 (n = 469) \n"
     ]
    },
    {
     "ename": "KeyboardInterrupt",
     "evalue": "",
     "output_type": "error",
     "traceback": [
      "\u001b[1;31m---------------------------------------------------------------------------\u001b[0m",
      "\u001b[1;31mKeyboardInterrupt\u001b[0m                         Traceback (most recent call last)",
      "\u001b[1;32mc:\\Users\\Luke\\Documents\\University\\5th Year\\Honours Python\\pytorch_DILI_CrossVal.ipynb Cell 16\u001b[0m line \u001b[0;36m2\n\u001b[0;32m     <a href='vscode-notebook-cell:/c%3A/Users/Luke/Documents/University/5th%20Year/Honours%20Python/pytorch_DILI_CrossVal.ipynb#X26sZmlsZQ%3D%3D?line=17'>18</a>\u001b[0m DILIlabels \u001b[39m=\u001b[39m df\u001b[39m.\u001b[39miloc[:, \u001b[39m0\u001b[39m]\n\u001b[0;32m     <a href='vscode-notebook-cell:/c%3A/Users/Luke/Documents/University/5th%20Year/Honours%20Python/pytorch_DILI_CrossVal.ipynb#X26sZmlsZQ%3D%3D?line=19'>20</a>\u001b[0m dilidataset \u001b[39m=\u001b[39m DILIDataset(DILIfeatures, DILIlabels)\n\u001b[1;32m---> <a href='vscode-notebook-cell:/c%3A/Users/Luke/Documents/University/5th%20Year/Honours%20Python/pytorch_DILI_CrossVal.ipynb#X26sZmlsZQ%3D%3D?line=22'>23</a>\u001b[0m loss, score_df \u001b[39m=\u001b[39m train(model\u001b[39m=\u001b[39mmodel0, dataset\u001b[39m=\u001b[39mdilidataset, optimizer\u001b[39m=\u001b[39moptimizer, loss_fn\u001b[39m=\u001b[39mloss_fn, epochs\u001b[39m=\u001b[39m\u001b[39m10\u001b[39m, k_folds\u001b[39m=\u001b[39m\u001b[39m5\u001b[39m, batch_size\u001b[39m=\u001b[39m\u001b[39m256\u001b[39m)\n\u001b[0;32m     <a href='vscode-notebook-cell:/c%3A/Users/Luke/Documents/University/5th%20Year/Honours%20Python/pytorch_DILI_CrossVal.ipynb#X26sZmlsZQ%3D%3D?line=24'>25</a>\u001b[0m fp_df\u001b[39m.\u001b[39mappend(score_df)\n",
      "\u001b[1;32mc:\\Users\\Luke\\Documents\\University\\5th Year\\Honours Python\\pytorch_DILI_CrossVal.ipynb Cell 16\u001b[0m line \u001b[0;36m2\n\u001b[0;32m     <a href='vscode-notebook-cell:/c%3A/Users/Luke/Documents/University/5th%20Year/Honours%20Python/pytorch_DILI_CrossVal.ipynb#X26sZmlsZQ%3D%3D?line=16'>17</a>\u001b[0m reset_weights(model)\n\u001b[0;32m     <a href='vscode-notebook-cell:/c%3A/Users/Luke/Documents/University/5th%20Year/Honours%20Python/pytorch_DILI_CrossVal.ipynb#X26sZmlsZQ%3D%3D?line=18'>19</a>\u001b[0m \u001b[39mfor\u001b[39;00m epoch \u001b[39min\u001b[39;00m \u001b[39mrange\u001b[39m(epochs):\n\u001b[0;32m     <a href='vscode-notebook-cell:/c%3A/Users/Luke/Documents/University/5th%20Year/Honours%20Python/pytorch_DILI_CrossVal.ipynb#X26sZmlsZQ%3D%3D?line=19'>20</a>\u001b[0m     \u001b[39m# tracker.increment()\u001b[39;00m\n\u001b[1;32m---> <a href='vscode-notebook-cell:/c%3A/Users/Luke/Documents/University/5th%20Year/Honours%20Python/pytorch_DILI_CrossVal.ipynb#X26sZmlsZQ%3D%3D?line=20'>21</a>\u001b[0m     train_loss, train_metrics \u001b[39m=\u001b[39m train_step(model\u001b[39m=\u001b[39mmodel, dataloader\u001b[39m=\u001b[39mtrain_loader, loss_fn\u001b[39m=\u001b[39mloss_fn, optimizer\u001b[39m=\u001b[39moptimizer)\n\u001b[0;32m     <a href='vscode-notebook-cell:/c%3A/Users/Luke/Documents/University/5th%20Year/Honours%20Python/pytorch_DILI_CrossVal.ipynb#X26sZmlsZQ%3D%3D?line=21'>22</a>\u001b[0m     \u001b[39m# tracker.update(predicted_y, y)\u001b[39;00m\n\u001b[0;32m     <a href='vscode-notebook-cell:/c%3A/Users/Luke/Documents/University/5th%20Year/Honours%20Python/pytorch_DILI_CrossVal.ipynb#X26sZmlsZQ%3D%3D?line=22'>23</a>\u001b[0m     test_loss, test_metrics \u001b[39m=\u001b[39m test_step(model\u001b[39m=\u001b[39mmodel, dataloader\u001b[39m=\u001b[39mtest_loader, loss_fn\u001b[39m=\u001b[39mloss_fn)\n",
      "\u001b[1;32mc:\\Users\\Luke\\Documents\\University\\5th Year\\Honours Python\\pytorch_DILI_CrossVal.ipynb Cell 16\u001b[0m line \u001b[0;36m6\n\u001b[0;32m      <a href='vscode-notebook-cell:/c%3A/Users/Luke/Documents/University/5th%20Year/Honours%20Python/pytorch_DILI_CrossVal.ipynb#X26sZmlsZQ%3D%3D?line=2'>3</a>\u001b[0m train_metrics \u001b[39m=\u001b[39m metric_collection\u001b[39m.\u001b[39mclone(prefix\u001b[39m=\u001b[39m\u001b[39m\"\u001b[39m\u001b[39mtrain_\u001b[39m\u001b[39m\"\u001b[39m)\n\u001b[0;32m      <a href='vscode-notebook-cell:/c%3A/Users/Luke/Documents/University/5th%20Year/Honours%20Python/pytorch_DILI_CrossVal.ipynb#X26sZmlsZQ%3D%3D?line=3'>4</a>\u001b[0m train_loss, train_accuracy \u001b[39m=\u001b[39m \u001b[39m0\u001b[39m, \u001b[39m0\u001b[39m\n\u001b[1;32m----> <a href='vscode-notebook-cell:/c%3A/Users/Luke/Documents/University/5th%20Year/Honours%20Python/pytorch_DILI_CrossVal.ipynb#X26sZmlsZQ%3D%3D?line=5'>6</a>\u001b[0m \u001b[39mfor\u001b[39;00m batch, (X, y) \u001b[39min\u001b[39;00m \u001b[39menumerate\u001b[39m(dataloader):\n\u001b[0;32m      <a href='vscode-notebook-cell:/c%3A/Users/Luke/Documents/University/5th%20Year/Honours%20Python/pytorch_DILI_CrossVal.ipynb#X26sZmlsZQ%3D%3D?line=6'>7</a>\u001b[0m     X, y \u001b[39m=\u001b[39m X\u001b[39m.\u001b[39mto(device), y\u001b[39m.\u001b[39mto(device)\n\u001b[0;32m      <a href='vscode-notebook-cell:/c%3A/Users/Luke/Documents/University/5th%20Year/Honours%20Python/pytorch_DILI_CrossVal.ipynb#X26sZmlsZQ%3D%3D?line=7'>8</a>\u001b[0m     predicted_y \u001b[39m=\u001b[39m model0(X)\n",
      "File \u001b[1;32mc:\\Users\\Luke\\anaconda3\\envs\\honours\\Lib\\site-packages\\torch\\utils\\data\\dataloader.py:633\u001b[0m, in \u001b[0;36m_BaseDataLoaderIter.__next__\u001b[1;34m(self)\u001b[0m\n\u001b[0;32m    630\u001b[0m \u001b[39mif\u001b[39;00m \u001b[39mself\u001b[39m\u001b[39m.\u001b[39m_sampler_iter \u001b[39mis\u001b[39;00m \u001b[39mNone\u001b[39;00m:\n\u001b[0;32m    631\u001b[0m     \u001b[39m# TODO(https://github.com/pytorch/pytorch/issues/76750)\u001b[39;00m\n\u001b[0;32m    632\u001b[0m     \u001b[39mself\u001b[39m\u001b[39m.\u001b[39m_reset()  \u001b[39m# type: ignore[call-arg]\u001b[39;00m\n\u001b[1;32m--> 633\u001b[0m data \u001b[39m=\u001b[39m \u001b[39mself\u001b[39m\u001b[39m.\u001b[39m_next_data()\n\u001b[0;32m    634\u001b[0m \u001b[39mself\u001b[39m\u001b[39m.\u001b[39m_num_yielded \u001b[39m+\u001b[39m\u001b[39m=\u001b[39m \u001b[39m1\u001b[39m\n\u001b[0;32m    635\u001b[0m \u001b[39mif\u001b[39;00m \u001b[39mself\u001b[39m\u001b[39m.\u001b[39m_dataset_kind \u001b[39m==\u001b[39m _DatasetKind\u001b[39m.\u001b[39mIterable \u001b[39mand\u001b[39;00m \\\n\u001b[0;32m    636\u001b[0m         \u001b[39mself\u001b[39m\u001b[39m.\u001b[39m_IterableDataset_len_called \u001b[39mis\u001b[39;00m \u001b[39mnot\u001b[39;00m \u001b[39mNone\u001b[39;00m \u001b[39mand\u001b[39;00m \\\n\u001b[0;32m    637\u001b[0m         \u001b[39mself\u001b[39m\u001b[39m.\u001b[39m_num_yielded \u001b[39m>\u001b[39m \u001b[39mself\u001b[39m\u001b[39m.\u001b[39m_IterableDataset_len_called:\n",
      "File \u001b[1;32mc:\\Users\\Luke\\anaconda3\\envs\\honours\\Lib\\site-packages\\torch\\utils\\data\\dataloader.py:677\u001b[0m, in \u001b[0;36m_SingleProcessDataLoaderIter._next_data\u001b[1;34m(self)\u001b[0m\n\u001b[0;32m    675\u001b[0m \u001b[39mdef\u001b[39;00m \u001b[39m_next_data\u001b[39m(\u001b[39mself\u001b[39m):\n\u001b[0;32m    676\u001b[0m     index \u001b[39m=\u001b[39m \u001b[39mself\u001b[39m\u001b[39m.\u001b[39m_next_index()  \u001b[39m# may raise StopIteration\u001b[39;00m\n\u001b[1;32m--> 677\u001b[0m     data \u001b[39m=\u001b[39m \u001b[39mself\u001b[39m\u001b[39m.\u001b[39m_dataset_fetcher\u001b[39m.\u001b[39mfetch(index)  \u001b[39m# may raise StopIteration\u001b[39;00m\n\u001b[0;32m    678\u001b[0m     \u001b[39mif\u001b[39;00m \u001b[39mself\u001b[39m\u001b[39m.\u001b[39m_pin_memory:\n\u001b[0;32m    679\u001b[0m         data \u001b[39m=\u001b[39m _utils\u001b[39m.\u001b[39mpin_memory\u001b[39m.\u001b[39mpin_memory(data, \u001b[39mself\u001b[39m\u001b[39m.\u001b[39m_pin_memory_device)\n",
      "File \u001b[1;32mc:\\Users\\Luke\\anaconda3\\envs\\honours\\Lib\\site-packages\\torch\\utils\\data\\_utils\\fetch.py:54\u001b[0m, in \u001b[0;36m_MapDatasetFetcher.fetch\u001b[1;34m(self, possibly_batched_index)\u001b[0m\n\u001b[0;32m     52\u001b[0m \u001b[39melse\u001b[39;00m:\n\u001b[0;32m     53\u001b[0m     data \u001b[39m=\u001b[39m \u001b[39mself\u001b[39m\u001b[39m.\u001b[39mdataset[possibly_batched_index]\n\u001b[1;32m---> 54\u001b[0m \u001b[39mreturn\u001b[39;00m \u001b[39mself\u001b[39m\u001b[39m.\u001b[39mcollate_fn(data)\n",
      "File \u001b[1;32mc:\\Users\\Luke\\anaconda3\\envs\\honours\\Lib\\site-packages\\torch\\utils\\data\\_utils\\collate.py:265\u001b[0m, in \u001b[0;36mdefault_collate\u001b[1;34m(batch)\u001b[0m\n\u001b[0;32m    204\u001b[0m \u001b[39mdef\u001b[39;00m \u001b[39mdefault_collate\u001b[39m(batch):\n\u001b[0;32m    205\u001b[0m \u001b[39m    \u001b[39m\u001b[39mr\u001b[39m\u001b[39m\"\"\"\u001b[39;00m\n\u001b[0;32m    206\u001b[0m \u001b[39m        Function that takes in a batch of data and puts the elements within the batch\u001b[39;00m\n\u001b[0;32m    207\u001b[0m \u001b[39m        into a tensor with an additional outer dimension - batch size. The exact output type can be\u001b[39;00m\n\u001b[1;32m   (...)\u001b[0m\n\u001b[0;32m    263\u001b[0m \u001b[39m            >>> default_collate(batch)  # Handle `CustomType` automatically\u001b[39;00m\n\u001b[0;32m    264\u001b[0m \u001b[39m    \"\"\"\u001b[39;00m\n\u001b[1;32m--> 265\u001b[0m     \u001b[39mreturn\u001b[39;00m collate(batch, collate_fn_map\u001b[39m=\u001b[39mdefault_collate_fn_map)\n",
      "File \u001b[1;32mc:\\Users\\Luke\\anaconda3\\envs\\honours\\Lib\\site-packages\\torch\\utils\\data\\_utils\\collate.py:142\u001b[0m, in \u001b[0;36mcollate\u001b[1;34m(batch, collate_fn_map)\u001b[0m\n\u001b[0;32m    139\u001b[0m transposed \u001b[39m=\u001b[39m \u001b[39mlist\u001b[39m(\u001b[39mzip\u001b[39m(\u001b[39m*\u001b[39mbatch))  \u001b[39m# It may be accessed twice, so we use a list.\u001b[39;00m\n\u001b[0;32m    141\u001b[0m \u001b[39mif\u001b[39;00m \u001b[39misinstance\u001b[39m(elem, \u001b[39mtuple\u001b[39m):\n\u001b[1;32m--> 142\u001b[0m     \u001b[39mreturn\u001b[39;00m [collate(samples, collate_fn_map\u001b[39m=\u001b[39mcollate_fn_map) \u001b[39mfor\u001b[39;00m samples \u001b[39min\u001b[39;00m transposed]  \u001b[39m# Backwards compatibility.\u001b[39;00m\n\u001b[0;32m    143\u001b[0m \u001b[39melse\u001b[39;00m:\n\u001b[0;32m    144\u001b[0m     \u001b[39mtry\u001b[39;00m:\n",
      "File \u001b[1;32mc:\\Users\\Luke\\anaconda3\\envs\\honours\\Lib\\site-packages\\torch\\utils\\data\\_utils\\collate.py:142\u001b[0m, in \u001b[0;36m<listcomp>\u001b[1;34m(.0)\u001b[0m\n\u001b[0;32m    139\u001b[0m transposed \u001b[39m=\u001b[39m \u001b[39mlist\u001b[39m(\u001b[39mzip\u001b[39m(\u001b[39m*\u001b[39mbatch))  \u001b[39m# It may be accessed twice, so we use a list.\u001b[39;00m\n\u001b[0;32m    141\u001b[0m \u001b[39mif\u001b[39;00m \u001b[39misinstance\u001b[39m(elem, \u001b[39mtuple\u001b[39m):\n\u001b[1;32m--> 142\u001b[0m     \u001b[39mreturn\u001b[39;00m [collate(samples, collate_fn_map\u001b[39m=\u001b[39mcollate_fn_map) \u001b[39mfor\u001b[39;00m samples \u001b[39min\u001b[39;00m transposed]  \u001b[39m# Backwards compatibility.\u001b[39;00m\n\u001b[0;32m    143\u001b[0m \u001b[39melse\u001b[39;00m:\n\u001b[0;32m    144\u001b[0m     \u001b[39mtry\u001b[39;00m:\n",
      "File \u001b[1;32mc:\\Users\\Luke\\anaconda3\\envs\\honours\\Lib\\site-packages\\torch\\utils\\data\\_utils\\collate.py:119\u001b[0m, in \u001b[0;36mcollate\u001b[1;34m(batch, collate_fn_map)\u001b[0m\n\u001b[0;32m    117\u001b[0m \u001b[39mif\u001b[39;00m collate_fn_map \u001b[39mis\u001b[39;00m \u001b[39mnot\u001b[39;00m \u001b[39mNone\u001b[39;00m:\n\u001b[0;32m    118\u001b[0m     \u001b[39mif\u001b[39;00m elem_type \u001b[39min\u001b[39;00m collate_fn_map:\n\u001b[1;32m--> 119\u001b[0m         \u001b[39mreturn\u001b[39;00m collate_fn_map[elem_type](batch, collate_fn_map\u001b[39m=\u001b[39mcollate_fn_map)\n\u001b[0;32m    121\u001b[0m     \u001b[39mfor\u001b[39;00m collate_type \u001b[39min\u001b[39;00m collate_fn_map:\n\u001b[0;32m    122\u001b[0m         \u001b[39mif\u001b[39;00m \u001b[39misinstance\u001b[39m(elem, collate_type):\n",
      "File \u001b[1;32mc:\\Users\\Luke\\anaconda3\\envs\\honours\\Lib\\site-packages\\torch\\utils\\data\\_utils\\collate.py:162\u001b[0m, in \u001b[0;36mcollate_tensor_fn\u001b[1;34m(batch, collate_fn_map)\u001b[0m\n\u001b[0;32m    160\u001b[0m     storage \u001b[39m=\u001b[39m elem\u001b[39m.\u001b[39m_typed_storage()\u001b[39m.\u001b[39m_new_shared(numel, device\u001b[39m=\u001b[39melem\u001b[39m.\u001b[39mdevice)\n\u001b[0;32m    161\u001b[0m     out \u001b[39m=\u001b[39m elem\u001b[39m.\u001b[39mnew(storage)\u001b[39m.\u001b[39mresize_(\u001b[39mlen\u001b[39m(batch), \u001b[39m*\u001b[39m\u001b[39mlist\u001b[39m(elem\u001b[39m.\u001b[39msize()))\n\u001b[1;32m--> 162\u001b[0m \u001b[39mreturn\u001b[39;00m torch\u001b[39m.\u001b[39mstack(batch, \u001b[39m0\u001b[39m, out\u001b[39m=\u001b[39mout)\n",
      "\u001b[1;31mKeyboardInterrupt\u001b[0m: "
     ]
    }
   ],
   "source": [
    "regular_fingerprints = [\n",
    "    \"ecfp\",\n",
    "    \"ecfp-count\",\n",
    "    \"fcfp\"\n",
    "]\n",
    "df = pd.read_csv('Transformed_Data/rega_train.csv')\n",
    "\n",
    "fp_df = []\n",
    "\n",
    "\n",
    "\n",
    "for fingerprint in regular_fingerprints:\n",
    "    df = pd.read_csv('Transformed_Data/rega_train.csv')\n",
    "    df = Fingerprint_Generator.generate_fp_column(df, df.smiles, fp_type=fingerprint)\n",
    "    df = df.drop(\"smiles\", axis=1)\n",
    "    \n",
    "    DILIfeatures = df.iloc[:, 1]\n",
    "    DILIlabels = df.iloc[:, 0]\n",
    "    \n",
    "    dilidataset = DILIDataset(DILIfeatures, DILIlabels)\n",
    "    \n",
    "    \n",
    "    loss, score_df = train(model=model0, dataset=dilidataset, optimizer=optimizer, loss_fn=loss_fn, epochs=10, k_folds=5, batch_size=256)\n",
    "    \n",
    "    fp_df.append(score_df)"
   ]
  },
  {
   "cell_type": "code",
   "execution_count": null,
   "metadata": {},
   "outputs": [
    {
     "data": {
      "text/plain": [
       "FriedmanchisquareResult(statistic=2.8000000000000043, pvalue=0.24659696394160596)"
      ]
     },
     "execution_count": 17,
     "metadata": {},
     "output_type": "execute_result"
    }
   ],
   "source": [
    "# print(fp_df)\n",
    "\n",
    "from scipy.stats import wilcoxon, friedmanchisquare\n",
    "\n",
    "# print(fp_df[0].iloc[:, 1]); print(fp_df[1].iloc[:, 1])\n",
    "\n",
    "friedmanchisquare(fp_df[0].iloc[:, 1], fp_df[1].iloc[:, 1], fp_df[2].iloc[:, 1])"
   ]
  },
  {
   "cell_type": "code",
   "execution_count": null,
   "metadata": {},
   "outputs": [
    {
     "data": {
      "image/png": "[encoded data removed]",
      "text/plain": [
       "<Figure size 1000x600 with 1 Axes>"
      ]
     },
     "metadata": {},
     "output_type": "display_data"
    }
   ],
   "source": [
    "import matplotlib.pyplot as plt\n",
    "\n",
    "\n",
    "def plot_loss_curve(results: dict[str, list[float]]):\n",
    "    train_loss = results[\"train_loss\"]\n",
    "    test_loss = results[\"test_loss\"]\n",
    "\n",
    "    # Plot loss\n",
    "    plt.figure(figsize=(10, 6))\n",
    "    \n",
    "    plt.plot(train_loss, label=\"train_loss\")\n",
    "    plt.plot(test_loss, label=\"test_loss\")\n",
    "    \n",
    "    plt.title(\"Loss vs Epochs\")\n",
    "    plt.ylabel(\"Loss\")\n",
    "    plt.xlabel(\"Epochs\")\n",
    "    plt.legend()\n",
    "\n",
    "\n",
    "plot_loss_curve(model0_loss)"
   ]
  },
  {
   "cell_type": "code",
   "execution_count": null,
   "metadata": {},
   "outputs": [],
   "source": [
    "# from Modules import My_Pytorch_Utilities\n",
    "\n",
    "# dummy_data = torch.rand([1, 2048])\n",
    "\n",
    "# dummy_data.shape\n",
    "\n",
    "# My_Pytorch_Utilities.save(model0, \"DILIst\", dummy_data.to(device))"
   ]
  },
  {
   "cell_type": "code",
   "execution_count": null,
   "metadata": {},
   "outputs": [
    {
     "ename": "TypeError",
     "evalue": "Fingerprint_Comparator.__init__() missing 1 required positional argument: 'labels'",
     "output_type": "error",
     "traceback": [
      "\u001b[1;31m---------------------------------------------------------------------------\u001b[0m",
      "\u001b[1;31mTypeError\u001b[0m                                 Traceback (most recent call last)",
      "\u001b[1;32mc:\\Users\\Luke\\Documents\\University\\5th Year\\Honours Python\\pytorch_DILI_CrossVal.ipynb Cell 20\u001b[0m line \u001b[0;36m1\n\u001b[0;32m      <a href='vscode-notebook-cell:/c%3A/Users/Luke/Documents/University/5th%20Year/Honours%20Python/pytorch_DILI_CrossVal.ipynb#X23sZmlsZQ%3D%3D?line=3'>4</a>\u001b[0m validation_smiles_labels \u001b[39m=\u001b[39m [\u001b[39m1\u001b[39m, \u001b[39m0\u001b[39m, \u001b[39m1\u001b[39m]\n\u001b[0;32m      <a href='vscode-notebook-cell:/c%3A/Users/Luke/Documents/University/5th%20Year/Honours%20Python/pytorch_DILI_CrossVal.ipynb#X23sZmlsZQ%3D%3D?line=5'>6</a>\u001b[0m regular_fingerprints \u001b[39m=\u001b[39m [\n\u001b[0;32m      <a href='vscode-notebook-cell:/c%3A/Users/Luke/Documents/University/5th%20Year/Honours%20Python/pytorch_DILI_CrossVal.ipynb#X23sZmlsZQ%3D%3D?line=6'>7</a>\u001b[0m     \u001b[39m\"\u001b[39m\u001b[39mecfp\u001b[39m\u001b[39m\"\u001b[39m,\n\u001b[0;32m      <a href='vscode-notebook-cell:/c%3A/Users/Luke/Documents/University/5th%20Year/Honours%20Python/pytorch_DILI_CrossVal.ipynb#X23sZmlsZQ%3D%3D?line=7'>8</a>\u001b[0m     \u001b[39m\"\u001b[39m\u001b[39mfcfp\u001b[39m\u001b[39m\"\u001b[39m,\n\u001b[0;32m      <a href='vscode-notebook-cell:/c%3A/Users/Luke/Documents/University/5th%20Year/Honours%20Python/pytorch_DILI_CrossVal.ipynb#X23sZmlsZQ%3D%3D?line=8'>9</a>\u001b[0m     \u001b[39m\"\u001b[39m\u001b[39msecfp\u001b[39m\u001b[39m\"\u001b[39m,\n\u001b[0;32m     <a href='vscode-notebook-cell:/c%3A/Users/Luke/Documents/University/5th%20Year/Honours%20Python/pytorch_DILI_CrossVal.ipynb#X23sZmlsZQ%3D%3D?line=9'>10</a>\u001b[0m ]\n\u001b[1;32m---> <a href='vscode-notebook-cell:/c%3A/Users/Luke/Documents/University/5th%20Year/Honours%20Python/pytorch_DILI_CrossVal.ipynb#X23sZmlsZQ%3D%3D?line=11'>12</a>\u001b[0m PyTorch_Pretrained_Inference\u001b[39m.\u001b[39mDILI_Inference(validation_smiles, model0)\u001b[39m.\u001b[39mregular_fingerprint(regular_fingerprints)\n",
      "File \u001b[1;32mc:\\Users\\Luke\\Documents\\University\\5th Year\\Honours Python\\Modules\\PyTorch_Pretrained_Inference.py:25\u001b[0m, in \u001b[0;36mDILI_Inference.__init__\u001b[1;34m(self, smiles, pretrained_model)\u001b[0m\n\u001b[0;32m     24\u001b[0m \u001b[39mdef\u001b[39;00m \u001b[39m__init__\u001b[39m(\u001b[39mself\u001b[39m, smiles: pd\u001b[39m.\u001b[39mSeries \u001b[39m|\u001b[39m \u001b[39mlist\u001b[39m[\u001b[39mstr\u001b[39m], pretrained_model: torch\u001b[39m.\u001b[39mnn\u001b[39m.\u001b[39mModule) \u001b[39m-\u001b[39m\u001b[39m>\u001b[39m \u001b[39mNone\u001b[39;00m:\n\u001b[1;32m---> 25\u001b[0m     \u001b[39msuper\u001b[39m()\u001b[39m.\u001b[39m\u001b[39m__init__\u001b[39m(smiles)\n\u001b[0;32m     26\u001b[0m     \u001b[39mself\u001b[39m\u001b[39m.\u001b[39mpretrained_model \u001b[39m=\u001b[39m pretrained_model\n\u001b[0;32m     27\u001b[0m     \u001b[39mself\u001b[39m\u001b[39m.\u001b[39mdevice \u001b[39m=\u001b[39m \u001b[39m\"\u001b[39m\u001b[39mcuda\u001b[39m\u001b[39m\"\u001b[39m \u001b[39mif\u001b[39;00m torch\u001b[39m.\u001b[39mcuda\u001b[39m.\u001b[39mis_available() \u001b[39melse\u001b[39;00m \u001b[39m\"\u001b[39m\u001b[39mcpu\u001b[39m\u001b[39m\"\u001b[39m\n",
      "\u001b[1;31mTypeError\u001b[0m: Fingerprint_Comparator.__init__() missing 1 required positional argument: 'labels'"
     ]
    }
   ],
   "source": [
    "from Modules import PyTorch_Pretrained_Inference\n",
    "\n",
    "validation_smiles = [\"CCC\", \"CCCC\", \"Fc1ccc(cc1)[C@@]3(OCc2cc(C#N)ccc23)CCCN(C)C\"]\n",
    "validation_smiles_labels = [1, 0, 1]\n",
    "\n",
    "regular_fingerprints = [\n",
    "    \"ecfp\",\n",
    "    \"fcfp\",\n",
    "    \"secfp\",\n",
    "]\n",
    "\n",
    "PyTorch_Pretrained_Inference.DILI_Inference(validation_smiles, model0).regular_fingerprint(regular_fingerprints)"
   ]
  },
  {
   "cell_type": "code",
   "execution_count": null,
   "metadata": {},
   "outputs": [
    {
     "name": "stderr",
     "output_type": "stream",
     "text": [
      "100%|██████████| 3/3 [00:00<00:00, 272.64it/s]\n"
     ]
    },
    {
     "data": {
      "text/html": [
       "<div>\n",
       "<style scoped>\n",
       "    .dataframe tbody tr th:only-of-type {\n",
       "        vertical-align: middle;\n",
       "    }\n",
       "\n",
       "    .dataframe tbody tr th {\n",
       "        vertical-align: top;\n",
       "    }\n",
       "\n",
       "    .dataframe thead th {\n",
       "        text-align: right;\n",
       "    }\n",
       "</style>\n",
       "<table border=\"1\" class=\"dataframe\">\n",
       "  <thead>\n",
       "    <tr style=\"text-align: right;\">\n",
       "      <th></th>\n",
       "      <th>Fingerprint type</th>\n",
       "      <th>acc</th>\n",
       "    </tr>\n",
       "  </thead>\n",
       "  <tbody>\n",
       "    <tr>\n",
       "      <th>0</th>\n",
       "      <td>ecfp</td>\n",
       "      <td>0.333333</td>\n",
       "    </tr>\n",
       "    <tr>\n",
       "      <th>1</th>\n",
       "      <td>fcfp</td>\n",
       "      <td>0.333333</td>\n",
       "    </tr>\n",
       "    <tr>\n",
       "      <th>2</th>\n",
       "      <td>secfp</td>\n",
       "      <td>0.333333</td>\n",
       "    </tr>\n",
       "  </tbody>\n",
       "</table>\n",
       "</div>"
      ],
      "text/plain": [
       "  Fingerprint type       acc\n",
       "0             ecfp  0.333333\n",
       "1             fcfp  0.333333\n",
       "2            secfp  0.333333"
      ]
     },
     "execution_count": 87,
     "metadata": {},
     "output_type": "execute_result"
    }
   ],
   "source": [
    "from Modules import Fingerprint_Comparator\n",
    "\n",
    "Fingerprint_Comparator.PyTorch_Pretrained(validation_smiles, validation_smiles_labels, model0).regular_fingerprint(regular_fingerprints, 2048)"
   ]
  },
  {
   "cell_type": "code",
   "execution_count": null,
   "metadata": {},
   "outputs": [],
   "source": [
    "# ## Assuming you have loaded_model and device available\n",
    "\n",
    "# from Modules import Fingerprint_Generator\n",
    "\n",
    "# validation_smiles = [\"CCC\", \"CCCC\", \"Fc1ccc(cc1)[C@@]3(OCc2cc(C#N)ccc23)CCCN(C)C\"]\n",
    "\n",
    "# def evaluate_smiles(model, input_smiles):\n",
    "#     scores = {}\n",
    "#     validation_fp = Fingerprint_Generator.Smiles_To_Fingerprint(input_smiles, fingerprint).astype(torch.Tensor).squeeze(1).to(device)\n",
    "#     with torch.no_grad():\n",
    "#         model0.eval()\n",
    "#         for i, input in enumerate(validation_fp):\n",
    "#             output = model(input)\n",
    "#             scores.update({round(output.item(), 3): validation_smiles[i]})\n",
    "#             # scores.append(output.item())\n",
    "#         return scores\n",
    "\n",
    "# print(evaluate_smiles(model0, validation_smiles))\n",
    "\n",
    "\n",
    "# # print(f\"Prediction for {validation_smiles}: {prediction:.3f}\")"
   ]
  }
 ],
 "metadata": {
  "kernelspec": {
   "display_name": "honours",
   "language": "python",
   "name": "python3"
  },
  "language_info": {
   "codemirror_mode": {
    "name": "ipython",
    "version": 3
   },
   "file_extension": ".py",
   "mimetype": "text/x-python",
   "name": "python",
   "nbconvert_exporter": "python",
   "pygments_lexer": "ipython3",
   "version": "3.11.6"
  }
 },
 "nbformat": 4,
 "nbformat_minor": 2
}
