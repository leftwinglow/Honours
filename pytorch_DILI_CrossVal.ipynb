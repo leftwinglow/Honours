{
 "cells": [
  {
   "cell_type": "code",
   "execution_count": 13,
   "metadata": {},
   "outputs": [],
   "source": [
    "import pandas as pd\n",
    "import torch\n",
    "import torch.nn as nn\n",
    "import torch.utils.data\n",
    "import seaborn as sns\n",
    "from torchmetrics import MetricCollection, classification\n",
    "from scipy.stats import friedmanchisquare\n",
    "\n",
    "from Modules import PyTorch_Training, Fingerprint_Generator, Misc_Utils, Fingerprint_Comparator"
   ]
  },
  {
   "cell_type": "code",
   "execution_count": 14,
   "metadata": {},
   "outputs": [
    {
     "name": "stdout",
     "output_type": "stream",
     "text": [
      "              smiles  label\n",
      "0  CN(C)C(=N)N=C(N)N      0\n",
      "1   COC(=O)C=CC(=O)O      0\n"
     ]
    }
   ],
   "source": [
    "torch.manual_seed(42)\n",
    "\n",
    "df_train = pd.read_csv('Transformed_Data/rega_train.csv')\n",
    "df_test = pd.read_csv('Transformed_Data/rega_test.csv')\n",
    "\n",
    "print(df_train.head(2))"
   ]
  },
  {
   "cell_type": "code",
   "execution_count": 15,
   "metadata": {},
   "outputs": [
    {
     "name": "stdout",
     "output_type": "stream",
     "text": [
      "Using cuda device: NVIDIA GeForce GTX 1070\n"
     ]
    }
   ],
   "source": [
    "# Set the device to GPU if available\n",
    "device = \"cuda\" if torch.cuda.is_available() else \"cpu\"\n",
    "print(f\"Using {device} device: {torch.cuda.get_device_name(0)}\")\n",
    "\n",
    "DILI_model = PyTorch_Training.DILI_Models.DILI_Predictor_Sequential(2048, 512, 1).to(device)"
   ]
  },
  {
   "cell_type": "code",
   "execution_count": 16,
   "metadata": {},
   "outputs": [],
   "source": [
    "metric_collection = MetricCollection([\n",
    "    classification.Accuracy(task='binary', average='macro'),  # Balanced accuracy\n",
    "    classification.BinaryAUROC(),\n",
    "    classification.BinaryMatthewsCorrCoef(),\n",
    "    classification.BinaryPrecision(),\n",
    "    classification.BinaryF1Score(),\n",
    "    classification.BinarySpecificity(),\n",
    "    classification.BinaryJaccardIndex(),\n",
    "    ]).to(device)"
   ]
  },
  {
   "cell_type": "code",
   "execution_count": 17,
   "metadata": {},
   "outputs": [
    {
     "name": "stdout",
     "output_type": "stream",
     "text": [
      "-------------------------------------------------------------maccs-------------------------------------------------------------\n",
      "Fold 1 final results after 2 epochs: Train Acc: 0.037 Train Loss: 0.691 (n = 1562) | Test Acc: 0.126 Test Loss: 0.693 (n = 782) \n",
      "Fold 2 final results after 2 epochs: Train Acc: 0.210 Train Loss: 0.690 (n = 1563) | Test Acc: 0.846 Test Loss: 0.687 (n = 781) \n",
      "Fold 3 final results after 2 epochs: Train Acc: 1.000 Train Loss: 0.695 (n = 1563) | Test Acc: 1.000 Test Loss: 0.697 (n = 781) \n",
      "-------------------------------------------------------------ecfp--------------------------------------------------------------\n",
      "Fold 1 final results after 2 epochs: Train Acc: 0.403 Train Loss: 0.677 (n = 1562) | Test Acc: 0.487 Test Loss: 0.678 (n = 782) \n",
      "Fold 2 final results after 2 epochs: Train Acc: 0.293 Train Loss: 0.684 (n = 1563) | Test Acc: 0.731 Test Loss: 0.684 (n = 781) \n",
      "Fold 3 final results after 2 epochs: Train Acc: 0.548 Train Loss: 0.684 (n = 1563) | Test Acc: 0.363 Test Loss: 0.685 (n = 781) \n",
      "----------------------------------------------------------ecfp-count-----------------------------------------------------------\n",
      "Fold 1 final results after 2 epochs: Train Acc: 0.494 Train Loss: 0.663 (n = 1562) | Test Acc: 0.586 Test Loss: 0.656 (n = 782) \n",
      "Fold 2 final results after 2 epochs: Train Acc: 0.770 Train Loss: 0.676 (n = 1563) | Test Acc: 0.759 Test Loss: 0.663 (n = 781) \n",
      "Fold 3 final results after 2 epochs: Train Acc: 0.474 Train Loss: 0.673 (n = 1563) | Test Acc: 0.606 Test Loss: 0.666 (n = 781) \n"
     ]
    }
   ],
   "source": [
    "regular_fingerprints = Fingerprint_Generator.Fingerprint_Types().regular_fingerprints(abridged_set=True)\n",
    "\n",
    "comparator = Fingerprint_Comparator.Pytorch_Train(df_train.iloc[:,0], df_train.iloc[:,1], DILI_model, 2048, metric_collection)\n",
    "\n",
    "comparator_results, comparator_results_multiindex = comparator.regular_fingerprint(regular_fingerprints, k_folds=3, epochs=2)\n",
    "\n",
    "comparator_results.reset_index(inplace=True)\n"
   ]
  },
  {
   "cell_type": "code",
   "execution_count": 21,
   "metadata": {},
   "outputs": [
    {
     "data": {
      "image/png": "[encoded data removed]",
      "text/plain": [
       "<Figure size 640x480 with 1 Axes>"
      ]
     },
     "metadata": {},
     "output_type": "display_data"
    }
   ],
   "source": [
    "mean_comparator_output, mean_score = Misc_Utils.get_average_score(comparator_results, \"test_BinaryAccuracy\", \"Fingerprint\", normalize_scores=True)\n",
    "\n",
    "# comparator_results_means = comparator_results.iloc[:,2] - mean_score\n",
    "# comparator_results_means = comparator_results_means.sort_values(ascending=False)\n",
    "fp_plot = sns.barplot(\n",
    "    data = mean_comparator_output,\n",
    "    x='Fingerprint',\n",
    "    y='test_BinaryAccuracy',\n",
    "    hue=\"Fingerprint\",\n",
    "    errorbar=None,\n",
    "    bottom=mean_score,\n",
    ")\n",
    "\n",
    "\n",
    "# The semicolons at the line end stop Seaborn printing a dataframe\n",
    "fp_plot.xaxis.set_ticks(comparator_results[\"Fingerprint\"])\n",
    "# Prevent Seaborn error if x-axis ticks not explicitly defined before the next line is run\n",
    "fp_plot.set_xticklabels(fp_plot.get_xticklabels(), rotation=40, ha=\"right\");  # Rotate X-axis labels"
   ]
  },
  {
   "cell_type": "code",
   "execution_count": 10,
   "metadata": {},
   "outputs": [
    {
     "name": "stdout",
     "output_type": "stream",
     "text": [
      "0.09697196786440515\n"
     ]
    }
   ],
   "source": [
    "list_of_scores = []\n",
    "\n",
    "for fingerprint in regular_fingerprints:\n",
    "    fp_and_acc = comparator_results.filter([\"Fingerprint\", \"test_BinaryAccuracy\"], axis=1)\n",
    "    fp_and_acc = (fp_and_acc.query('Fingerprint == @fingerprint'))\n",
    "    list_of_scores.append(fp_and_acc)\n",
    "\n",
    "\n",
    "friedman_stat, friedman_p = friedmanchisquare(*[list_of_scores[x].iloc[:, 1] for x in range(len(list_of_scores))])\n",
    "print(friedman_p)"
   ]
  },
  {
   "cell_type": "code",
   "execution_count": 9,
   "metadata": {},
   "outputs": [
    {
     "ename": "NameError",
     "evalue": "name 'model0_loss' is not defined",
     "output_type": "error",
     "traceback": [
      "\u001b[1;31m---------------------------------------------------------------------------\u001b[0m",
      "\u001b[1;31mNameError\u001b[0m                                 Traceback (most recent call last)",
      "Cell \u001b[1;32mIn[9], line 20\u001b[0m\n\u001b[0;32m     16\u001b[0m     plt\u001b[38;5;241m.\u001b[39mxlabel(\u001b[38;5;124m\"\u001b[39m\u001b[38;5;124mEpochs\u001b[39m\u001b[38;5;124m\"\u001b[39m)\n\u001b[0;32m     17\u001b[0m     plt\u001b[38;5;241m.\u001b[39mlegend()\n\u001b[1;32m---> 20\u001b[0m plot_loss_curve(model0_loss)\n",
      "\u001b[1;31mNameError\u001b[0m: name 'model0_loss' is not defined"
     ]
    }
   ],
   "source": [
    "import matplotlib.pyplot as plt\n",
    "\n",
    "\n",
    "def plot_loss_curve(results: dict[str, list[float]]):\n",
    "    train_loss = results[\"train_loss\"]\n",
    "    test_loss = results[\"test_loss\"]\n",
    "\n",
    "    # Plot loss\n",
    "    plt.figure(figsize=(10, 6))\n",
    "    \n",
    "    plt.plot(train_loss, label=\"train_loss\")\n",
    "    plt.plot(test_loss, label=\"test_loss\")\n",
    "    \n",
    "    plt.title(\"Loss vs Epochs\")\n",
    "    plt.ylabel(\"Loss\")\n",
    "    plt.xlabel(\"Epochs\")\n",
    "    plt.legend()\n",
    "\n",
    "\n",
    "plot_loss_curve(model0_loss)"
   ]
  },
  {
   "cell_type": "code",
   "execution_count": null,
   "metadata": {},
   "outputs": [],
   "source": [
    "# from Modules import My_Pytorch_Utilities\n",
    "\n",
    "# dummy_data = torch.rand([1, 2048])\n",
    "\n",
    "# dummy_data.shape\n",
    "\n",
    "# My_Pytorch_Utilities.save(model0, \"DILIst\", dummy_data.to(device))"
   ]
  }
 ],
 "metadata": {
  "kernelspec": {
   "display_name": "honours",
   "language": "python",
   "name": "python3"
  },
  "language_info": {
   "codemirror_mode": {
    "name": "ipython",
    "version": 3
   },
   "file_extension": ".py",
   "mimetype": "text/x-python",
   "name": "python",
   "nbconvert_exporter": "python",
   "pygments_lexer": "ipython3",
   "version": "3.11.6"
  }
 },
 "nbformat": 4,
 "nbformat_minor": 2
}
