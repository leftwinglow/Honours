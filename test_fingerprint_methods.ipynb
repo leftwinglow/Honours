{
 "cells": [
  {
   "cell_type": "markdown",
   "metadata": {},
   "source": [
    "## Fingerprint Comparator\n",
    "\n",
    "A relatively simple program to compare the ROC-AUC produced by different fingerprint methodologies available in Molfeat by Datamol."
   ]
  },
  {
   "cell_type": "markdown",
   "metadata": {},
   "source": [
    "Import dependencies"
   ]
  },
  {
   "cell_type": "code",
   "execution_count": 1,
   "metadata": {},
   "outputs": [],
   "source": [
    "import pandas as pd\n",
    "import seaborn as sns\n",
    "import numpy as np\n",
    "import warnings\n",
    "warnings.simplefilter(action='ignore', category=FutureWarning)\n",
    "from molfeat import calc, trans\n",
    "import datamol as dm\n",
    "from sklearn import ensemble, model_selection"
   ]
  },
  {
   "cell_type": "markdown",
   "metadata": {},
   "source": [
    "Read a generic dataset. Must have a column of SMILES strings and a binary-coded DILI column."
   ]
  },
  {
   "cell_type": "code",
   "execution_count": 2,
   "metadata": {},
   "outputs": [],
   "source": [
    "tox_df_mf = pd.read_csv('Transformed_Data/Final_DILI.csv')"
   ]
  },
  {
   "cell_type": "markdown",
   "metadata": {},
   "source": [
    "Instantiate a scikit-learn random forest classifier and define a function to compute the average ROC-AUC score."
   ]
  },
  {
   "cell_type": "code",
   "execution_count": 3,
   "metadata": {},
   "outputs": [],
   "source": [
    "model_rf_mf = ensemble.RandomForestClassifier(random_state=42)\n",
    "\n",
    "def average(lst):\n",
    "    return sum(lst) / len(lst)"
   ]
  },
  {
   "cell_type": "code",
   "execution_count": 5,
   "metadata": {},
   "outputs": [],
   "source": [
    "from molfeat.store.modelstore import ModelStore, ModelStoreError\n",
    "\n",
    "# store = ModelStore()\n",
    "# store.search(name='ChemGPT-4.7M')[0]"
   ]
  },
  {
   "cell_type": "markdown",
   "metadata": {},
   "source": [
    "### The main loop\n",
    "* Create a tuple of Molfeat fingerprint types to compare\n",
    "* Make a Pandas dataframe of SMILES strings\n",
    "* Convert SMILES strings to an arbitrary Molfeat fingerprint type using Molfeat\n",
    "* Set features & labels\n",
    "* Average the ROC-AUC score of a scikit-learn classifier model across 5 cross-validations\n",
    "* Print mean scores as they are computed & **append them to a list of scores**"
   ]
  },
  {
   "cell_type": "code",
   "execution_count": null,
   "metadata": {},
   "outputs": [],
   "source": [
    "# regular_fingerprints = ('maccs', 'avalon', 'ecfp', 'fcfp', 'topological', 'atompair', 'rdkit', 'pattern', 'layered', 'secfp') # Tuple of fingerprint types to compare\n",
    "# #regular_fingerprints = ('maccs', 'avalon')\n",
    "\n",
    "# morgan_df_mf = pd.DataFrame(tox_df_mf['SMILES']) # New dataframe of just SMILES strings\n",
    "\n",
    "# score_list = []\n",
    "\n",
    "# for regular_fingerprint in regular_fingerprints:\n",
    "#     fp_trans = trans.MoleculeTransformer(featurizer=regular_fingerprint) # Instantiate Molfeat transformer class implementing calculator defined above \n",
    "#     morgan_df_mf = np.array(fp_trans.transform(tox_df_mf['SMILES'].values)) # Generate fingerprints\n",
    "    \n",
    "#     X = morgan_df_mf # Features\n",
    "#     y = tox_df_mf['DILI?'] # Labels\n",
    "    \n",
    "#     score = average(model_selection.cross_val_score(model_rf_mf, list(X), y, scoring='roc_auc', cv=5)) # Average AUC-ROC score across n cross-validations\n",
    "#     print(f'{round(score, 3)} AUC-ROC for {regular_fingerprint} fingerprints') # Print AUC-ROC for each fingerprint type\n",
    "\n",
    "#     score_list = score_list[:] + [score] # Append averaged ROC-AUC for each fingerprint to a list\n",
    "    \n"
   ]
  },
  {
   "cell_type": "code",
   "execution_count": null,
   "metadata": {},
   "outputs": [],
   "source": [
    "# huggingface_fingerprints = ['ChemGPT-4.7M']\n",
    "\n",
    "# for huggingface_fingerprint in huggingface_fingerprints:\n",
    "#     store.load(huggingface_fingerprint, download_output_dir=f\"Hugging Face Models/{huggingface_fingerprint}\")\n"
   ]
  },
  {
   "cell_type": "code",
   "execution_count": 20,
   "metadata": {},
   "outputs": [
    {
     "name": "stderr",
     "output_type": "stream",
     "text": [
      "  0%|          | 0/1 [00:00<?, ?it/s]"
     ]
    },
    {
     "name": "stdout",
     "output_type": "stream",
     "text": [
      "0.892 AUC-ROC for maccs fingerprints\n",
      "0.887 AUC-ROC for avalon fingerprints\n",
      "0.875 AUC-ROC for ecfp fingerprints\n",
      "0.866 AUC-ROC for fcfp fingerprints\n",
      "0.867 AUC-ROC for topological fingerprints\n",
      "0.891 AUC-ROC for atompair fingerprints\n",
      "0.872 AUC-ROC for rdkit fingerprints\n",
      "0.859 AUC-ROC for pattern fingerprints\n",
      "0.893 AUC-ROC for layered fingerprints\n",
      "0.875 AUC-ROC for secfp fingerprints\n"
     ]
    },
    {
     "name": "stderr",
     "output_type": "stream",
     "text": [
      "100%|██████████| 1/1 [02:40<00:00, 160.32s/it]"
     ]
    },
    {
     "name": "stdout",
     "output_type": "stream",
     "text": [
      "0.859 AUC-ROC for ['ChemGPT-4.7M'] fingerprints\n"
     ]
    },
    {
     "name": "stderr",
     "output_type": "stream",
     "text": [
      "\n"
     ]
    }
   ],
   "source": [
    "regular_fingerprints = ('maccs', 'avalon', 'ecfp', 'fcfp', 'topological', 'atompair', 'rdkit', 'pattern', 'layered', 'secfp') # Tuple of fingerprint types to compare\n",
    "huggingface_fingerprints = ['ChemGPT-4.7M']\n",
    "\n",
    "from molfeat.trans import pretrained\n",
    "from tqdm import tqdm\n",
    "\n",
    "#morgan_df_mf = pd.DataFrame(tox_df_mf['SMILES']) # New dataframe of just SMILES strings\n",
    "\n",
    "reg_fp_scores, hf_fp_scores = [], []\n",
    "\n",
    "def reg_loop():\n",
    "    for regular_fingerprint in regular_fingerprints:\n",
    "        reg_fp_transformer = trans.MoleculeTransformer(featurizer=regular_fingerprint) # Instantiate Molfeat transformer class implementing calculator defined above \n",
    "        reg_df_mf = np.array(reg_fp_transformer.transform(tox_df_mf['SMILES'].values)) # Generate fingerprints\n",
    "        \n",
    "        X = reg_df_mf # Features\n",
    "        y = tox_df_mf['DILI?'] # Labels\n",
    "        \n",
    "        reg_score = average(model_selection.cross_val_score(model_rf_mf, list(X), y, scoring='roc_auc', cv=5)) # Average AUC-ROC score across n cross-validations\n",
    "        print(f'{round(reg_score, 3)} AUC-ROC for {regular_fingerprint} fingerprints') # Print AUC-ROC for each fingerprint type\n",
    "        reg_score_list = reg_fp_scores[:] + [reg_score] # Append averaged ROC-AUC for each fingerprint to a list\n",
    "\n",
    "def hf_loop():\n",
    "    for huggingface_fingerprint in tqdm(huggingface_fingerprints):\n",
    "        hf_fp_transformer = pretrained.PretrainedHFTransformer(kind=huggingface_fingerprint) # Requires fsspec 2023.6.0 (conda install -c conda-forge fsspec v2023.6.0)\n",
    "        hf_df_mf = np.array(hf_fp_transformer.transform(tox_df_mf['SMILES'].values)) # Generate fingerprints\n",
    "        \n",
    "        X2 = hf_df_mf # Features\n",
    "        y2 = tox_df_mf['DILI?'] # Labels\n",
    "        \n",
    "        hf_score = average(model_selection.cross_val_score(model_rf_mf, list(X2), y2, scoring='roc_auc', cv=5)) # Average AUC-ROC score across n cross-validations\n",
    "        print(f'{round(hf_score, 3)} AUC-ROC for {huggingface_fingerprints} fingerprints') # Print AUC-ROC for each fingerprint type\n",
    "        hf_score_list = hf_fp_scores[:] + [hf_score] # Append averaged ROC-AUC for each fingerprint to a list\n",
    "\n",
    "import threading\n",
    "\n",
    "p1 = threading.Thread(target=reg_loop)\n",
    "p2 = threading.Thread(target=hf_loop)\n",
    "\n",
    "p1.start()\n",
    "p2.start()\n",
    "\n",
    "print(\"It doesn't look like it's working, but it is.\")"
   ]
  },
  {
   "cell_type": "markdown",
   "metadata": {},
   "source": [
    "Create a Pandas dataframe\n",
    "* Column 1 - Fingerprint\n",
    "* Column 2 - Mean ROC-AUC score for that fingerprint across 5 cross-validations"
   ]
  },
  {
   "cell_type": "code",
   "execution_count": 23,
   "metadata": {},
   "outputs": [],
   "source": [
    "scores_df = pd.DataFrame(data=(regular_fingerprints, score_list)).transpose() # Create a Pandas dataframe of the AUC-ROC scores and the fingerprint type associated with that score\n",
    "scores_df = (scores_df\n",
    "    .rename(columns={0: 'Fingerprint', 1: 'Score (ROC-AUC)'})\n",
    ")"
   ]
  },
  {
   "cell_type": "markdown",
   "metadata": {},
   "source": [
    "Chart presentation calculations\n",
    "* Compute mean AUC-ROC score. This is used to set a the baseline (mean) score\n",
    "* Add a dataframe column for the size of the ROC-AUC score when the normalised chart is used. Necessary to prevent full-size bar being shown as should be in the case when 0 is the baseline.\n",
    "* Sort dataframe so the chart is sorted"
   ]
  },
  {
   "cell_type": "code",
   "execution_count": 24,
   "metadata": {},
   "outputs": [],
   "source": [
    "scores_mean = average(scores_df['Score (ROC-AUC)']) # Compute average AUC-ROC score for purposes of barchart normalisation\n",
    "scores_df['Score (ROC-AUC) - Normalised to Mean'] = scores_df['Score (ROC-AUC)'] - scores_mean # Barchart bar height absolute, so subtract the mean from the bar height. Otherwise bars will have their bases at `mean`, but still be full height (as if they were at a base of 0)\n",
    "\n",
    "scores_df = scores_df.sort_values('Score (ROC-AUC) - Normalised to Mean', ascending=False) # Sort the Pandas DF In descending order"
   ]
  },
  {
   "cell_type": "markdown",
   "metadata": {},
   "source": [
    "Seaborn barplot generation - Normalised to mean with rotated X-axis labels"
   ]
  },
  {
   "cell_type": "code",
   "execution_count": 25,
   "metadata": {},
   "outputs": [
    {
     "data": {
      "image/png": "[encoded data removed]",
      "text/plain": [
       "<Figure size 640x480 with 1 Axes>"
      ]
     },
     "metadata": {},
     "output_type": "display_data"
    }
   ],
   "source": [
    "# Generate a Seaborn barplot\n",
    "fp_plot = sns.barplot(\n",
    "    scores_df,\n",
    "    x='Fingerprint',\n",
    "    y='Score (ROC-AUC) - Normalised to Mean',\n",
    "    hue='Fingerprint',\n",
    "    bottom=scores_mean\n",
    ")\n",
    "\n",
    "# The semicolons at the line end stop Seaborn printing a dataframe\n",
    "fp_plot.xaxis.set_ticks(scores_df['Fingerprint']); # Prevent Seaborn error if x-axis ticks not explicitly defined before the next line is run\n",
    "fp_plot.set_xticklabels(fp_plot.get_xticklabels(), rotation=40, ha='right'); # Rotate X-axis labels"
   ]
  },
  {
   "cell_type": "code",
   "execution_count": null,
   "metadata": {},
   "outputs": [],
   "source": [
    "## Previous implementation of the fingerpirnt generator & comparator loop - Ignore, but it will work if you uncomment it.\n",
    "\n",
    "# fp_list = ['maccs', 'avalon', 'ecfp', 'ecfp-count', 'fcfp', 'topological', 'atompair', 'rdkit', 'pattern', 'layered', 'secfp']\n",
    "\n",
    "# score_list = []\n",
    "# for fingerprint in fp_list:\n",
    "#     fp_calc = calc.FPCalculator(fingerprint)\n",
    "#     fp_trans = trans.MoleculeTransformer(fp_calc)\n",
    "#     tox_df_mf[\"fp\"] = fp_trans.transform(tox_df_mf['SMILES'].values)\n",
    "#     morgan_df_mf = pd.DataFrame(tox_df_mf['fp'])\n",
    "#     morgan_df_mf.insert(len(morgan_df_mf.columns), 'DILI?', tox_df_mf['DILI?'].astype(int)) # Insert 'DILI?' column as the last column\n",
    "#     morgan_df_mf.columns = morgan_df_mf.columns.astype(str) # Set all column titles to string - Required for model\n",
    "#     X = morgan_df_mf['fp'] # Features\n",
    "#     y = morgan_df_mf['DILI?'] # Labels\n",
    "#     X_train, X_test, y_train, y_test = model_selection.train_test_split(X, y, train_size = 0.75)\n",
    "    \n",
    "#     score = average(model_selection.cross_val_score(model_rf_mf, list(X), y, scoring='roc_auc', cv=5))\n",
    "#     print(f'{round(score, 3)} AUC-ROC for {fingerprint} fingerprints')\n",
    "\n",
    "#     score_list = score_list[:] + [score]"
   ]
  },
  {
   "cell_type": "markdown",
   "metadata": {},
   "source": [
    "Version 0.1 completed on 24/10/23 @ ~ 11pm\n",
    "\n",
    "## Thanks to\n",
    "\n",
    "For the fingerprint comparator and visualisation concept  \n",
    "https://sergeykolchenko.medium.com/evaluating-molecular-representations-for-property-prediction-a-computational-chemistry-approach-93246c75be6a\n",
    "\n",
    "For examples on implementing Molfeat calculators and transformers  \n",
    "https://colab.research.google.com/github/PatWalters/practical_cheminformatics_tutorials/blob/main/ml_models/QSAR_in_8_lines.ipynb#scrollTo=8488ccfb\n",
    "\n",
    "For barchart normalisation  \n",
    "https://stackoverflow.com/questions/67037903/how-do-i-plot-a-barchart-from-the-datasets-mean-value-and-not-its-default-0-valu\n",
    "\n",
    "For barchart X-axis ordering  \n",
    "https://stackoverflow.com/questions/43770507/seaborn-bar-plot-ordering\n",
    "\n",
    "For reducing Seaborn complaining\n",
    "https://stackoverflow.com/questions/63723514/userwarning-fixedformatter-should-only-be-used-together-with-fixedlocator\n",
    "\n",
    "To fix a Jupyter Notebook warning\n",
    "https://stackoverflow.com/questions/53247985/tqdm-4-28-1-in-jupyter-notebook-intprogress-not-found-please-update-jupyter-an"
   ]
  }
 ],
 "metadata": {
  "kernelspec": {
   "display_name": "honours",
   "language": "python",
   "name": "python3"
  },
  "language_info": {
   "codemirror_mode": {
    "name": "ipython",
    "version": 3
   },
   "file_extension": ".py",
   "mimetype": "text/x-python",
   "name": "python",
   "nbconvert_exporter": "python",
   "pygments_lexer": "ipython3",
   "version": "3.11.6"
  }
 },
 "nbformat": 4,
 "nbformat_minor": 2
}
