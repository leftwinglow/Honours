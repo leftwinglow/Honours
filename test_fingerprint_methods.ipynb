{
 "cells": [
  {
   "cell_type": "markdown",
   "metadata": {},
   "source": [
    "## Fingerprint Comparator\n",
    "\n",
    "A relatively simple program to compare the ROC-AUC produced by different fingerprint methodologies available in Molfeat by Datamol."
   ]
  },
  {
   "cell_type": "markdown",
   "metadata": {},
   "source": [
    "Import dependencies"
   ]
  },
  {
   "cell_type": "code",
   "execution_count": 1,
   "metadata": {},
   "outputs": [],
   "source": [
    "import pandas as pd\n",
    "import seaborn as sns\n",
    "import numpy as np\n",
    "import warnings\n",
    "\n",
    "warnings.simplefilter(action=\"ignore\", category=FutureWarning)\n",
    "from molfeat import trans\n",
    "from molfeat.trans import pretrained\n",
    "import datamol as dm\n",
    "from sklearn import ensemble, model_selection"
   ]
  },
  {
   "cell_type": "markdown",
   "metadata": {},
   "source": [
    "Read a generic dataset. Must have a column of SMILES strings and a binary-coded DILI column."
   ]
  },
  {
   "cell_type": "code",
   "execution_count": 2,
   "metadata": {},
   "outputs": [],
   "source": [
    "tox_df_mf = pd.read_csv(\"Transformed_Data/Final_DILI.csv\")"
   ]
  },
  {
   "cell_type": "markdown",
   "metadata": {},
   "source": [
    "Instantiate a scikit-learn random forest classifier and define a function to compute the average ROC-AUC score."
   ]
  },
  {
   "cell_type": "code",
   "execution_count": 3,
   "metadata": {},
   "outputs": [],
   "source": [
    "model_rf_mf = ensemble.RandomForestClassifier(random_state=42)\n",
    "\n",
    "\n",
    "def average(lst):\n",
    "    return sum(lst) / len(lst)"
   ]
  },
  {
   "cell_type": "markdown",
   "metadata": {},
   "source": [
    "### The main loop\n",
    "* Create a tuple of Molfeat fingerprint types to compare\n",
    "* Make a Pandas dataframe of SMILES strings\n",
    "* Convert SMILES strings to an arbitrary Molfeat fingerprint type using Molfeat\n",
    "* Set features & labels\n",
    "* Average the ROC-AUC score of a scikit-learn classifier model across 5 cross-validations\n",
    "* Print mean scores as they are computed & **append them to a list of scores**"
   ]
  },
  {
   "cell_type": "code",
   "execution_count": null,
   "metadata": {},
   "outputs": [],
   "source": [
    "# regular_fingerprints = ('maccs', 'avalon', 'ecfp', 'fcfp', 'topological', 'atompair', 'rdkit', 'pattern', 'layered', 'secfp') # Tuple of fingerprint types to compare\n",
    "# #regular_fingerprints = ('maccs', 'avalon')\n",
    "\n",
    "# morgan_df_mf = pd.DataFrame(tox_df_mf['SMILES']) # New dataframe of just SMILES strings\n",
    "\n",
    "# score_list = []\n",
    "\n",
    "# for regular_fingerprint in regular_fingerprints:\n",
    "#     fp_trans = trans.MoleculeTransformer(featurizer=regular_fingerprint) # Instantiate Molfeat transformer class implementing calculator defined above\n",
    "#     morgan_df_mf = np.array(fp_trans.transform(tox_df_mf['SMILES'].values)) # Generate fingerprints\n",
    "\n",
    "#     X = morgan_df_mf # Features\n",
    "#     y = tox_df_mf['DILI?'] # Labels\n",
    "\n",
    "#     score = average(model_selection.cross_val_score(model_rf_mf, list(X), y, scoring='roc_auc', cv=5)) # Average AUC-ROC score across n cross-validations\n",
    "#     print(f'{round(score, 3)} AUC-ROC for {regular_fingerprint} fingerprints') # Print AUC-ROC for each fingerprint type\n",
    "\n",
    "#     score_list = score_list[:] + [score] # Append averaged ROC-AUC for each fingerprint to a list"
   ]
  },
  {
   "cell_type": "code",
   "execution_count": null,
   "metadata": {},
   "outputs": [],
   "source": [
    "# huggingface_fingerprints = ['ChemGPT-4.7M']\n",
    "\n",
    "# for huggingface_fingerprint in huggingface_fingerprints:\n",
    "#     store.load(huggingface_fingerprint, download_output_dir=f\"Hugging Face Models/{huggingface_fingerprint}\")"
   ]
  },
  {
   "cell_type": "code",
   "execution_count": null,
   "metadata": {},
   "outputs": [],
   "source": [
    "# regular_fingerprints = (\n",
    "#     \"maccs\",\n",
    "#     \"avalon\",\n",
    "#     \"ecfp\",\n",
    "#     \"fcfp\",\n",
    "#     \"topological\",\n",
    "#     \"atompair\",\n",
    "#     \"rdkit\",\n",
    "#     \"pattern\",\n",
    "#     \"layered\",\n",
    "#     \"secfp\",\n",
    "# )  # Tuple of fingerprint types to compare\n",
    "# huggingface_fingerprints = [\"ChemGPT-4.7M\"]\n",
    "\n",
    "# from molfeat.trans import pretrained\n",
    "# from tqdm import tqdm\n",
    "\n",
    "# # morgan_df_mf = pd.DataFrame(tox_df_mf['SMILES']) # New dataframe of just SMILES strings\n",
    "\n",
    "# reg_fp_scores, hf_fp_scores = [], []\n",
    "# y = tox_df_mf[\"DILI?\"]  # Labels\n",
    "\n",
    "\n",
    "# def reg_loop():\n",
    "#     for regular_fingerprint in regular_fingerprints:\n",
    "#         reg_fp_transformer = trans.MoleculeTransformer(featurizer=regular_fingerprint)  # Instantiate Molfeat transformer class implementing calculator defined above\n",
    "#         reg_df_mf = np.array(reg_fp_transformer.transform(tox_df_mf[\"SMILES\"].values))  # Generate fingerprints\n",
    "\n",
    "#         X = reg_df_mf  # Features\n",
    "\n",
    "#         reg_score = average(model_selection.cross_val_score(model_rf_mf, list(X), y, scoring=\"roc_auc\", cv=5))  # Average AUC-ROC score across n cross-validations\n",
    "#         print(f\"{round(reg_score, 3)} AUC-ROC for {regular_fingerprint} fingerprints\")  # Print AUC-ROC for each fingerprint type\n",
    "#         reg_score_list = reg_fp_scores[:] + [reg_score]  # Append averaged ROC-AUC for each fingerprint to a list\n",
    "\n",
    "\n",
    "# def hf_loop():\n",
    "#     for huggingface_fingerprint in tqdm(huggingface_fingerprints):\n",
    "#         hf_fp_transformer = pretrained.PretrainedHFTransformer(kind=huggingface_fingerprint)  # Requires fsspec 2023.6.0 (conda install -c conda-forge fsspec v2023.6.0)\n",
    "#         hf_df_mf = np.array(hf_fp_transformer.transform(tox_df_mf[\"SMILES\"].values))  # Generate fingerprints\n",
    "\n",
    "#         X2 = hf_df_mf  # Features\n",
    "\n",
    "#         hf_score = average(model_selection.cross_val_score(model_rf_mf, list(X2), y, scoring=\"roc_auc\", cv=5))  # Average AUC-ROC score across n cross-validations\n",
    "#         print(f\"{round(hf_score, 3)} AUC-ROC for {huggingface_fingerprints} fingerprints\")  # Print AUC-ROC for each fingerprint type\n",
    "#         hf_score_list = hf_fp_scores[:] + [hf_score]  # Append averaged ROC-AUC for each fingerprint to a list\n",
    "\n",
    "\n",
    "# import threading\n",
    "\n",
    "# p1 = threading.Thread(target=reg_loop).start()\n",
    "# # p2 = threading.Thread(target=hf_loop).start()\n",
    "\n",
    "# print(\"It doesn't look like it's working, but it is.\")"
   ]
  },
  {
   "cell_type": "code",
   "execution_count": 5,
   "metadata": {},
   "outputs": [
    {
     "data": {
      "application/vnd.jupyter.widget-view+json": {
       "model_id": "3a25bf1a4f794475abb9a332d4fe5d4f",
       "version_major": 2,
       "version_minor": 0
      },
      "text/plain": [
       "  0%|          | 0.00/736 [00:00<?, ?B/s]"
      ]
     },
     "metadata": {},
     "output_type": "display_data"
    },
    {
     "data": {
      "application/vnd.jupyter.widget-view+json": {
       "model_id": "43e0073127934f6d9b772dbe811dec2c",
       "version_major": 2,
       "version_minor": 0
      },
      "text/plain": [
       "  0%|          | 0/7 [00:00<?, ?it/s]"
      ]
     },
     "metadata": {},
     "output_type": "display_data"
    },
    {
     "data": {
      "application/vnd.jupyter.widget-view+json": {
       "model_id": "e259f6c760344883afdd160a1440340f",
       "version_major": 2,
       "version_minor": 0
      },
      "text/plain": [
       "  0%|          | 0.00/716 [00:00<?, ?B/s]"
      ]
     },
     "metadata": {},
     "output_type": "display_data"
    },
    {
     "data": {
      "application/vnd.jupyter.widget-view+json": {
       "model_id": "0628101a6899425797d3b01418ba193e",
       "version_major": 2,
       "version_minor": 0
      },
      "text/plain": [
       "  0%|          | 0/9 [00:00<?, ?it/s]"
      ]
     },
     "metadata": {},
     "output_type": "display_data"
    },
    {
     "data": {
      "application/vnd.jupyter.widget-view+json": {
       "model_id": "576812dc07f2429f98918e541c8d9378",
       "version_major": 2,
       "version_minor": 0
      },
      "text/plain": [
       "  0%|          | 0.00/839 [00:00<?, ?B/s]"
      ]
     },
     "metadata": {},
     "output_type": "display_data"
    },
    {
     "data": {
      "application/vnd.jupyter.widget-view+json": {
       "model_id": "9237966f3f684950b5016a9fb1268415",
       "version_major": 2,
       "version_minor": 0
      },
      "text/plain": [
       "  0%|          | 0/8 [00:00<?, ?it/s]"
      ]
     },
     "metadata": {},
     "output_type": "display_data"
    }
   ],
   "source": [
    "regular_fingerprints = [\n",
    "    \"maccs\",\n",
    "    \"avalon\",\n",
    "    \"ecfp\",\n",
    "    \"fcfp\",\n",
    "    \"topological\",\n",
    "    \"atompair\",\n",
    "    \"rdkit\",\n",
    "    \"pattern\",\n",
    "    \"layered\",\n",
    "    \"secfp\",\n",
    "]\n",
    "\n",
    "huggingface_fingerprints = [\n",
    "    \"ChemGPT-4.7M\",\n",
    "    \"ChemGPT-19M\",\n",
    "    \"GPT2-Zinc480M-87M\",\n",
    "    \"MolT5\",\n",
    "]\n",
    "\n",
    "\n",
    "class fingerprint_comparator:\n",
    "    def __init__(\n",
    "        self,\n",
    "        regular_fingerprints: list or str,\n",
    "        huggingface_fingerprints: list or str,\n",
    "        scoring: str,\n",
    "        smiles,\n",
    "        labels: pd.Series,\n",
    "    ) -> None:\n",
    "        \"\"\"\n",
    "        :param tuple regular_fingerprints: A tuple of Molfeat default fingerprints (e.g. MACCS)\n",
    "        :param tuple huggingface_fingerprints: A tuple of huggingface fingerprints available on the Molfeat featuriser store\n",
    "        :param scoring: A method of scikit learn scoring to use - https://scikit-learn.org/stable/modules/model_evaluation.html\n",
    "        :param smiles: A pandas series of labels for model testing\n",
    "        :param labels: A pandas series of labels for model testing\n",
    "        \"\"\"\n",
    "        self.regular_fingerprints = regular_fingerprints\n",
    "        self.huggingface_fingerprints = huggingface_fingerprints\n",
    "        self.scoring = scoring\n",
    "        self.smiles = smiles\n",
    "        self.labels = labels\n",
    "        self.reg_fp_scores, self.hf_fp_scores, self.final_score_list, self.final_fp_list = [], [], [], []\n",
    "\n",
    "    def average(self):\n",
    "        return sum(lst) / len(lst)\n",
    "\n",
    "    def reg_loop(self):\n",
    "        for regular_fingerprint in self.regular_fingerprints:\n",
    "            reg_fp_transformer = trans.MoleculeTransformer(featurizer=regular_fingerprint)\n",
    "            reg_df_mf = np.array(reg_fp_transformer.transform(self.smiles))  # Generate fingerprints\n",
    "\n",
    "            reg_score = average(model_selection.cross_val_score(model_rf_mf, reg_df_mf, self.labels, scoring=self.scoring))  # Average AUC-ROC score across n cross-validations\n",
    "            self.reg_fp_scores = self.reg_fp_scores[:] + [reg_score]  # Append averaged ROC-AUC for each fingerprint to a list\n",
    "        return self.reg_fp_scores\n",
    "\n",
    "    def hf_loop(self):\n",
    "        for huggingface_fingerprint in self.huggingface_fingerprints:\n",
    "            hf_fp_transformer = pretrained.PretrainedHFTransformer(kind=huggingface_fingerprint)  # Requires fsspec 2023.6.0 (conda install -c conda-forge fsspec v2023.6.0)\n",
    "            hf_df_mf = np.array(hf_fp_transformer.transform(self.smiles))  # Generate fingerprints\n",
    "\n",
    "            hf_score = average(model_selection.cross_val_score(model_rf_mf, hf_df_mf, self.labels, scoring=self.scoring))  # Average AUC-ROC score across n cross-validations\n",
    "            self.hf_fp_scores = self.hf_fp_scores[:] + [hf_score]  # Append averaged ROC-AUC for fingerprints to a list\n",
    "        return self.hf_fp_scores\n",
    "\n",
    "\n",
    "x = fingerprint_comparator(\n",
    "    regular_fingerprints=regular_fingerprints,\n",
    "    huggingface_fingerprints=huggingface_fingerprints,\n",
    "    scoring=\"roc_auc\",\n",
    "    smiles=tox_df_mf[\"SMILES\"],\n",
    "    labels=tox_df_mf[\"DILI?\"],\n",
    ")\n",
    "\n",
    "reg_scores = x.reg_loop()\n",
    "hf_scores = x.hf_loop()\n",
    "final_scores = reg_scores + hf_scores\n",
    "final_fingerprints = regular_fingerprints + huggingface_fingerprints"
   ]
  },
  {
   "cell_type": "markdown",
   "metadata": {},
   "source": [
    "Create a Pandas dataframe\n",
    "* Column 1 - Fingerprint\n",
    "* Column 2 - Mean ROC-AUC score for that fingerprint across 5 cross-validations"
   ]
  },
  {
   "cell_type": "code",
   "execution_count": 6,
   "metadata": {},
   "outputs": [],
   "source": [
    "scores_df = pd.DataFrame(data=(final_fingerprints, final_scores)).transpose()  # Create a Pandas dataframe of the AUC-ROC scores and the fingerprint type associated with that score\n",
    "scores_df = scores_df.rename(columns={0: \"Fingerprint\", 1: \"Score (ROC-AUC)\"})"
   ]
  },
  {
   "cell_type": "markdown",
   "metadata": {},
   "source": [
    "Chart presentation calculations\n",
    "* Compute mean AUC-ROC score. This is used to set a the baseline (mean) score\n",
    "* Add a dataframe column for the size of the ROC-AUC score when the normalised chart is used. Necessary to prevent full-size bar being shown as should be in the case when 0 is the baseline.\n",
    "* Sort dataframe so the chart is sorted"
   ]
  },
  {
   "cell_type": "code",
   "execution_count": 7,
   "metadata": {},
   "outputs": [
    {
     "name": "stdout",
     "output_type": "stream",
     "text": [
      "          Fingerprint Score (ROC-AUC) Score (ROC-AUC) - Normalised to Mean\n",
      "8             layered        0.893057                             0.023722\n",
      "0               maccs         0.89158                             0.022245\n",
      "5            atompair        0.890784                             0.021448\n",
      "1              avalon        0.886513                             0.017178\n",
      "13              MolT5        0.884113                             0.014777\n",
      "2                ecfp        0.874979                             0.005643\n",
      "9               secfp         0.87476                             0.005425\n",
      "6               rdkit        0.871878                             0.002542\n",
      "4         topological        0.867047                            -0.002288\n",
      "3                fcfp        0.865629                            -0.003707\n",
      "10       ChemGPT-4.7M        0.859455                             -0.00988\n",
      "7             pattern        0.859007                            -0.010328\n",
      "11        ChemGPT-19M        0.832174                            -0.037161\n",
      "12  GPT2-Zinc480M-87M        0.819722                            -0.049614\n"
     ]
    }
   ],
   "source": [
    "scores_mean = average(scores_df.iloc[:, 1])  # Compute average AUC-ROC score for purposes of barchart normalisation\n",
    "scores_df[\"Score (ROC-AUC) - Normalised to Mean\"] = (\n",
    "    scores_df.iloc[:, 1] - scores_mean\n",
    ")  # Barchart bar height absolute, so subtract the mean from the bar height. Otherwise bars will have their bases at `mean`, but still be full height (as if they were at a base of 0)\n",
    "\n",
    "scores_df = scores_df.sort_values(\"Score (ROC-AUC) - Normalised to Mean\", ascending=False)  # Sort the Pandas DF In descending order\n",
    "\n",
    "print(scores_df)"
   ]
  },
  {
   "cell_type": "markdown",
   "metadata": {},
   "source": [
    "Seaborn barplot generation - Normalised to mean with rotated X-axis labels"
   ]
  },
  {
   "cell_type": "code",
   "execution_count": 8,
   "metadata": {},
   "outputs": [
    {
     "data": {
      "image/png": "[encoded data removed]",
      "text/plain": [
       "<Figure size 640x480 with 1 Axes>"
      ]
     },
     "metadata": {},
     "output_type": "display_data"
    }
   ],
   "source": [
    "# Generate a Seaborn barplot\n",
    "fp_plot = sns.barplot(\n",
    "    scores_df,\n",
    "    x=\"Fingerprint\",\n",
    "    y=\"Score (ROC-AUC) - Normalised to Mean\",\n",
    "    hue=\"Fingerprint\",\n",
    "    bottom=scores_mean,\n",
    ")\n",
    "\n",
    "# The semicolons at the line end stop Seaborn printing a dataframe\n",
    "fp_plot.xaxis.set_ticks(scores_df[\"Fingerprint\"])\n",
    "# Prevent Seaborn error if x-axis ticks not explicitly defined before the next line is run\n",
    "fp_plot.set_xticklabels(fp_plot.get_xticklabels(), rotation=40, ha=\"right\");  # Rotate X-axis labels"
   ]
  },
  {
   "cell_type": "code",
   "execution_count": null,
   "metadata": {},
   "outputs": [],
   "source": [
    "## Previous implementation of the fingerpirnt generator & comparator loop - Ignore, but it will work if you uncomment it.\n",
    "\n",
    "# fp_list = ['maccs', 'avalon', 'ecfp', 'ecfp-count', 'fcfp', 'topological', 'atompair', 'rdkit', 'pattern', 'layered', 'secfp']\n",
    "\n",
    "# score_list = []\n",
    "# for fingerprint in fp_list:\n",
    "#     fp_calc = calc.FPCalculator(fingerprint)\n",
    "#     fp_trans = trans.MoleculeTransformer(fp_calc)\n",
    "#     tox_df_mf[\"fp\"] = fp_trans.transform(tox_df_mf['SMILES'].values)\n",
    "#     morgan_df_mf = pd.DataFrame(tox_df_mf['fp'])\n",
    "#     morgan_df_mf.insert(len(morgan_df_mf.columns), 'DILI?', tox_df_mf['DILI?'].astype(int)) # Insert 'DILI?' column as the last column\n",
    "#     morgan_df_mf.columns = morgan_df_mf.columns.astype(str) # Set all column titles to string - Required for model\n",
    "#     X = morgan_df_mf['fp'] # Features\n",
    "#     y = morgan_df_mf['DILI?'] # Labels\n",
    "#     X_train, X_test, y_train, y_test = model_selection.train_test_split(X, y, train_size = 0.75)\n",
    "\n",
    "#     score = average(model_selection.cross_val_score(model_rf_mf, list(X), y, scoring='roc_auc', cv=5))\n",
    "#     print(f'{round(score, 3)} AUC-ROC for {fingerprint} fingerprints')\n",
    "\n",
    "#     score_list = score_list[:] + [score]"
   ]
  },
  {
   "cell_type": "markdown",
   "metadata": {},
   "source": [
    "Version 0.1 completed on 24/10/23 @ ~ 11pm  \n",
    "0.2 - 26/10/20 ~ @11pm\n",
    "\n",
    "## Thanks to\n",
    "\n",
    "For the fingerprint comparator and visualisation concept  \n",
    "https://sergeykolchenko.medium.com/evaluating-molecular-representations-for-property-prediction-a-computational-chemistry-approach-93246c75be6a\n",
    "\n",
    "For examples on implementing Molfeat calculators and transformers  \n",
    "https://colab.research.google.com/github/PatWalters/practical_cheminformatics_tutorials/blob/main/ml_models/QSAR_in_8_lines.ipynb#scrollTo=8488ccfb\n",
    "\n",
    "For barchart normalisation  \n",
    "https://stackoverflow.com/questions/67037903/how-do-i-plot-a-barchart-from-the-datasets-mean-value-and-not-its-default-0-valu\n",
    "\n",
    "For barchart X-axis ordering  \n",
    "https://stackoverflow.com/questions/43770507/seaborn-bar-plot-ordering\n",
    "\n",
    "For reducing Seaborn complaining\n",
    "https://stackoverflow.com/questions/63723514/userwarning-fixedformatter-should-only-be-used-together-with-fixedlocator\n",
    "\n",
    "To fix a Jupyter Notebook warning\n",
    "https://stackoverflow.com/questions/53247985/tqdm-4-28-1-in-jupyter-notebook-intprogress-not-found-please-update-jupyter-an"
   ]
  }
 ],
 "metadata": {
  "kernelspec": {
   "display_name": "honours",
   "language": "python",
   "name": "python3"
  },
  "language_info": {
   "codemirror_mode": {
    "name": "ipython",
    "version": 3
   },
   "file_extension": ".py",
   "mimetype": "text/x-python",
   "name": "python",
   "nbconvert_exporter": "python",
   "pygments_lexer": "ipython3",
   "version": "3.11.6"
  }
 },
 "nbformat": 4,
 "nbformat_minor": 2
}
