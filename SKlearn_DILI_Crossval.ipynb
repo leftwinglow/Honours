{
 "cells": [
  {
   "cell_type": "markdown",
   "metadata": {
    "collapsed": false
   },
   "source": [
    "## Fingerprint Comparator\n",
    "\n",
    "A relatively simple program to compare the ROC-AUC produced by different fingerprint methodologies available in Molfeat by Datamol."
   ]
  },
  {
   "cell_type": "markdown",
   "metadata": {},
   "source": [
    "Import dependencies"
   ]
  },
  {
   "cell_type": "code",
   "execution_count": 14,
   "metadata": {
    "ExecuteTime": {
     "end_time": "2023-10-29T09:06:04.408098600Z",
     "start_time": "2023-10-29T09:06:04.402592300Z"
    }
   },
   "outputs": [],
   "source": [
    "import pandas as pd\n",
    "import seaborn as sns\n",
    "import numpy as np\n",
    "import warnings\n",
    "from tqdm import tqdm\n",
    "from Modules import Fingerprint_Comparator, Fingerprint_Generator, Misc_Utils\n",
    "\n",
    "\n",
    "from molfeat import trans\n",
    "from molfeat.trans import pretrained\n",
    "from sklearn import ensemble, model_selection\n",
    "\n",
    "warnings.simplefilter(action=\"ignore\", category=FutureWarning)"
   ]
  },
  {
   "cell_type": "markdown",
   "metadata": {},
   "source": [
    "Read a generic dataset. Must have a column of SMILES strings and a binary-coded DILI column."
   ]
  },
  {
   "cell_type": "code",
   "execution_count": 15,
   "metadata": {
    "ExecuteTime": {
     "end_time": "2023-10-29T07:30:22.421230Z",
     "start_time": "2023-10-29T07:30:22.375521200Z"
    }
   },
   "outputs": [],
   "source": [
    "tox_df = pd.read_csv(\"Transformed_Data/Final_DILI.csv\")"
   ]
  },
  {
   "cell_type": "markdown",
   "metadata": {},
   "source": [
    "Define the fingerprints to compare"
   ]
  },
  {
   "cell_type": "code",
   "execution_count": 16,
   "metadata": {
    "collapsed": false
   },
   "outputs": [],
   "source": [
    "regular_fingerprints = Fingerprint_Generator.Fingerprint_Types().regular_fingerprints()\n",
    "regular_fingerprints = ['ecfp', 'maccs', 'ecfp-count']\n",
    "\n",
    "hf_fingerprints = [\n",
    "    \"ChemGPT-4.7M\",\n",
    "    \"ChemGPT-19M\",\n",
    "    \"GPT2-Zinc480M-87M\",\n",
    "    \"MolT5\",\n",
    "]"
   ]
  },
  {
   "cell_type": "markdown",
   "metadata": {},
   "source": [
    "Instantiate a scikit-learn random forest classifier and define a function to compute the average ROC-AUC score.\n",
    "\n",
    "### The main loop\n",
    "* Create a tuple of Molfeat fingerprint types to compare\n",
    "* Make a Pandas dataframe of SMILES strings\n",
    "* Convert SMILES strings to an arbitrary Molfeat fingerprint type using Molfeat\n",
    "* Set features & labels\n",
    "* Average the ROC-AUC score of a scikit-learn classifier model across 5 cross-validations\n",
    "* Print mean scores as they are computed & **append them to a list of scores**"
   ]
  },
  {
   "cell_type": "code",
   "execution_count": 17,
   "metadata": {},
   "outputs": [
    {
     "name": "stderr",
     "output_type": "stream",
     "text": [
      "100%|██████████| 3/3 [00:07<00:00,  2.62s/it]\n"
     ]
    }
   ],
   "source": [
    "model_rf = ensemble.RandomForestClassifier(random_state=42)\n",
    "\n",
    "comparator_output = Fingerprint_Comparator.SKlearn(smiles=tox_df[\"SMILES\"],labels=tox_df[\"DILI?\"], scoring=\"roc_auc\", sklearn_classifier=model_rf).regular_fingerprint(regular_fingerprints)"
   ]
  },
  {
   "cell_type": "code",
   "execution_count": 18,
   "metadata": {},
   "outputs": [
    {
     "data": {
      "text/html": [
       "<div>\n",
       "<style scoped>\n",
       "    .dataframe tbody tr th:only-of-type {\n",
       "        vertical-align: middle;\n",
       "    }\n",
       "\n",
       "    .dataframe tbody tr th {\n",
       "        vertical-align: top;\n",
       "    }\n",
       "\n",
       "    .dataframe thead th {\n",
       "        text-align: right;\n",
       "    }\n",
       "</style>\n",
       "<table border=\"1\" class=\"dataframe\">\n",
       "  <thead>\n",
       "    <tr style=\"text-align: right;\">\n",
       "      <th></th>\n",
       "      <th>Fingerprint</th>\n",
       "      <th>Score (roc_auc)</th>\n",
       "    </tr>\n",
       "  </thead>\n",
       "  <tbody>\n",
       "    <tr>\n",
       "      <th>0</th>\n",
       "      <td>ecfp</td>\n",
       "      <td>[0.9182098765432098, 0.8641975308641975, 0.894...</td>\n",
       "    </tr>\n",
       "    <tr>\n",
       "      <th>1</th>\n",
       "      <td>maccs</td>\n",
       "      <td>[0.9583333333333334, 0.8834876543209876, 0.909...</td>\n",
       "    </tr>\n",
       "  </tbody>\n",
       "</table>\n",
       "</div>"
      ],
      "text/plain": [
       "  Fingerprint                                    Score (roc_auc)\n",
       "0        ecfp  [0.9182098765432098, 0.8641975308641975, 0.894...\n",
       "1       maccs  [0.9583333333333334, 0.8834876543209876, 0.909..."
      ]
     },
     "execution_count": 18,
     "metadata": {},
     "output_type": "execute_result"
    }
   ],
   "source": [
    "comparator_output.head(2)"
   ]
  },
  {
   "cell_type": "code",
   "execution_count": 19,
   "metadata": {},
   "outputs": [
    {
     "data": {
      "text/html": [
       "<div>\n",
       "<style scoped>\n",
       "    .dataframe tbody tr th:only-of-type {\n",
       "        vertical-align: middle;\n",
       "    }\n",
       "\n",
       "    .dataframe tbody tr th {\n",
       "        vertical-align: top;\n",
       "    }\n",
       "\n",
       "    .dataframe thead th {\n",
       "        text-align: right;\n",
       "    }\n",
       "</style>\n",
       "<table border=\"1\" class=\"dataframe\">\n",
       "  <thead>\n",
       "    <tr style=\"text-align: right;\">\n",
       "      <th></th>\n",
       "      <th>Fingerprint</th>\n",
       "      <th>Score (roc_auc)</th>\n",
       "    </tr>\n",
       "  </thead>\n",
       "  <tbody>\n",
       "    <tr>\n",
       "      <th>0</th>\n",
       "      <td>ecfp</td>\n",
       "      <td>0.91821</td>\n",
       "    </tr>\n",
       "    <tr>\n",
       "      <th>0</th>\n",
       "      <td>ecfp</td>\n",
       "      <td>0.864198</td>\n",
       "    </tr>\n",
       "  </tbody>\n",
       "</table>\n",
       "</div>"
      ],
      "text/plain": [
       "  Fingerprint Score (roc_auc)\n",
       "0        ecfp         0.91821\n",
       "0        ecfp        0.864198"
      ]
     },
     "execution_count": 19,
     "metadata": {},
     "output_type": "execute_result"
    }
   ],
   "source": [
    "comparator_output_exploded = comparator_output.explode(column=\"Score (roc_auc)\")\n",
    "comparator_output_exploded.head(2)"
   ]
  },
  {
   "cell_type": "markdown",
   "metadata": {},
   "source": [
    "Manually input desired fingerprints"
   ]
  },
  {
   "cell_type": "code",
   "execution_count": 20,
   "metadata": {},
   "outputs": [],
   "source": [
    "# fp = [str(fps) for fps in input(\"Enter fingerprints:\").split()]"
   ]
  },
  {
   "cell_type": "markdown",
   "metadata": {},
   "source": [
    "Chart presentation calculations\n",
    "* Compute mean AUC-ROC score. This is used to set a the baseline (mean) score\n",
    "* Add a dataframe column for the size of the ROC-AUC score when the normalised chart is used. Necessary to prevent full-size bar being shown as should be in the case when 0 is the baseline.\n",
    "* Sort dataframe so the chart is sorted"
   ]
  },
  {
   "cell_type": "markdown",
   "metadata": {},
   "source": [
    "Seaborn barplot generation - Normalised to mean with rotated X-axis labels"
   ]
  },
  {
   "cell_type": "code",
   "execution_count": 31,
   "metadata": {},
   "outputs": [
    {
     "data": {
      "image/png": "[encoded data removed]",
      "text/plain": [
       "<Figure size 640x480 with 1 Axes>"
      ]
     },
     "metadata": {},
     "output_type": "display_data"
    }
   ],
   "source": [
    "mean_comparator_output_exploded, scores_mean_exploded = Misc_Utils.get_average_score(comparator_output_exploded, \"Score (roc_auc)\", normalize_scores=True)\n",
    "\n",
    "# Generate Seaborn Plot with 95% CIs\n",
    "fp_plot = sns.barplot(\n",
    "    mean_comparator_output_exploded,\n",
    "    x=\"Fingerprint\",\n",
    "    y=\"Score (roc_auc)\",\n",
    "    hue=\"Fingerprint\",\n",
    "    errorbar=None,\n",
    "    bottom=scores_mean_exploded,\n",
    ")\n",
    "\n",
    "fp_plot.xaxis.set_ticks(mean_comparator_output_exploded[\"Fingerprint\"])\n",
    "fp_plot.set_xticklabels(fp_plot.get_xticklabels(), rotation=40, ha=\"right\");  # Rotate X-axis labels\n"
   ]
  },
  {
   "cell_type": "code",
   "execution_count": 115,
   "metadata": {},
   "outputs": [
    {
     "data": {
      "image/png": "[encoded data removed]",
      "text/plain": [
       "<Figure size 640x480 with 1 Axes>"
      ]
     },
     "metadata": {},
     "output_type": "display_data"
    }
   ],
   "source": [
    "# Generate a Seaborn barplot - Normalised to mean\n",
    "fp_plot_normalised = sns.barplot(\n",
    "    mean_comparator_output_exploded,\n",
    "    errorbar=None,\n",
    "    x=\"Fingerprint\",\n",
    "    y=\"Score - Normalised to Mean\",\n",
    "    hue=\"Fingerprint\",\n",
    "    bottom=scores_mean_exploded,\n",
    ")\n",
    "\n",
    "# The semicolons at the line end stop Seaborn printing a dataframe\n",
    "fp_plot_normalised.xaxis.set_ticks(mean_comparator_output_exploded[\"Fingerprint\"])\n",
    "# Prevent Seaborn error if x-axis ticks not explicitly defined before the next line is run\n",
    "fp_plot_normalised.set_xticklabels(fp_plot_normalised.get_xticklabels(), rotation=40, ha=\"right\");  # Rotate X-axis labels"
   ]
  },
  {
   "cell_type": "markdown",
   "metadata": {},
   "source": [
    "Version 0.1 completed on 24/10/23 @ ~ 11pm  \n",
    "0.2 - 26/10/20 ~ @11pm\n",
    "\n",
    "## Thanks to\n",
    "\n",
    "For the fingerprint comparator and visualisation concept  \n",
    "https://sergeykolchenko.medium.com/evaluating-molecular-representations-for-property-prediction-a-computational-chemistry-approach-93246c75be6a\n",
    "\n",
    "For examples on implementing Molfeat calculators and transformers  \n",
    "https://colab.research.google.com/github/PatWalters/practical_cheminformatics_tutorials/blob/main/ml_models/QSAR_in_8_lines.ipynb#scrollTo=8488ccfb\n",
    "\n",
    "For barchart normalisation  \n",
    "https://stackoverflow.com/questions/67037903/how-do-i-plot-a-barchart-from-the-datasets-mean-value-and-not-its-default-0-valu\n",
    "\n",
    "For barchart X-axis ordering  \n",
    "https://stackoverflow.com/questions/43770507/seaborn-bar-plot-ordering\n",
    "\n",
    "For reducing Seaborn complaining\n",
    "https://stackoverflow.com/questions/63723514/userwarning-fixedformatter-should-only-be-used-together-with-fixedlocator\n",
    "\n",
    "To fix a Jupyter Notebook warning\n",
    "https://stackoverflow.com/questions/53247985/tqdm-4-28-1-in-jupyter-notebook-intprogress-not-found-please-update-jupyter-an"
   ]
  }
 ],
 "metadata": {
  "kernelspec": {
   "display_name": "honours",
   "language": "python",
   "name": "python3"
  },
  "language_info": {
   "codemirror_mode": {
    "name": "ipython",
    "version": 3
   },
   "file_extension": ".py",
   "mimetype": "text/x-python",
   "name": "python",
   "nbconvert_exporter": "python",
   "pygments_lexer": "ipython3",
   "version": "3.11.6"
  }
 },
 "nbformat": 4,
 "nbformat_minor": 2
}
