{
 "cells": [
  {
   "cell_type": "code",
   "execution_count": 1,
   "metadata": {},
   "outputs": [],
   "source": [
    "import pandas as pd\n",
    "import datamol as dm"
   ]
  },
  {
   "cell_type": "code",
   "execution_count": 2,
   "metadata": {},
   "outputs": [
    {
     "data": {
      "text/html": [
       "<div>\n",
       "<style scoped>\n",
       "    .dataframe tbody tr th:only-of-type {\n",
       "        vertical-align: middle;\n",
       "    }\n",
       "\n",
       "    .dataframe tbody tr th {\n",
       "        vertical-align: top;\n",
       "    }\n",
       "\n",
       "    .dataframe thead th {\n",
       "        text-align: right;\n",
       "    }\n",
       "</style>\n",
       "<table border=\"1\" class=\"dataframe\">\n",
       "  <thead>\n",
       "    <tr style=\"text-align: right;\">\n",
       "      <th></th>\n",
       "      <th>edge_index</th>\n",
       "      <th>node_feat</th>\n",
       "      <th>edge_attr</th>\n",
       "      <th>y</th>\n",
       "      <th>num_nodes</th>\n",
       "    </tr>\n",
       "  </thead>\n",
       "  <tbody>\n",
       "    <tr>\n",
       "      <th>0</th>\n",
       "      <td>[[10, 0, 0, 7, 7, 3, 7, 8, 8, 4, 4, 9, 9, 5, 9...</td>\n",
       "      <td>[[0, 1, 0, 0, 0, 0, 0, 0, 0, 0, 0, 0, 0, 0, 0,...</td>\n",
       "      <td>[[1, 0, 0, 0, 0, 0, 1, 0, 0, 0, 0, 0], [1, 0, ...</td>\n",
       "      <td>1</td>\n",
       "      <td>11</td>\n",
       "    </tr>\n",
       "    <tr>\n",
       "      <th>1</th>\n",
       "      <td>[[7, 0, 0, 4, 4, 8, 8, 9, 8, 6, 6, 2, 2, 1, 6,...</td>\n",
       "      <td>[[1, 0, 0, 0, 0, 0, 0, 0, 0, 0, 0, 0, 0, 0, 0,...</td>\n",
       "      <td>[[0, 1, 0, 0, 1, 0, 1, 0, 0, 0, 0, 0], [0, 1, ...</td>\n",
       "      <td>1</td>\n",
       "      <td>10</td>\n",
       "    </tr>\n",
       "    <tr>\n",
       "      <th>2</th>\n",
       "      <td>[[9, 0, 0, 2, 0, 6, 6, 7, 7, 3, 3, 8, 3, 4, 4,...</td>\n",
       "      <td>[[1, 0, 0, 0, 0, 0, 0, 0, 0, 0, 0, 0, 0, 0, 0,...</td>\n",
       "      <td>[[1, 0, 0, 0, 1, 0, 1, 0, 0, 0, 0, 0], [1, 0, ...</td>\n",
       "      <td>1</td>\n",
       "      <td>10</td>\n",
       "    </tr>\n",
       "    <tr>\n",
       "      <th>3</th>\n",
       "      <td>[[0, 12, 12, 18, 18, 14, 14, 7, 7, 15, 15, 16,...</td>\n",
       "      <td>[[1, 0, 0, 0, 0, 0, 0, 0, 0, 0, 0, 0, 0, 0, 0,...</td>\n",
       "      <td>[[1, 0, 0, 0, 0, 0, 1, 0, 0, 0, 0, 0], [1, 0, ...</td>\n",
       "      <td>1</td>\n",
       "      <td>19</td>\n",
       "    </tr>\n",
       "    <tr>\n",
       "      <th>4</th>\n",
       "      <td>[[8, 0, 0, 5, 5, 10, 10, 11, 11, 6, 11, 2, 2, ...</td>\n",
       "      <td>[[1, 0, 0, 0, 0, 0, 0, 0, 0, 0, 0, 0, 0, 0, 0,...</td>\n",
       "      <td>[[1, 0, 0, 0, 0, 0, 1, 0, 0, 0, 0, 0], [1, 0, ...</td>\n",
       "      <td>1</td>\n",
       "      <td>12</td>\n",
       "    </tr>\n",
       "    <tr>\n",
       "      <th>...</th>\n",
       "      <td>...</td>\n",
       "      <td>...</td>\n",
       "      <td>...</td>\n",
       "      <td>...</td>\n",
       "      <td>...</td>\n",
       "    </tr>\n",
       "    <tr>\n",
       "      <th>6506</th>\n",
       "      <td>[[0, 14, 14, 24, 24, 25, 25, 36, 36, 37, 37, 3...</td>\n",
       "      <td>[[1, 0, 0, 0, 0, 0, 0, 0, 0, 0, 0, 0, 0, 0, 0,...</td>\n",
       "      <td>[[1, 0, 0, 0, 0, 0, 1, 0, 0, 0, 0, 0], [1, 0, ...</td>\n",
       "      <td>0</td>\n",
       "      <td>39</td>\n",
       "    </tr>\n",
       "    <tr>\n",
       "      <th>6507</th>\n",
       "      <td>[[7, 15, 15, 16, 16, 0, 0, 11, 11, 10, 10, 12,...</td>\n",
       "      <td>[[1, 0, 0, 0, 0, 0, 0, 0, 0, 0, 0, 0, 0, 0, 0,...</td>\n",
       "      <td>[[1, 0, 0, 0, 0, 0, 1, 0, 0, 0, 0, 0], [1, 0, ...</td>\n",
       "      <td>1</td>\n",
       "      <td>17</td>\n",
       "    </tr>\n",
       "    <tr>\n",
       "      <th>6508</th>\n",
       "      <td>[[0, 3, 3, 9, 9, 10, 9, 8, 8, 11, 11, 6, 6, 4,...</td>\n",
       "      <td>[[1, 0, 0, 0, 0, 0, 0, 0, 0, 0, 0, 0, 0, 0, 0,...</td>\n",
       "      <td>[[1, 0, 0, 0, 0, 0, 1, 0, 0, 0, 0, 0], [1, 0, ...</td>\n",
       "      <td>1</td>\n",
       "      <td>14</td>\n",
       "    </tr>\n",
       "    <tr>\n",
       "      <th>6509</th>\n",
       "      <td>[[0, 4, 4, 9, 9, 13, 13, 3, 3, 5, 5, 8, 8, 14,...</td>\n",
       "      <td>[[0, 0, 0, 0, 0, 0, 0, 1, 0, 0, 0, 0, 0, 0, 0,...</td>\n",
       "      <td>[[1, 0, 0, 0, 0, 0, 1, 0, 0, 0, 0, 0], [1, 0, ...</td>\n",
       "      <td>1</td>\n",
       "      <td>18</td>\n",
       "    </tr>\n",
       "    <tr>\n",
       "      <th>6510</th>\n",
       "      <td>[[0, 6, 6, 8, 8, 1, 1, 5, 5, 2, 2, 4, 1, 7, 7,...</td>\n",
       "      <td>[[1, 0, 0, 0, 0, 0, 0, 0, 0, 0, 0, 0, 0, 0, 0,...</td>\n",
       "      <td>[[1, 0, 0, 0, 0, 0, 1, 0, 0, 0, 0, 0], [1, 0, ...</td>\n",
       "      <td>1</td>\n",
       "      <td>9</td>\n",
       "    </tr>\n",
       "  </tbody>\n",
       "</table>\n",
       "<p>6511 rows × 5 columns</p>\n",
       "</div>"
      ],
      "text/plain": [
       "                                             edge_index  \\\n",
       "0     [[10, 0, 0, 7, 7, 3, 7, 8, 8, 4, 4, 9, 9, 5, 9...   \n",
       "1     [[7, 0, 0, 4, 4, 8, 8, 9, 8, 6, 6, 2, 2, 1, 6,...   \n",
       "2     [[9, 0, 0, 2, 0, 6, 6, 7, 7, 3, 3, 8, 3, 4, 4,...   \n",
       "3     [[0, 12, 12, 18, 18, 14, 14, 7, 7, 15, 15, 16,...   \n",
       "4     [[8, 0, 0, 5, 5, 10, 10, 11, 11, 6, 11, 2, 2, ...   \n",
       "...                                                 ...   \n",
       "6506  [[0, 14, 14, 24, 24, 25, 25, 36, 36, 37, 37, 3...   \n",
       "6507  [[7, 15, 15, 16, 16, 0, 0, 11, 11, 10, 10, 12,...   \n",
       "6508  [[0, 3, 3, 9, 9, 10, 9, 8, 8, 11, 11, 6, 6, 4,...   \n",
       "6509  [[0, 4, 4, 9, 9, 13, 13, 3, 3, 5, 5, 8, 8, 14,...   \n",
       "6510  [[0, 6, 6, 8, 8, 1, 1, 5, 5, 2, 2, 4, 1, 7, 7,...   \n",
       "\n",
       "                                              node_feat  \\\n",
       "0     [[0, 1, 0, 0, 0, 0, 0, 0, 0, 0, 0, 0, 0, 0, 0,...   \n",
       "1     [[1, 0, 0, 0, 0, 0, 0, 0, 0, 0, 0, 0, 0, 0, 0,...   \n",
       "2     [[1, 0, 0, 0, 0, 0, 0, 0, 0, 0, 0, 0, 0, 0, 0,...   \n",
       "3     [[1, 0, 0, 0, 0, 0, 0, 0, 0, 0, 0, 0, 0, 0, 0,...   \n",
       "4     [[1, 0, 0, 0, 0, 0, 0, 0, 0, 0, 0, 0, 0, 0, 0,...   \n",
       "...                                                 ...   \n",
       "6506  [[1, 0, 0, 0, 0, 0, 0, 0, 0, 0, 0, 0, 0, 0, 0,...   \n",
       "6507  [[1, 0, 0, 0, 0, 0, 0, 0, 0, 0, 0, 0, 0, 0, 0,...   \n",
       "6508  [[1, 0, 0, 0, 0, 0, 0, 0, 0, 0, 0, 0, 0, 0, 0,...   \n",
       "6509  [[0, 0, 0, 0, 0, 0, 0, 1, 0, 0, 0, 0, 0, 0, 0,...   \n",
       "6510  [[1, 0, 0, 0, 0, 0, 0, 0, 0, 0, 0, 0, 0, 0, 0,...   \n",
       "\n",
       "                                              edge_attr  y  num_nodes  \n",
       "0     [[1, 0, 0, 0, 0, 0, 1, 0, 0, 0, 0, 0], [1, 0, ...  1         11  \n",
       "1     [[0, 1, 0, 0, 1, 0, 1, 0, 0, 0, 0, 0], [0, 1, ...  1         10  \n",
       "2     [[1, 0, 0, 0, 1, 0, 1, 0, 0, 0, 0, 0], [1, 0, ...  1         10  \n",
       "3     [[1, 0, 0, 0, 0, 0, 1, 0, 0, 0, 0, 0], [1, 0, ...  1         19  \n",
       "4     [[1, 0, 0, 0, 0, 0, 1, 0, 0, 0, 0, 0], [1, 0, ...  1         12  \n",
       "...                                                 ... ..        ...  \n",
       "6506  [[1, 0, 0, 0, 0, 0, 1, 0, 0, 0, 0, 0], [1, 0, ...  0         39  \n",
       "6507  [[1, 0, 0, 0, 0, 0, 1, 0, 0, 0, 0, 0], [1, 0, ...  1         17  \n",
       "6508  [[1, 0, 0, 0, 0, 0, 1, 0, 0, 0, 0, 0], [1, 0, ...  1         14  \n",
       "6509  [[1, 0, 0, 0, 0, 0, 1, 0, 0, 0, 0, 0], [1, 0, ...  1         18  \n",
       "6510  [[1, 0, 0, 0, 0, 0, 1, 0, 0, 0, 0, 0], [1, 0, ...  1          9  \n",
       "\n",
       "[6511 rows x 5 columns]"
      ]
     },
     "execution_count": 2,
     "metadata": {},
     "output_type": "execute_result"
    }
   ],
   "source": [
    "hf_graph_dataframe = pd.read_pickle(\"C:/Users/Luke/Documents/University/5th Year/Honours Python/Transformed_Data/Hansen_HF_Graph.pkl\")\n",
    "\n",
    "hf_graph_dataframe"
   ]
  },
  {
   "cell_type": "code",
   "execution_count": 3,
   "metadata": {},
   "outputs": [
    {
     "data": {
      "text/plain": [
       "6510"
      ]
     },
     "execution_count": 3,
     "metadata": {},
     "output_type": "execute_result"
    }
   ],
   "source": [
    "len(hf_graph_dataframe)-1"
   ]
  },
  {
   "cell_type": "code",
   "execution_count": 4,
   "metadata": {},
   "outputs": [
    {
     "data": {
      "image/png": "[encoded data removed]",
      "text/plain": [
       "<Figure size 640x480 with 1 Axes>"
      ]
     },
     "metadata": {},
     "output_type": "display_data"
    }
   ],
   "source": [
    "import networkx as nx\n",
    "import matplotlib.pyplot as plt\n",
    "import pandas as pd\n",
    "\n",
    "graph_df = pd.read_pickle(\"C:/Users/Luke/Documents/University/5th Year/Honours Python/Transformed_Data/Hansen_HF_Graph.pkl\")\n",
    "\n",
    "graph = graph_df.iloc[0]\n",
    "\n",
    "edges = graph.edge_index\n",
    "num_edges = len(edges[0])\n",
    "num_nodes = graph.num_nodes\n",
    "\n",
    "G = nx.Graph()\n",
    "G.add_nodes_from(range(num_nodes))\n",
    "G.add_edges_from([(edges[0][i], edges[1][i]) for i in range(num_edges)])\n",
    "\n",
    "nx.draw(G)"
   ]
  }
 ],
 "metadata": {
  "kernelspec": {
   "display_name": "honours",
   "language": "python",
   "name": "python3"
  },
  "language_info": {
   "codemirror_mode": {
    "name": "ipython",
    "version": 3
   },
   "file_extension": ".py",
   "mimetype": "text/x-python",
   "name": "python",
   "nbconvert_exporter": "python",
   "pygments_lexer": "ipython3",
   "version": "3.11.6"
  }
 },
 "nbformat": 4,
 "nbformat_minor": 2
}
