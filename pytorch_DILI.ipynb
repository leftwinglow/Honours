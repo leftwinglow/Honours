{
 "cells": [
  {
   "cell_type": "code",
   "execution_count": 2,
   "metadata": {},
   "outputs": [],
   "source": [
    "import pandas as pd\n",
    "import numpy as np\n",
    "import torch\n",
    "from torch.utils.data import DataLoader, random_split, Dataset\n",
    "import torch.nn as nn\n",
    "import torch.optim as optim"
   ]
  },
  {
   "cell_type": "code",
   "execution_count": 3,
   "metadata": {},
   "outputs": [
    {
     "name": "stderr",
     "output_type": "stream",
     "text": [
      "[17:11:50] WARNING: not removing hydrogen atom without neighbors\n",
      "[17:11:50] WARNING: not removing hydrogen atom without neighbors\n"
     ]
    }
   ],
   "source": [
    "from Modules import Fingerprint_Generator\n",
    "\n",
    "fingerprint = \"ecfp\"\n",
    "\n",
    "df = pd.read_csv(\"Transformed_Data/DILIst_DILI.csv\", index_col=0)  # Map style dataset\n",
    "df = Fingerprint_Generator.generate_fp_column(df, df.drug, fp_type=fingerprint)\n",
    "\n",
    "df_fp = pd.DataFrame(df.iloc[:, 2])\n",
    "df_fp.insert(len(df_fp.columns), \"DILI?\", df.iloc[:, 1].astype(int))  # Insert 'DILI?' column as the last column\n",
    "\n",
    "df_fp.to_csv(\"Transformed_Data/testo\")"
   ]
  },
  {
   "cell_type": "code",
   "execution_count": 4,
   "metadata": {},
   "outputs": [],
   "source": [
    "class DILIDataset(Dataset):\n",
    "    def __init__(self, features, labels) -> None:\n",
    "        self.features = features\n",
    "        self.labels = labels\n",
    "\n",
    "    def __len__(self):\n",
    "        return len(self.labels)\n",
    "\n",
    "    def __getitem__(self, index):\n",
    "        features = self.features.iloc[index]\n",
    "        labels = self.labels.iloc[index]\n",
    "        return torch.tensor([features], dtype=torch.float32), torch.tensor([labels], dtype=torch.float32)\n",
    "        # return torch.from_numpy(np.asarray([features])), torch.from_numpy(np.asarray([labels]))\n",
    "\n",
    "\n",
    "DILIfeatures = df_fp.iloc[:, 0]\n",
    "DILIlabels = df_fp.iloc[:, 1]\n",
    "\n",
    "dataset = DILIDataset(DILIfeatures, DILIlabels)"
   ]
  },
  {
   "cell_type": "code",
   "execution_count": 5,
   "metadata": {},
   "outputs": [
    {
     "name": "stdout",
     "output_type": "stream",
     "text": [
      "Dataset split succeeded\n"
     ]
    }
   ],
   "source": [
    "torch.manual_seed(42)\n",
    "\n",
    "BATCH_SIZE = 12\n",
    "\n",
    "train_size = int(len(dataset) * 0.8)\n",
    "validation_size = len(dataset) - train_size\n",
    "\n",
    "train_data, validation_data = random_split(dataset, [train_size, validation_size])\n",
    "\n",
    "if len(train_data) + len(validation_data) == len(dataset):\n",
    "    print(\"Dataset split succeeded\")\n",
    "else:\n",
    "    print(\"Dataset split failed\")\n",
    "\n",
    "train_dataloader = DataLoader(dataset, batch_size=BATCH_SIZE, shuffle=True)\n",
    "test_dataloader = DataLoader(dataset, batch_size=BATCH_SIZE, shuffle=True)"
   ]
  },
  {
   "cell_type": "code",
   "execution_count": 6,
   "metadata": {},
   "outputs": [
    {
     "name": "stdout",
     "output_type": "stream",
     "text": [
      "Using cuda device: NVIDIA GeForce GTX 1070\n"
     ]
    }
   ],
   "source": [
    "# Set the device to GPU if available\n",
    "device = \"cuda\" if torch.cuda.is_available() else \"cpu\"\n",
    "print(f\"Using {device} device: {torch.cuda.get_device_name(0)}\")"
   ]
  },
  {
   "cell_type": "code",
   "execution_count": 50,
   "metadata": {},
   "outputs": [],
   "source": [
    "class DILI_Predictor(nn.Module):\n",
    "    def __init__(self, input_size, hidden_size, output_size) -> None:\n",
    "        super().__init__()\n",
    "        self.fc1 = nn.Linear(input_size, hidden_size)\n",
    "        self.fc2 = nn.Linear(hidden_size, hidden_size)\n",
    "        self.fc3 = nn.Linear(hidden_size, output_size)\n",
    "        self.sigmoid = nn.Sigmoid()\n",
    "\n",
    "    def forward(self, x):\n",
    "        model_output = self.fc1(x)\n",
    "        model_output = torch.relu(model_output)\n",
    "        model_output = self.fc2(model_output)\n",
    "        model_output = torch.relu(model_output)\n",
    "        model_output = self.fc3(model_output)\n",
    "        model_output = self.sigmoid(model_output)\n",
    "        return model_output\n",
    "\n",
    "\n",
    "model0 = DILI_Predictor(2048, 512, 1).to(device)"
   ]
  },
  {
   "cell_type": "code",
   "execution_count": 8,
   "metadata": {},
   "outputs": [
    {
     "name": "stderr",
     "output_type": "stream",
     "text": [
      "c:\\Users\\Luke\\anaconda3\\envs\\honours\\Lib\\site-packages\\torchaudio\\backend\\utils.py:74: UserWarning: No audio backend is available.\n",
      "  warnings.warn(\"No audio backend is available.\")\n"
     ]
    }
   ],
   "source": [
    "from torchmetrics import classification\n",
    "\n",
    "b_acc = classification.BinaryAccuracy().to(device)\n",
    "b_auroc = classification.BinaryAUROC(thresholds=None).to(device)\n",
    "\n",
    "\n",
    "def train_step(model: torch.nn.Module, dataloader: DataLoader, loss_fn: torch.nn.Module, optimizer: torch.optim.Optimizer):\n",
    "    model.train()\n",
    "\n",
    "    train_loss, train_accuracy, train_auroc = 0, 0, 0\n",
    "\n",
    "    for batch, (X, y) in enumerate(dataloader):\n",
    "        X, y = X.to(device), y.to(device)\n",
    "\n",
    "        predicted_y = model0(X)\n",
    "        predicted_y = predicted_y.squeeze(1)\n",
    "        # print(predicted_y.shape); print(y.shape) #  Uncomment to confirm shape\n",
    "\n",
    "        loss = loss_fn(predicted_y, y)\n",
    "        train_loss += loss.item()\n",
    "\n",
    "        optimizer.zero_grad()\n",
    "        loss.backward()\n",
    "        optimizer.step()\n",
    "\n",
    "        train_accuracy += b_acc(predicted_y, y)\n",
    "        train_auroc += b_auroc(predicted_y, y)\n",
    "\n",
    "    # Adjust metrics to get average loss and accuracy per batch\n",
    "    train_loss = train_loss / len(dataloader)\n",
    "    train_acc = train_accuracy / len(dataloader)\n",
    "    train_auroc = train_auroc / len(dataloader)\n",
    "    return train_loss, train_acc, train_auroc"
   ]
  },
  {
   "cell_type": "code",
   "execution_count": 9,
   "metadata": {},
   "outputs": [],
   "source": [
    "def test_step(model: torch.nn.Module, dataloader: DataLoader, loss_fn: torch.nn.Module):\n",
    "    model.eval()\n",
    "\n",
    "    test_loss, test_accuracy, test_auroc = 0, 0, 0\n",
    "\n",
    "    with torch.inference_mode():\n",
    "        for batch, (X, y) in enumerate(dataloader):\n",
    "            X, y = X.to(device), y.to(device)\n",
    "\n",
    "            test_predicted_y = model0(X)\n",
    "            test_predicted_y = test_predicted_y.squeeze(1)\n",
    "            # print(test_predicted_y.shape); print(y.shape)#  Uncomment to confirm shape\n",
    "\n",
    "            loss = loss_fn(test_predicted_y, y)\n",
    "            test_loss += loss.item()\n",
    "\n",
    "            test_accuracy += b_acc(test_predicted_y, y)\n",
    "            test_auroc += b_auroc(test_predicted_y, y)\n",
    "\n",
    "    # Adjust metrics to get average loss and accuracy per batch\n",
    "    dataloader_len = len(dataloader)\n",
    "    test_loss = test_loss / dataloader_len\n",
    "    test_acc = test_accuracy / dataloader_len\n",
    "    test_auroc = test_auroc / dataloader_len\n",
    "    return test_loss, test_acc, test_auroc"
   ]
  },
  {
   "cell_type": "code",
   "execution_count": 10,
   "metadata": {},
   "outputs": [],
   "source": [
    "DP = 2\n",
    "\n",
    "\n",
    "def train(model: torch.nn.Module, train_dataloader: DataLoader, test_dataloader: DataLoader, optimizer: torch.optim.Optimizer, loss_fn: torch.nn.Module, epochs: int):\n",
    "    results = {\"train_loss\": [], \"train_acc\": [], \"test_loss\": [], \"test_acc\": []}\n",
    "\n",
    "    for epoch in range(epochs):\n",
    "        train_loss, train_accuracy, train_auroc = train_step(model=model, dataloader=train_dataloader, loss_fn=loss_fn, optimizer=optimizer)\n",
    "        test_loss, test_accuracy, test_auroc = test_step(model=model, dataloader=test_dataloader, loss_fn=loss_fn)\n",
    "\n",
    "        # 4. Print out what's happening\n",
    "        print(f\"Epoch: {epoch+1} | \" f\"train_loss: {train_loss:.{DP}f} | \" f\"train_acc: {train_accuracy:.{DP}f} | \" f\"test_loss: {test_loss:.{DP}f} | \" f\"test_acc: {test_accuracy:.{DP}f} | train_auroc:{train_auroc:.{DP}f} | test_auroc:{test_auroc:.{DP}f}\")\n",
    "\n",
    "        # 5. Update results dictionary\n",
    "        results[\"train_loss\"].append(train_loss)\n",
    "        results[\"train_acc\"].append(train_accuracy)\n",
    "        # results[\"train_auroc\"].append(train_auroc)\n",
    "        results[\"test_loss\"].append(test_loss)\n",
    "        results[\"test_acc\"].append(test_accuracy)\n",
    "        # results[\"test_auroc\"].append(test_auroc)\n",
    "\n",
    "    # 6. Return the filled results at the end of the epochs\n",
    "    return results"
   ]
  },
  {
   "cell_type": "code",
   "execution_count": 51,
   "metadata": {},
   "outputs": [
    {
     "name": "stdout",
     "output_type": "stream",
     "text": [
      "Epoch: 1 | train_loss: 0.68 | train_acc: 0.63 | test_loss: 0.57 | test_acc: 0.79 | train_auroc:0.61 | test_auroc:0.87\n",
      "Epoch: 2 | train_loss: 0.52 | train_acc: 0.77 | test_loss: 0.42 | test_acc: 0.86 | train_auroc:0.82 | test_auroc:0.94\n",
      "Epoch: 3 | train_loss: 0.33 | train_acc: 0.87 | test_loss: 0.61 | test_acc: 0.75 | train_auroc:0.95 | test_auroc:0.89\n"
     ]
    },
    {
     "name": "stderr",
     "output_type": "stream",
     "text": [
      "c:\\Users\\Luke\\anaconda3\\envs\\honours\\Lib\\site-packages\\torchmetrics\\utilities\\prints.py:43: UserWarning: No negative samples in targets, false positive value should be meaningless. Returning zero tensor in false positive score\n",
      "  warnings.warn(*args, **kwargs)  # noqa: B028\n"
     ]
    },
    {
     "name": "stdout",
     "output_type": "stream",
     "text": [
      "Epoch: 4 | train_loss: 0.27 | train_acc: 0.90 | test_loss: 0.18 | test_acc: 0.95 | train_auroc:0.96 | test_auroc:0.96\n",
      "Epoch: 5 | train_loss: 0.17 | train_acc: 0.94 | test_loss: 0.11 | test_acc: 0.95 | train_auroc:0.98 | test_auroc:0.98\n",
      "Epoch: 6 | train_loss: 0.14 | train_acc: 0.95 | test_loss: 0.08 | test_acc: 0.97 | train_auroc:0.98 | test_auroc:0.99\n",
      "Epoch: 7 | train_loss: 0.09 | train_acc: 0.97 | test_loss: 0.06 | test_acc: 0.97 | train_auroc:1.00 | test_auroc:1.00\n",
      "Epoch: 8 | train_loss: 0.08 | train_acc: 0.97 | test_loss: 0.08 | test_acc: 0.98 | train_auroc:1.00 | test_auroc:1.00\n",
      "Epoch: 9 | train_loss: 0.08 | train_acc: 0.96 | test_loss: 0.04 | test_acc: 0.99 | train_auroc:1.00 | test_auroc:1.00\n",
      "Epoch: 10 | train_loss: 0.07 | train_acc: 0.98 | test_loss: 0.03 | test_acc: 0.99 | train_auroc:1.00 | test_auroc:1.00\n"
     ]
    }
   ],
   "source": [
    "# Define loss function and optimizer\n",
    "EPOCH_COUNT = 10\n",
    "loss_fn = nn.BCELoss()\n",
    "optimizer = optim.Adam(model0.parameters(), lr=0.01)\n",
    "\n",
    "model0_results = train(model=model0, train_dataloader=train_dataloader, test_dataloader=test_dataloader, optimizer=optimizer, loss_fn=loss_fn, epochs=EPOCH_COUNT)"
   ]
  },
  {
   "cell_type": "code",
   "execution_count": 52,
   "metadata": {},
   "outputs": [
    {
     "data": {
      "image/png": "[encoded data removed]",
      "text/plain": [
       "<Figure size 640x480 with 1 Axes>"
      ]
     },
     "metadata": {},
     "output_type": "display_data"
    }
   ],
   "source": [
    "import matplotlib.pyplot as plt\n",
    "\n",
    "\n",
    "def plot_loss_curve(results: dict[str, list[float]]):\n",
    "    train_loss = results[\"train_loss\"]\n",
    "    test_loss = results[\"test_loss\"]\n",
    "\n",
    "    # Plot loss\n",
    "    plt.subplot(1, 2, 1)\n",
    "    plt.plot(train_loss, label=\"train_loss\")\n",
    "    plt.plot(test_loss, label=\"test_loss\")\n",
    "    plt.title(\"Loss\")\n",
    "    plt.xlabel(\"Epochs\")\n",
    "    plt.legend()\n",
    "\n",
    "\n",
    "plot_loss_curve(model0_results)"
   ]
  },
  {
   "cell_type": "code",
   "execution_count": 54,
   "metadata": {},
   "outputs": [
    {
     "name": "stdout",
     "output_type": "stream",
     "text": [
      "Directory for today's PyTorch models already exists at Pytorch_Models/12-11-2023. Placing saved modles in here.\n",
      "================ Diagnostic Run torch.onnx.export version 2.0.1 ================\n",
      "verbose: False, log level: Level.ERROR\n",
      "======================= 0 NONE 0 NOTE 0 WARNING 0 ERROR ========================\n",
      "\n"
     ]
    }
   ],
   "source": [
    "from Modules import Save_PyTorch_Models\n",
    "\n",
    "dummy_data = torch.rand([1, 2048])\n",
    "\n",
    "dummy_data.shape\n",
    "\n",
    "Save_PyTorch_Models.save(model0, \"DILIst\", dummy_data.to(device))"
   ]
  },
  {
   "cell_type": "code",
   "execution_count": 56,
   "metadata": {},
   "outputs": [
    {
     "name": "stdout",
     "output_type": "stream",
     "text": [
      "torch.Size([1, 2048])\n"
     ]
    },
    {
     "ename": "RuntimeError",
     "evalue": "mat1 and mat2 must have the same dtype",
     "output_type": "error",
     "traceback": [
      "\u001b[1;31m---------------------------------------------------------------------------\u001b[0m",
      "\u001b[1;31mRuntimeError\u001b[0m                              Traceback (most recent call last)",
      "\u001b[1;32mc:\\Users\\Luke\\Documents\\University\\5th Year\\Honours Python\\pytorch_DILI.ipynb Cell 13\u001b[0m line \u001b[0;36m1\n\u001b[0;32m     <a href='vscode-notebook-cell:/c%3A/Users/Luke/Documents/University/5th%20Year/Honours%20Python/pytorch_DILI.ipynb#X40sZmlsZQ%3D%3D?line=10'>11</a>\u001b[0m \u001b[39mwith\u001b[39;00m torch\u001b[39m.\u001b[39mno_grad():\n\u001b[0;32m     <a href='vscode-notebook-cell:/c%3A/Users/Luke/Documents/University/5th%20Year/Honours%20Python/pytorch_DILI.ipynb#X40sZmlsZQ%3D%3D?line=11'>12</a>\u001b[0m     model0\u001b[39m.\u001b[39meval()\n\u001b[1;32m---> <a href='vscode-notebook-cell:/c%3A/Users/Luke/Documents/University/5th%20Year/Honours%20Python/pytorch_DILI.ipynb#X40sZmlsZQ%3D%3D?line=12'>13</a>\u001b[0m     output \u001b[39m=\u001b[39m model0(validation_fp)\n\u001b[0;32m     <a href='vscode-notebook-cell:/c%3A/Users/Luke/Documents/University/5th%20Year/Honours%20Python/pytorch_DILI.ipynb#X40sZmlsZQ%3D%3D?line=13'>14</a>\u001b[0m     prediction \u001b[39m=\u001b[39m output\u001b[39m.\u001b[39mitem()\n\u001b[0;32m     <a href='vscode-notebook-cell:/c%3A/Users/Luke/Documents/University/5th%20Year/Honours%20Python/pytorch_DILI.ipynb#X40sZmlsZQ%3D%3D?line=15'>16</a>\u001b[0m \u001b[39mprint\u001b[39m(\u001b[39mf\u001b[39m\u001b[39m\"\u001b[39m\u001b[39mPrediction for \u001b[39m\u001b[39m{\u001b[39;00mvalidation_smiles\u001b[39m}\u001b[39;00m\u001b[39m: \u001b[39m\u001b[39m{\u001b[39;00mprediction\u001b[39m:\u001b[39;00m\u001b[39m.4f\u001b[39m\u001b[39m}\u001b[39;00m\u001b[39m\"\u001b[39m)\n",
      "File \u001b[1;32mc:\\Users\\Luke\\anaconda3\\envs\\honours\\Lib\\site-packages\\torch\\nn\\modules\\module.py:1501\u001b[0m, in \u001b[0;36mModule._call_impl\u001b[1;34m(self, *args, **kwargs)\u001b[0m\n\u001b[0;32m   1496\u001b[0m \u001b[39m# If we don't have any hooks, we want to skip the rest of the logic in\u001b[39;00m\n\u001b[0;32m   1497\u001b[0m \u001b[39m# this function, and just call forward.\u001b[39;00m\n\u001b[0;32m   1498\u001b[0m \u001b[39mif\u001b[39;00m \u001b[39mnot\u001b[39;00m (\u001b[39mself\u001b[39m\u001b[39m.\u001b[39m_backward_hooks \u001b[39mor\u001b[39;00m \u001b[39mself\u001b[39m\u001b[39m.\u001b[39m_backward_pre_hooks \u001b[39mor\u001b[39;00m \u001b[39mself\u001b[39m\u001b[39m.\u001b[39m_forward_hooks \u001b[39mor\u001b[39;00m \u001b[39mself\u001b[39m\u001b[39m.\u001b[39m_forward_pre_hooks\n\u001b[0;32m   1499\u001b[0m         \u001b[39mor\u001b[39;00m _global_backward_pre_hooks \u001b[39mor\u001b[39;00m _global_backward_hooks\n\u001b[0;32m   1500\u001b[0m         \u001b[39mor\u001b[39;00m _global_forward_hooks \u001b[39mor\u001b[39;00m _global_forward_pre_hooks):\n\u001b[1;32m-> 1501\u001b[0m     \u001b[39mreturn\u001b[39;00m forward_call(\u001b[39m*\u001b[39;49margs, \u001b[39m*\u001b[39;49m\u001b[39m*\u001b[39;49mkwargs)\n\u001b[0;32m   1502\u001b[0m \u001b[39m# Do not call functions when jit is used\u001b[39;00m\n\u001b[0;32m   1503\u001b[0m full_backward_hooks, non_full_backward_hooks \u001b[39m=\u001b[39m [], []\n",
      "\u001b[1;32mc:\\Users\\Luke\\Documents\\University\\5th Year\\Honours Python\\pytorch_DILI.ipynb Cell 13\u001b[0m line \u001b[0;36m1\n\u001b[0;32m      <a href='vscode-notebook-cell:/c%3A/Users/Luke/Documents/University/5th%20Year/Honours%20Python/pytorch_DILI.ipynb#X40sZmlsZQ%3D%3D?line=8'>9</a>\u001b[0m \u001b[39mdef\u001b[39;00m \u001b[39mforward\u001b[39m(\u001b[39mself\u001b[39m, x):\n\u001b[1;32m---> <a href='vscode-notebook-cell:/c%3A/Users/Luke/Documents/University/5th%20Year/Honours%20Python/pytorch_DILI.ipynb#X40sZmlsZQ%3D%3D?line=9'>10</a>\u001b[0m     model_output \u001b[39m=\u001b[39m \u001b[39mself\u001b[39;49m\u001b[39m.\u001b[39;49mfc1(x)\n\u001b[0;32m     <a href='vscode-notebook-cell:/c%3A/Users/Luke/Documents/University/5th%20Year/Honours%20Python/pytorch_DILI.ipynb#X40sZmlsZQ%3D%3D?line=10'>11</a>\u001b[0m     model_output \u001b[39m=\u001b[39m torch\u001b[39m.\u001b[39mrelu(model_output)\n\u001b[0;32m     <a href='vscode-notebook-cell:/c%3A/Users/Luke/Documents/University/5th%20Year/Honours%20Python/pytorch_DILI.ipynb#X40sZmlsZQ%3D%3D?line=11'>12</a>\u001b[0m     model_output \u001b[39m=\u001b[39m \u001b[39mself\u001b[39m\u001b[39m.\u001b[39mfc2(model_output)\n",
      "File \u001b[1;32mc:\\Users\\Luke\\anaconda3\\envs\\honours\\Lib\\site-packages\\torch\\nn\\modules\\module.py:1501\u001b[0m, in \u001b[0;36mModule._call_impl\u001b[1;34m(self, *args, **kwargs)\u001b[0m\n\u001b[0;32m   1496\u001b[0m \u001b[39m# If we don't have any hooks, we want to skip the rest of the logic in\u001b[39;00m\n\u001b[0;32m   1497\u001b[0m \u001b[39m# this function, and just call forward.\u001b[39;00m\n\u001b[0;32m   1498\u001b[0m \u001b[39mif\u001b[39;00m \u001b[39mnot\u001b[39;00m (\u001b[39mself\u001b[39m\u001b[39m.\u001b[39m_backward_hooks \u001b[39mor\u001b[39;00m \u001b[39mself\u001b[39m\u001b[39m.\u001b[39m_backward_pre_hooks \u001b[39mor\u001b[39;00m \u001b[39mself\u001b[39m\u001b[39m.\u001b[39m_forward_hooks \u001b[39mor\u001b[39;00m \u001b[39mself\u001b[39m\u001b[39m.\u001b[39m_forward_pre_hooks\n\u001b[0;32m   1499\u001b[0m         \u001b[39mor\u001b[39;00m _global_backward_pre_hooks \u001b[39mor\u001b[39;00m _global_backward_hooks\n\u001b[0;32m   1500\u001b[0m         \u001b[39mor\u001b[39;00m _global_forward_hooks \u001b[39mor\u001b[39;00m _global_forward_pre_hooks):\n\u001b[1;32m-> 1501\u001b[0m     \u001b[39mreturn\u001b[39;00m forward_call(\u001b[39m*\u001b[39;49margs, \u001b[39m*\u001b[39;49m\u001b[39m*\u001b[39;49mkwargs)\n\u001b[0;32m   1502\u001b[0m \u001b[39m# Do not call functions when jit is used\u001b[39;00m\n\u001b[0;32m   1503\u001b[0m full_backward_hooks, non_full_backward_hooks \u001b[39m=\u001b[39m [], []\n",
      "File \u001b[1;32mc:\\Users\\Luke\\anaconda3\\envs\\honours\\Lib\\site-packages\\torch\\nn\\modules\\linear.py:114\u001b[0m, in \u001b[0;36mLinear.forward\u001b[1;34m(self, input)\u001b[0m\n\u001b[0;32m    113\u001b[0m \u001b[39mdef\u001b[39;00m \u001b[39mforward\u001b[39m(\u001b[39mself\u001b[39m, \u001b[39minput\u001b[39m: Tensor) \u001b[39m-\u001b[39m\u001b[39m>\u001b[39m Tensor:\n\u001b[1;32m--> 114\u001b[0m     \u001b[39mreturn\u001b[39;00m F\u001b[39m.\u001b[39;49mlinear(\u001b[39minput\u001b[39;49m, \u001b[39mself\u001b[39;49m\u001b[39m.\u001b[39;49mweight, \u001b[39mself\u001b[39;49m\u001b[39m.\u001b[39;49mbias)\n",
      "\u001b[1;31mRuntimeError\u001b[0m: mat1 and mat2 must have the same dtype"
     ]
    }
   ],
   "source": [
    "## Assuming you have loaded_model and device available\n",
    "\n",
    "from Modules import Fingerprint_Generator\n",
    "\n",
    "validation_smiles = \"Nc1ccc2c(oc3ccccc23)c1\"\n",
    "\n",
    "validation_fp = Fingerprint_Generator.Smiles_To_Fingerprint(validation_smiles, fingerprint).astype(torch.Tensor)\n",
    "validation_fp = validation_fp.to(device).squeeze(1)\n",
    "print(validation_fp.shape)\n",
    "\n",
    "with torch.no_grad():\n",
    "    model0.eval()\n",
    "    output = model0(validation_fp)\n",
    "    prediction = output.item()\n",
    "\n",
    "print(f\"Prediction for {validation_smiles}: {prediction:.4f}\")"
   ]
  },
  {
   "cell_type": "markdown",
   "metadata": {},
   "source": [
    "from torchmetrics import classification\n",
    "\n",
    "# Set the number of epochs (how many times the model will pass over the training data)\n",
    "epochs = 11\n",
    "\n",
    "\n",
    "b_auroc = classification.BinaryAUROC(thresholds=None)\n",
    "bcm = classification.BinaryConfusionMatrix()\n",
    "\n",
    "# Create empty loss lists to track values\n",
    "train_loss_values = []\n",
    "test_loss_values = []\n",
    "epoch_count = []\n",
    "\n",
    "for epoch in range(epochs):\n",
    "    ### Training\n",
    "\n",
    "    # Put model in training mode (this is the default state of a model)\n",
    "    model0.train()\n",
    "\n",
    "    # 1. Forward pass on train data using the forward() method inside\n",
    "    predicted_labels = model0(train_features)\n",
    "\n",
    "    # 2. Calculate the loss (how different are our models predictions to the ground truth)\n",
    "    train_loss = loss_fn(predicted_labels, train_labels)\n",
    "\n",
    "    ### Back propagation\n",
    "    optimizer.zero_grad()  # 3. Zero grad of the optimizer\n",
    "    train_loss.backward()  # 4. Loss backwards\n",
    "    optimizer.step()  # 5. Progress the optimizer, update weights\n",
    "\n",
    "    ### Testing\n",
    "\n",
    "    # Put the model in evaluation mode\n",
    "    model0.eval()\n",
    "\n",
    "    with torch.inference_mode():\n",
    "        # 1. Forward pass on test data\n",
    "        test_pred = model0(train_features)\n",
    "\n",
    "        # 2. Caculate loss on test data\n",
    "        test_loss = loss_fn(test_pred, train_labels.type(torch.float))  # predictions come in torch.float datatype, so comparisons need to be done with tensors of the same type\n",
    "\n",
    "        # Print out what's happening\n",
    "        if epoch % 2 == 0:\n",
    "            epoch_count.append(epoch)\n",
    "            train_loss_values.append(train_loss.detach().numpy())\n",
    "            test_loss_values.append(test_loss.detach().numpy())\n",
    "\n",
    "            # print(test_pred); print(train_labels)\n",
    "            print(f\"Epoch: {epoch} | MAE Train Loss: {train_loss:.3f} | MAE Test Loss: {test_loss:.3f} | AUROC: {b_auroc(test_pred, train_labels)} \\n Binary Confusion Matrix: \\n {bcm(test_pred, train_labels)} \\n {'-'*20} \")"
   ]
  },
  {
   "cell_type": "markdown",
   "metadata": {},
   "source": [
    "def train_one_epoch(epoch_index, tb_writer):\n",
    "    running_loss = 0.\n",
    "    last_loss = 0.\n",
    "\n",
    "    # Here, we use enumerate(training_loader) instead of\n",
    "    # iter(training_loader) so that we can track the batch\n",
    "    # index and do some intra-epoch reporting\n",
    "    for i, data in enumerate(train_dataloader):\n",
    "        # Every data instance is an input + label pair\n",
    "        inputs, labels = data\n",
    "\n",
    "        # Zero your gradients for every batch!\n",
    "        optimizer.zero_grad()\n",
    "\n",
    "        # Make predictions for this batch\n",
    "        outputs = model0(inputs)\n",
    "\n",
    "        # Compute the loss and its gradients\n",
    "        loss = loss_fn(outputs, labels)\n",
    "        loss.backward()\n",
    "\n",
    "        # Adjust learning weights\n",
    "        optimizer.step()\n",
    "\n",
    "        # Gather data and report\n",
    "        running_loss += loss.item()\n",
    "        if i % 1000 == 999:\n",
    "            last_loss = running_loss / 1000 # loss per batch\n",
    "            print('  batch {} loss: {}'.format(i + 1, last_loss))\n",
    "            tb_x = epoch_index * len(train_dataloader) + i + 1\n",
    "            tb_writer.add_scalar('Loss/train', last_loss, tb_x)\n",
    "            running_loss = 0.\n",
    "\n",
    "    return last_loss"
   ]
  },
  {
   "cell_type": "markdown",
   "metadata": {},
   "source": [
    "# Initializing in a separate cell so we can easily add more epochs to the same run\n",
    "from datetime import datetime\n",
    "\n",
    "timestamp = datetime.now().strftime('%Y%m%d_%H%M%S')\n",
    "writer = SummaryWriter('runs/fashion_trainer_{}'.format(timestamp))\n",
    "epoch_number = 0\n",
    "\n",
    "EPOCHS = 5\n",
    "\n",
    "best_vloss = 1_000_000.\n",
    "\n",
    "for epoch in range(EPOCHS):\n",
    "    print('EPOCH {}:'.format(epoch_number + 1))\n",
    "\n",
    "    # Make sure gradient tracking is on, and do a pass over the data\n",
    "    model0.train()\n",
    "    avg_loss = train_one_epoch(epoch_number, writer)\n",
    "\n",
    "\n",
    "    running_vloss = 0.0\n",
    "    # Set the model to evaluation mode, disabling dropout and using population\n",
    "    # statistics for batch normalization.\n",
    "    model0.eval()\n",
    "\n",
    "    # Disable gradient computation and reduce memory consumption.\n",
    "    with torch.no_grad():\n",
    "        for i, vdata in enumerate(test_dataloader):\n",
    "            vinputs, vlabels = vdata\n",
    "            voutputs = model0(vinputs)\n",
    "            vloss = loss_fn(voutputs, vlabels)\n",
    "            running_vloss += vloss\n",
    "\n",
    "    avg_vloss = running_vloss / (i + 1)\n",
    "    print(f\"MAE Train Loss: {avg_loss} | MAE Validation Loss: {avg_vloss}\")\n",
    "\n",
    "    # Log the running loss averaged per batch\n",
    "    # for both training and validation\n",
    "    writer.add_scalars('Training vs. Validation Loss',\n",
    "                    { 'Training' : avg_loss, 'Validation' : avg_vloss },\n",
    "                    epoch_number + 1)\n",
    "    writer.flush()\n",
    "\n",
    "    # Track best performance, and save the model's state\n",
    "    if avg_vloss < best_vloss:\n",
    "        best_vloss = avg_vloss\n",
    "        model_path = 'model_{}_{}'.format(timestamp, epoch_number)\n",
    "        torch.save(model0.state_dict(), model_path)\n",
    "\n",
    "    epoch_number += 1"
   ]
  }
 ],
 "metadata": {
  "kernelspec": {
   "display_name": "honours",
   "language": "python",
   "name": "python3"
  },
  "language_info": {
   "codemirror_mode": {
    "name": "ipython",
    "version": 3
   },
   "file_extension": ".py",
   "mimetype": "text/x-python",
   "name": "python",
   "nbconvert_exporter": "python",
   "pygments_lexer": "ipython3",
   "version": "3.11.6"
  }
 },
 "nbformat": 4,
 "nbformat_minor": 2
}
