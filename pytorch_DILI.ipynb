{
 "cells": [
  {
   "cell_type": "code",
   "execution_count": 1,
   "metadata": {},
   "outputs": [],
   "source": [
    "import os\n",
    "import pandas as pd\n",
    "import torch\n",
    "import torch.nn as nn\n",
    "import torch.optim as optim\n"
   ]
  },
  {
   "cell_type": "code",
   "execution_count": 2,
   "metadata": {},
   "outputs": [
    {
     "name": "stdout",
     "output_type": "stream",
     "text": [
      "                                                  ecfp  DILI?\n",
      "0    [0, 0, 0, 0, 0, 0, 0, 0, 0, 0, 0, 0, 0, 1, 0, ...      0\n",
      "1    [0, 0, 0, 0, 0, 0, 0, 0, 0, 0, 0, 0, 0, 0, 0, ...      0\n",
      "2    [0, 1, 0, 0, 0, 0, 0, 0, 0, 0, 0, 0, 0, 0, 0, ...      0\n",
      "3    [0, 0, 0, 0, 0, 0, 0, 0, 0, 0, 0, 0, 0, 0, 0, ...      0\n",
      "4    [0, 1, 0, 0, 0, 0, 0, 0, 0, 0, 0, 0, 0, 0, 0, ...      0\n",
      "..                                                 ...    ...\n",
      "470  [0, 1, 0, 0, 0, 0, 0, 0, 0, 0, 0, 0, 0, 0, 0, ...      1\n",
      "471  [0, 1, 0, 0, 0, 0, 0, 0, 0, 0, 0, 0, 0, 0, 0, ...      0\n",
      "472  [0, 0, 0, 0, 0, 0, 0, 0, 0, 0, 0, 0, 0, 0, 0, ...      1\n",
      "473  [0, 1, 0, 0, 0, 0, 0, 0, 0, 0, 0, 0, 0, 0, 0, ...      0\n",
      "474  [0, 0, 0, 0, 0, 0, 0, 0, 0, 0, 0, 0, 0, 0, 0, ...      1\n",
      "\n",
      "[475 rows x 2 columns]\n"
     ]
    }
   ],
   "source": [
    "from Modules import Fingerprint_Generator\n",
    "\n",
    "Xu_df = pd.read_csv('Transformed_Data/Xu_DILI.csv', index_col=0)  # Map style dataset\n",
    "Xu_df = Fingerprint_Generator.generate_fp_column(Xu_df, Xu_df.SMILES, 'ecfp')\n",
    "\n",
    "Xu_df_fp = pd.DataFrame(Xu_df.iloc[:, 2])\n",
    "Xu_df_fp.insert(len(Xu_df_fp.columns), 'DILI?', Xu_df['DILI?'].astype(int)) # Insert 'DILI?' column as the last column\n",
    "\n",
    "\n",
    "print(Xu_df_fp)"
   ]
  },
  {
   "cell_type": "code",
   "execution_count": 3,
   "metadata": {},
   "outputs": [],
   "source": [
    "DILIfeatures = Xu_df_fp[\"ecfp\"]\n",
    "DILIlabels = Xu_df_fp[\"DILI?\"]\n",
    "\n",
    "class DILIDataset():\n",
    "    def __init__(self, features, labels) -> None:\n",
    "        self.features = features\n",
    "        self.labels = labels\n",
    "    def __len__(self):\n",
    "        return len(self.labels)\n",
    "    def __getitem__(self, index):\n",
    "        features = self.features[index]\n",
    "        labels = self.labels[index]\n",
    "        return torch.tensor([features], dtype=torch.float32), torch.tensor([labels], dtype=torch.float32)\n",
    "    \n",
    "dataset = DILIDataset(DILIfeatures, DILIlabels)"
   ]
  },
  {
   "cell_type": "code",
   "execution_count": 4,
   "metadata": {},
   "outputs": [
    {
     "name": "stdout",
     "output_type": "stream",
     "text": [
      "Dataset split succeeded\n",
      "Feature batch shape: torch.Size([1, 2048])\n",
      "Labels batch shape: torch.Size([1, 1])\n",
      "tensor([0., 1., 0.,  ..., 0., 0., 0.])\n",
      "tensor([1.])\n"
     ]
    },
    {
     "name": "stderr",
     "output_type": "stream",
     "text": [
      "C:\\Users\\Luke\\AppData\\Local\\Temp\\ipykernel_53504\\3598232474.py:13: UserWarning: Creating a tensor from a list of numpy.ndarrays is extremely slow. Please consider converting the list to a single numpy.ndarray with numpy.array() before converting to a tensor. (Triggered internally at C:\\b\\abs_abjetg6_iu\\croot\\pytorch_1686932924616\\work\\torch\\csrc\\utils\\tensor_new.cpp:248.)\n",
      "  return torch.tensor([features], dtype=torch.float32), torch.tensor([labels], dtype=torch.float32)\n"
     ]
    }
   ],
   "source": [
    "from torch.utils.data import DataLoader, random_split\n",
    "\n",
    "dataset_split = [0.8, 0.2]\n",
    "\n",
    "train_data, test_data = random_split(dataset, [0.8, 0.2])\n",
    "\n",
    "if len(train_data) + len(test_data) == len(dataset) and len(train_data) == len(dataset)*dataset_split[0]:\n",
    "    print(\"Dataset split succeeded\")\n",
    "else:\n",
    "    print(\"Dataset split failed\")\n",
    "\n",
    "\n",
    "train_dataloader = DataLoader(train_data, shuffle=True)\n",
    "test_dataloader = DataLoader(test_data, shuffle=True)\n",
    "\n",
    "train_features, train_labels = next(iter(train_dataloader))\n",
    "\n",
    "train_features = train_features.squeeze(1)\n",
    "\n",
    "print(f\"Feature batch shape: {train_features.size()}\")\n",
    "print(f\"Labels batch shape: {train_labels.size()}\")\n",
    "\n",
    "print(train_features[0]); print(train_labels[0]) # Will be random bcs of dataloader shuffle"
   ]
  },
  {
   "cell_type": "code",
   "execution_count": 5,
   "metadata": {},
   "outputs": [
    {
     "name": "stdout",
     "output_type": "stream",
     "text": [
      "Using cpu device\n"
     ]
    }
   ],
   "source": [
    "# Set the device to GPU if available\n",
    "device = (\n",
    "    \"cuda\"\n",
    "    if torch.cuda.is_available()\n",
    "    else \"cpu\"\n",
    ")\n",
    "print(f\"Using {device} device\")"
   ]
  },
  {
   "cell_type": "code",
   "execution_count": 6,
   "metadata": {},
   "outputs": [],
   "source": [
    "class DILI_Predictor(nn.Module):\n",
    "    def __init__(self, input_size, hidden_size, output_size) -> None:\n",
    "        super().__init__()\n",
    "        self.fc1 = nn.Linear(input_size, hidden_size)\n",
    "        self.fc2 = nn.Linear(hidden_size, hidden_size)\n",
    "        self.fc3 = nn.Linear(hidden_size, output_size)\n",
    "        self.sigmoid = nn.Sigmoid()\n",
    "\n",
    "    def forward(self, x):\n",
    "        model_output = self.fc1(x)\n",
    "        model_output = torch.relu(model_output)\n",
    "        model_output = self.fc2(model_output)\n",
    "        model_output = torch.relu(model_output)\n",
    "        model_output = self.fc3(model_output)\n",
    "        model_output = self.sigmoid(model_output)\n",
    "        return model_output\n",
    "    \n",
    "model0 = DILI_Predictor(2048, 128, 1).to(device)"
   ]
  },
  {
   "cell_type": "code",
   "execution_count": 7,
   "metadata": {},
   "outputs": [],
   "source": [
    "# Define loss function and optimizer\n",
    "criterion = nn.L1Loss()\n",
    "optimizer = optim.Adam(model0.parameters(), lr=0.001)"
   ]
  },
  {
   "cell_type": "code",
   "execution_count": 18,
   "metadata": {},
   "outputs": [
    {
     "name": "stdout",
     "output_type": "stream",
     "text": [
      "Epoch: 0 | MAE Train Loss: 7.796287536621094e-05 | MAE Test Loss: 7.641315460205078e-05 \n",
      "Epoch: 2 | MAE Train Loss: 7.474422454833984e-05 | MAE Test Loss: 7.319450378417969e-05 \n",
      "Epoch: 4 | MAE Train Loss: 7.152557373046875e-05 | MAE Test Loss: 6.985664367675781e-05 \n",
      "Epoch: 6 | MAE Train Loss: 6.830692291259766e-05 | MAE Test Loss: 6.663799285888672e-05 \n",
      "Epoch: 8 | MAE Train Loss: 6.496906280517578e-05 | MAE Test Loss: 6.341934204101562e-05 \n",
      "Epoch: 10 | MAE Train Loss: 6.175041198730469e-05 | MAE Test Loss: 6.020069122314453e-05 \n"
     ]
    }
   ],
   "source": [
    "torch.manual_seed(42)\n",
    "\n",
    "# Set the number of epochs (how many times the model will pass over the training data)\n",
    "epochs = 11\n",
    "\n",
    "# Create empty loss lists to track values\n",
    "train_loss_values = []\n",
    "test_loss_values = []\n",
    "epoch_count = []\n",
    "\n",
    "for epoch in range(epochs):\n",
    "    ### Training\n",
    "\n",
    "    # Put model in training mode (this is the default state of a model)\n",
    "    model0.train()\n",
    "\n",
    "    # 1. Forward pass on train data using the forward() method inside \n",
    "    predicted_labels = model0(train_features)\n",
    "    # print(y_pred)\n",
    "\n",
    "    # 2. Calculate the loss (how different are our models predictions to the ground truth)\n",
    "    loss = criterion(predicted_labels, train_labels)\n",
    "\n",
    "    # 3. Zero grad of the optimizer\n",
    "    optimizer.zero_grad()\n",
    "\n",
    "    # 4. Loss backwards\n",
    "    loss.backward()\n",
    "\n",
    "    # 5. Progress the optimizer\n",
    "    optimizer.step()\n",
    "\n",
    "    ### Testing\n",
    "\n",
    "    # Put the model in evaluation mode\n",
    "    model0.eval()\n",
    "\n",
    "    with torch.inference_mode():\n",
    "      # 1. Forward pass on test data\n",
    "      test_pred = model0(train_features)\n",
    "\n",
    "      # 2. Caculate loss on test data\n",
    "      test_loss = criterion(test_pred, train_labels.type(torch.float)) # predictions come in torch.float datatype, so comparisons need to be done with tensors of the same type\n",
    "\n",
    "      # Print out what's happening\n",
    "      if epoch % 2 == 0:\n",
    "            epoch_count.append(epoch)\n",
    "            train_loss_values.append(loss.detach().numpy())\n",
    "            test_loss_values.append(test_loss.detach().numpy())\n",
    "            print(f\"Epoch: {epoch} | MAE Train Loss: {loss} | MAE Test Loss: {test_loss} \")\n"
   ]
  }
 ],
 "metadata": {
  "kernelspec": {
   "display_name": "honours",
   "language": "python",
   "name": "python3"
  },
  "language_info": {
   "codemirror_mode": {
    "name": "ipython",
    "version": 3
   },
   "file_extension": ".py",
   "mimetype": "text/x-python",
   "name": "python",
   "nbconvert_exporter": "python",
   "pygments_lexer": "ipython3",
   "version": "3.11.6"
  }
 },
 "nbformat": 4,
 "nbformat_minor": 2
}
