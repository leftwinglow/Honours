{
 "cells": [
  {
   "cell_type": "code",
   "execution_count": 47,
   "metadata": {},
   "outputs": [],
   "source": [
    "import pandas as pd\n",
    "import torch\n",
    "import torch.nn as nn\n",
    "import torch.utils.data\n",
    "import seaborn as sns\n",
    "from torchmetrics import MetricCollection, classification\n",
    "from scipy.stats import friedmanchisquare\n",
    "\n",
    "\n",
    "from Modules import PyTorch_Training, Fingerprint_Generator, My_Pytorch_Utilities"
   ]
  },
  {
   "cell_type": "code",
   "execution_count": 48,
   "metadata": {},
   "outputs": [
    {
     "name": "stdout",
     "output_type": "stream",
     "text": [
      "              smiles  label\n",
      "0  CN(C)C(=N)N=C(N)N      0\n",
      "1   COC(=O)C=CC(=O)O      0\n"
     ]
    }
   ],
   "source": [
    "torch.manual_seed(42)\n",
    "\n",
    "df_train = pd.read_csv('Transformed_Data/rega_train.csv')\n",
    "df_test = pd.read_csv('Transformed_Data/rega_test.csv')\n",
    "\n",
    "print(df_train.head(2))"
   ]
  },
  {
   "cell_type": "code",
   "execution_count": 49,
   "metadata": {},
   "outputs": [],
   "source": [
    "class EarlyStopper:\n",
    "    def __init__(self, patience=1, min_delta=0):\n",
    "        self.patience = patience\n",
    "        self.min_delta = min_delta\n",
    "        self.counter = 0\n",
    "        self.min_validation_loss = float('inf')\n",
    "\n",
    "    def early_stop(self, validation_loss):\n",
    "        if validation_loss < self.min_validation_loss:\n",
    "            self.min_validation_loss = validation_loss\n",
    "            self.counter = 0\n",
    "        elif validation_loss > (self.min_validation_loss + self.min_delta):\n",
    "            self.counter += 1\n",
    "            if self.counter >= self.patience:\n",
    "                return True\n",
    "        return False"
   ]
  },
  {
   "cell_type": "code",
   "execution_count": 50,
   "metadata": {},
   "outputs": [
    {
     "name": "stdout",
     "output_type": "stream",
     "text": [
      "Using cuda device: NVIDIA GeForce GTX 1070\n"
     ]
    }
   ],
   "source": [
    "# Set the device to GPU if available\n",
    "device = \"cuda\" if torch.cuda.is_available() else \"cpu\"\n",
    "print(f\"Using {device} device: {torch.cuda.get_device_name(0)}\")\n",
    "\n",
    "DILI_model = PyTorch_Training.DILI_Models.DILI_Predictor_Sequential(2048, 512, 1).to(device)"
   ]
  },
  {
   "cell_type": "code",
   "execution_count": 51,
   "metadata": {},
   "outputs": [],
   "source": [
    "metric_collection = MetricCollection([\n",
    "    classification.Accuracy(task='binary', average='macro').to(device),  # Balanced accuracy\n",
    "    classification.BinaryAUROC().to(device),\n",
    "    classification.BinaryMatthewsCorrCoef().to(device)\n",
    "    \n",
    "    ])"
   ]
  },
  {
   "cell_type": "code",
   "execution_count": 52,
   "metadata": {},
   "outputs": [
    {
     "name": "stdout",
     "output_type": "stream",
     "text": [
      "-------------------------------------------------------------maccs-------------------------------------------------------------\n",
      "Fold 1 final results after 10 epochs: Train Acc: 0.388 Train Loss: 0.605 (n = 2109) | Test Acc: 0.729 Test Loss: 0.601 (n = 235) \n",
      "Fold 2 final results after 10 epochs: Train Acc: 0.148 Train Loss: 0.592 (n = 2109) | Test Acc: 0.741 Test Loss: 0.669 (n = 235) \n",
      "Fold 3 final results after 10 epochs: Train Acc: 0.319 Train Loss: 0.615 (n = 2109) | Test Acc: 0.726 Test Loss: 0.648 (n = 235) \n",
      "Fold 4 final results after 10 epochs: Train Acc: 0.721 Train Loss: 0.612 (n = 2109) | Test Acc: 0.685 Test Loss: 0.607 (n = 235) \n",
      "Fold 5 final results after 10 epochs: Train Acc: 0.224 Train Loss: 0.611 (n = 2110) | Test Acc: 0.329 Test Loss: 0.632 (n = 234) \n",
      "Fold 6 final results after 10 epochs: Train Acc: 0.214 Train Loss: 0.611 (n = 2110) | Test Acc: 0.723 Test Loss: 0.648 (n = 234) \n",
      "Fold 7 final results after 10 epochs: Train Acc: 0.345 Train Loss: 0.615 (n = 2110) | Test Acc: 0.719 Test Loss: 0.589 (n = 234) \n",
      "Fold 8 final results after 10 epochs: Train Acc: 0.273 Train Loss: 0.617 (n = 2110) | Test Acc: 0.717 Test Loss: 0.614 (n = 234) \n",
      "Fold 9 final results after 10 epochs: Train Acc: 0.350 Train Loss: 0.617 (n = 2110) | Test Acc: 0.717 Test Loss: 0.616 (n = 234) \n",
      "Fold 10 final results after 10 epochs: Train Acc: 0.290 Train Loss: 0.621 (n = 2110) | Test Acc: 0.684 Test Loss: 0.610 (n = 234) \n",
      "------------------------------------------------------------avalon-------------------------------------------------------------\n",
      "Fold 1 final results after 10 epochs: Train Acc: 0.449 Train Loss: 0.549 (n = 2109) | Test Acc: 0.777 Test Loss: 0.579 (n = 235) \n",
      "Fold 2 final results after 10 epochs: Train Acc: 0.661 Train Loss: 0.572 (n = 2109) | Test Acc: 0.779 Test Loss: 0.660 (n = 235) \n",
      "Fold 3 final results after 10 epochs: Train Acc: 0.677 Train Loss: 0.578 (n = 2109) | Test Acc: 0.609 Test Loss: 0.628 (n = 235) \n",
      "Fold 4 final results after 10 epochs: Train Acc: 0.732 Train Loss: 0.589 (n = 2109) | Test Acc: 0.756 Test Loss: 0.593 (n = 235) \n",
      "Fold 5 final results after 10 epochs: Train Acc: 0.263 Train Loss: 0.591 (n = 2110) | Test Acc: 0.637 Test Loss: 0.637 (n = 234) \n",
      "Fold 6 final results after 10 epochs: Train Acc: 0.265 Train Loss: 0.584 (n = 2110) | Test Acc: 0.758 Test Loss: 0.631 (n = 234) \n",
      "Fold 7 final results after 10 epochs: Train Acc: 0.334 Train Loss: 0.579 (n = 2110) | Test Acc: 0.763 Test Loss: 0.611 (n = 234) \n",
      "Fold 8 final results after 10 epochs: Train Acc: 0.316 Train Loss: 0.588 (n = 2110) | Test Acc: 0.762 Test Loss: 0.612 (n = 234) \n",
      "Fold 9 final results after 10 epochs: Train Acc: 0.715 Train Loss: 0.591 (n = 2110) | Test Acc: 0.752 Test Loss: 0.612 (n = 234) \n",
      "Fold 10 final results after 10 epochs: Train Acc: 0.375 Train Loss: 0.587 (n = 2110) | Test Acc: 0.375 Test Loss: 0.579 (n = 234) \n",
      "-------------------------------------------------------------ecfp--------------------------------------------------------------\n",
      "Fold 1 final results after 10 epochs: Train Acc: 0.794 Train Loss: 0.437 (n = 2109) | Test Acc: 0.672 Test Loss: 0.549 (n = 235) \n",
      "Fold 2 final results after 10 epochs: Train Acc: 0.775 Train Loss: 0.477 (n = 2109) | Test Acc: 0.595 Test Loss: 0.590 (n = 235) \n",
      "Fold 3 final results after 10 epochs: Train Acc: 0.356 Train Loss: 0.501 (n = 2109) | Test Acc: 0.572 Test Loss: 0.600 (n = 235) \n",
      "Fold 4 final results after 10 epochs: Train Acc: 0.404 Train Loss: 0.522 (n = 2109) | Test Acc: 0.853 Test Loss: 0.559 (n = 235) \n",
      "Fold 5 final results after 10 epochs: Train Acc: 0.786 Train Loss: 0.523 (n = 2110) | Test Acc: 0.548 Test Loss: 0.563 (n = 234) \n",
      "Fold 6 final results after 10 epochs: Train Acc: 0.743 Train Loss: 0.510 (n = 2110) | Test Acc: 0.557 Test Loss: 0.585 (n = 234) \n",
      "Fold 7 final results after 10 epochs: Train Acc: 0.393 Train Loss: 0.515 (n = 2110) | Test Acc: 0.556 Test Loss: 0.554 (n = 234) \n",
      "Fold 8 final results after 10 epochs: Train Acc: 0.436 Train Loss: 0.513 (n = 2110) | Test Acc: 0.851 Test Loss: 0.576 (n = 234) \n",
      "Fold 9 final results after 10 epochs: Train Acc: 0.763 Train Loss: 0.506 (n = 2110) | Test Acc: 0.559 Test Loss: 0.579 (n = 234) \n",
      "Fold 10 final results after 10 epochs: Train Acc: 0.485 Train Loss: 0.498 (n = 2110) | Test Acc: 0.860 Test Loss: 0.549 (n = 234) \n",
      "-------------------------------------------------------------fcfp--------------------------------------------------------------\n",
      "Fold 1 final results after 10 epochs: Train Acc: 0.781 Train Loss: 0.472 (n = 2109) | Test Acc: 0.875 Test Loss: 0.568 (n = 235) \n",
      "Fold 2 final results after 10 epochs: Train Acc: 0.740 Train Loss: 0.515 (n = 2109) | Test Acc: 0.841 Test Loss: 0.593 (n = 235) \n",
      "Fold 3 final results after 10 epochs: Train Acc: 0.367 Train Loss: 0.527 (n = 2109) | Test Acc: 0.840 Test Loss: 0.618 (n = 235) \n",
      "Fold 4 final results after 10 epochs: Train Acc: 0.390 Train Loss: 0.545 (n = 2109) | Test Acc: 0.689 Test Loss: 0.574 (n = 235) \n",
      "Fold 5 final results after 10 epochs: Train Acc: 0.783 Train Loss: 0.533 (n = 2110) | Test Acc: 0.827 Test Loss: 0.556 (n = 234) \n",
      "Fold 6 final results after 10 epochs: Train Acc: 0.757 Train Loss: 0.518 (n = 2110) | Test Acc: 0.839 Test Loss: 0.573 (n = 234) \n",
      "Fold 7 final results after 10 epochs: Train Acc: 0.788 Train Loss: 0.537 (n = 2110) | Test Acc: 0.718 Test Loss: 0.548 (n = 234) \n",
      "Fold 8 final results after 10 epochs: Train Acc: 0.717 Train Loss: 0.545 (n = 2110) | Test Acc: 0.822 Test Loss: 0.603 (n = 234) \n",
      "Fold 9 final results after 10 epochs: Train Acc: 0.739 Train Loss: 0.549 (n = 2110) | Test Acc: 0.705 Test Loss: 0.603 (n = 234) \n",
      "Fold 10 final results after 10 epochs: Train Acc: 0.781 Train Loss: 0.544 (n = 2110) | Test Acc: 0.822 Test Loss: 0.555 (n = 234) \n",
      "----------------------------------------------------------topological----------------------------------------------------------\n",
      "Fold 1 final results after 10 epochs: Train Acc: 0.421 Train Loss: 0.503 (n = 2109) | Test Acc: 0.711 Test Loss: 0.581 (n = 235) \n",
      "Fold 2 final results after 10 epochs: Train Acc: 0.270 Train Loss: 0.523 (n = 2109) | Test Acc: 0.829 Test Loss: 0.603 (n = 235) \n",
      "Fold 3 final results after 10 epochs: Train Acc: 0.278 Train Loss: 0.540 (n = 2109) | Test Acc: 0.820 Test Loss: 0.591 (n = 235) \n",
      "Fold 4 final results after 10 epochs: Train Acc: 0.757 Train Loss: 0.551 (n = 2109) | Test Acc: 0.811 Test Loss: 0.579 (n = 235) \n",
      "Fold 5 final results after 10 epochs: Train Acc: 0.265 Train Loss: 0.542 (n = 2110) | Test Acc: 0.809 Test Loss: 0.598 (n = 234) \n",
      "Fold 6 final results after 10 epochs: Train Acc: 0.365 Train Loss: 0.544 (n = 2110) | Test Acc: 0.671 Test Loss: 0.595 (n = 234) \n",
      "Fold 7 final results after 10 epochs: Train Acc: 0.324 Train Loss: 0.555 (n = 2110) | Test Acc: 0.806 Test Loss: 0.576 (n = 234) \n",
      "Fold 8 final results after 10 epochs: Train Acc: 0.351 Train Loss: 0.535 (n = 2110) | Test Acc: 0.818 Test Loss: 0.579 (n = 234) \n",
      "Fold 9 final results after 10 epochs: Train Acc: 0.243 Train Loss: 0.545 (n = 2110) | Test Acc: 0.815 Test Loss: 0.622 (n = 234) \n",
      "Fold 10 final results after 10 epochs: Train Acc: 0.756 Train Loss: 0.542 (n = 2110) | Test Acc: 0.817 Test Loss: 0.571 (n = 234) \n",
      "-----------------------------------------------------------atompair------------------------------------------------------------\n",
      "Fold 1 final results after 10 epochs: Train Acc: 0.421 Train Loss: 0.477 (n = 2109) | Test Acc: 0.867 Test Loss: 0.577 (n = 235) \n",
      "Fold 2 final results after 10 epochs: Train Acc: 0.239 Train Loss: 0.504 (n = 2109) | Test Acc: 0.847 Test Loss: 0.622 (n = 235) \n",
      "Fold 3 final results after 10 epochs: Train Acc: 0.310 Train Loss: 0.515 (n = 2109) | Test Acc: 0.838 Test Loss: 0.595 (n = 235) \n",
      "Fold 4 final results after 10 epochs: Train Acc: 0.362 Train Loss: 0.503 (n = 2109) | Test Acc: 0.845 Test Loss: 0.579 (n = 235) \n",
      "Fold 5 final results after 10 epochs: Train Acc: 0.747 Train Loss: 0.497 (n = 2110) | Test Acc: 0.523 Test Loss: 0.599 (n = 234) \n",
      "Fold 6 final results after 10 epochs: Train Acc: 0.737 Train Loss: 0.519 (n = 2110) | Test Acc: 0.836 Test Loss: 0.586 (n = 234) \n",
      "Fold 7 final results after 10 epochs: Train Acc: 0.765 Train Loss: 0.522 (n = 2110) | Test Acc: 0.834 Test Loss: 0.573 (n = 234) \n",
      "Fold 8 final results after 10 epochs: Train Acc: 0.418 Train Loss: 0.506 (n = 2110) | Test Acc: 0.842 Test Loss: 0.569 (n = 234) \n",
      "Fold 9 final results after 10 epochs: Train Acc: 0.343 Train Loss: 0.498 (n = 2110) | Test Acc: 0.844 Test Loss: 0.641 (n = 234) \n",
      "Fold 10 final results after 10 epochs: Train Acc: 0.500 Train Loss: 0.516 (n = 2110) | Test Acc: 0.830 Test Loss: 0.532 (n = 234) \n",
      "-------------------------------------------------------------rdkit-------------------------------------------------------------\n",
      "Fold 1 final results after 10 epochs: Train Acc: 0.444 Train Loss: 0.458 (n = 2109) | Test Acc: 0.877 Test Loss: 0.567 (n = 235) \n",
      "Fold 2 final results after 10 epochs: Train Acc: 0.744 Train Loss: 0.471 (n = 2109) | Test Acc: 0.685 Test Loss: 0.585 (n = 235) \n",
      "Fold 3 final results after 10 epochs: Train Acc: 0.724 Train Loss: 0.494 (n = 2109) | Test Acc: 0.541 Test Loss: 0.613 (n = 235) \n",
      "Fold 4 final results after 10 epochs: Train Acc: 0.789 Train Loss: 0.491 (n = 2109) | Test Acc: 0.859 Test Loss: 0.540 (n = 235) \n",
      "Fold 5 final results after 10 epochs: Train Acc: 0.368 Train Loss: 0.492 (n = 2110) | Test Acc: 0.692 Test Loss: 0.575 (n = 234) \n",
      "Fold 6 final results after 10 epochs: Train Acc: 0.759 Train Loss: 0.502 (n = 2110) | Test Acc: 0.701 Test Loss: 0.594 (n = 234) \n",
      "Fold 7 final results after 10 epochs: Train Acc: 0.780 Train Loss: 0.493 (n = 2110) | Test Acc: 0.654 Test Loss: 0.614 (n = 234) \n",
      "Fold 8 final results after 10 epochs: Train Acc: 0.760 Train Loss: 0.499 (n = 2110) | Test Acc: 0.520 Test Loss: 0.586 (n = 234) \n",
      "Fold 9 final results after 10 epochs: Train Acc: 0.756 Train Loss: 0.502 (n = 2110) | Test Acc: 0.513 Test Loss: 0.598 (n = 234) \n",
      "Fold 10 final results after 10 epochs: Train Acc: 0.758 Train Loss: 0.512 (n = 2110) | Test Acc: 0.516 Test Loss: 0.567 (n = 234) \n",
      "------------------------------------------------------------pattern------------------------------------------------------------\n",
      "Fold 1 final results after 10 epochs: Train Acc: 0.715 Train Loss: 0.549 (n = 2109) | Test Acc: 0.434 Test Loss: 0.604 (n = 235) \n",
      "Fold 2 final results after 10 epochs: Train Acc: 0.719 Train Loss: 0.551 (n = 2109) | Test Acc: 0.437 Test Loss: 0.636 (n = 235) \n",
      "Fold 3 final results after 10 epochs: Train Acc: 0.724 Train Loss: 0.547 (n = 2109) | Test Acc: 0.447 Test Loss: 0.647 (n = 235) \n",
      "Fold 4 final results after 10 epochs: Train Acc: 0.708 Train Loss: 0.563 (n = 2109) | Test Acc: 0.416 Test Loss: 0.576 (n = 235) \n",
      "Fold 5 final results after 10 epochs: Train Acc: 0.702 Train Loss: 0.555 (n = 2110) | Test Acc: 0.404 Test Loss: 0.598 (n = 234) \n",
      "Fold 6 final results after 10 epochs: Train Acc: 0.722 Train Loss: 0.549 (n = 2110) | Test Acc: 0.443 Test Loss: 0.629 (n = 234) \n",
      "Fold 7 final results after 10 epochs: Train Acc: 0.706 Train Loss: 0.562 (n = 2110) | Test Acc: 0.412 Test Loss: 0.554 (n = 234) \n",
      "Fold 8 final results after 10 epochs: Train Acc: 0.696 Train Loss: 0.560 (n = 2110) | Test Acc: 0.391 Test Loss: 0.613 (n = 234) \n",
      "Fold 9 final results after 10 epochs: Train Acc: 0.712 Train Loss: 0.564 (n = 2110) | Test Acc: 0.641 Test Loss: 0.621 (n = 234) \n",
      "Fold 10 final results after 10 epochs: Train Acc: 0.694 Train Loss: 0.568 (n = 2110) | Test Acc: 0.387 Test Loss: 0.568 (n = 234) \n",
      "------------------------------------------------------------layered------------------------------------------------------------\n",
      "Fold 1 final results after 10 epochs: Train Acc: 0.782 Train Loss: 0.474 (n = 2109) | Test Acc: 0.564 Test Loss: 0.594 (n = 235) \n",
      "Fold 2 final results after 10 epochs: Train Acc: 0.743 Train Loss: 0.516 (n = 2109) | Test Acc: 0.487 Test Loss: 0.596 (n = 235) \n",
      "Fold 3 final results after 10 epochs: Train Acc: 0.753 Train Loss: 0.508 (n = 2109) | Test Acc: 0.655 Test Loss: 0.620 (n = 235) \n",
      "Fold 4 final results after 10 epochs: Train Acc: 0.746 Train Loss: 0.512 (n = 2109) | Test Acc: 0.492 Test Loss: 0.541 (n = 235) \n",
      "Fold 5 final results after 10 epochs: Train Acc: 0.747 Train Loss: 0.517 (n = 2110) | Test Acc: 0.494 Test Loss: 0.587 (n = 234) \n",
      "Fold 6 final results after 10 epochs: Train Acc: 0.741 Train Loss: 0.527 (n = 2110) | Test Acc: 0.482 Test Loss: 0.600 (n = 234) \n",
      "Fold 7 final results after 10 epochs: Train Acc: 0.736 Train Loss: 0.514 (n = 2110) | Test Acc: 0.472 Test Loss: 0.588 (n = 234) \n",
      "Fold 8 final results after 10 epochs: Train Acc: 0.718 Train Loss: 0.545 (n = 2110) | Test Acc: 0.435 Test Loss: 0.574 (n = 234) \n",
      "Fold 9 final results after 10 epochs: Train Acc: 0.743 Train Loss: 0.515 (n = 2110) | Test Acc: 0.485 Test Loss: 0.579 (n = 234) \n",
      "Fold 10 final results after 10 epochs: Train Acc: 0.729 Train Loss: 0.523 (n = 2110) | Test Acc: 0.460 Test Loss: 0.566 (n = 234) \n",
      "-------------------------------------------------------------secfp-------------------------------------------------------------\n",
      "Fold 1 final results after 10 epochs: Train Acc: 0.850 Train Loss: 0.397 (n = 2109) | Test Acc: 0.706 Test Loss: 0.586 (n = 235) \n",
      "Fold 2 final results after 10 epochs: Train Acc: 0.795 Train Loss: 0.485 (n = 2109) | Test Acc: 0.593 Test Loss: 0.585 (n = 235) \n",
      "Fold 3 final results after 10 epochs: Train Acc: 0.788 Train Loss: 0.481 (n = 2109) | Test Acc: 0.575 Test Loss: 0.592 (n = 235) \n",
      "Fold 4 final results after 10 epochs: Train Acc: 0.783 Train Loss: 0.504 (n = 2109) | Test Acc: 0.567 Test Loss: 0.566 (n = 235) \n",
      "Fold 5 final results after 10 epochs: Train Acc: 0.782 Train Loss: 0.491 (n = 2110) | Test Acc: 0.566 Test Loss: 0.554 (n = 234) \n",
      "Fold 6 final results after 10 epochs: Train Acc: 0.398 Train Loss: 0.493 (n = 2110) | Test Acc: 0.697 Test Loss: 0.581 (n = 234) \n",
      "Fold 7 final results after 10 epochs: Train Acc: 0.785 Train Loss: 0.489 (n = 2110) | Test Acc: 0.571 Test Loss: 0.541 (n = 234) \n",
      "Fold 8 final results after 10 epochs: Train Acc: 0.785 Train Loss: 0.498 (n = 2110) | Test Acc: 0.574 Test Loss: 0.571 (n = 234) \n",
      "Fold 9 final results after 10 epochs: Train Acc: 0.786 Train Loss: 0.489 (n = 2110) | Test Acc: 0.576 Test Loss: 0.583 (n = 234) \n",
      "Fold 10 final results after 10 epochs: Train Acc: 0.784 Train Loss: 0.488 (n = 2110) | Test Acc: 0.570 Test Loss: 0.551 (n = 234) \n"
     ]
    }
   ],
   "source": [
    "from Modules import Fingerprint_Comparator\n",
    "\n",
    "# regular_fingerprints = [\n",
    "#     \"maccs\",\n",
    "#     \"avalon\",\n",
    "#     \"ecfp\",\n",
    "# ]\n",
    "\n",
    "regular_fingerprints = [\n",
    "    \"maccs\",\n",
    "    \"avalon\",\n",
    "    \"ecfp\",\n",
    "    \"fcfp\",\n",
    "    \"topological\",\n",
    "    \"atompair\",\n",
    "    \"rdkit\",\n",
    "    \"pattern\",\n",
    "    \"layered\",\n",
    "    \"secfp\",\n",
    "]\n",
    "\n",
    "df_train = pd.read_csv('Transformed_Data/rega_train.csv')\n",
    "\n",
    "comparator = Fingerprint_Comparator.Pytorch_Train(df_train.iloc[:,0], df_train.iloc[:,1], DILI_model, 2048, metric_collection)\n",
    "\n",
    "# comparator_results = comparator.regular_fingerprint(regular_fingerprints, pad=True, k_folds=10, epochs=10)\n",
    "\n",
    "comparator_results, comparator_results_multiindex = comparator.regular_fingerprint(regular_fingerprints, pad=True, k_folds=10, epochs=10)"
   ]
  },
  {
   "cell_type": "code",
   "execution_count": 53,
   "metadata": {},
   "outputs": [
    {
     "name": "stdout",
     "output_type": "stream",
     "text": [
      "   Fingerprint  Fold  test_BinaryAccuracy  test_BinaryAUROC  \\\n",
      "0        maccs     0                0.729             0.319   \n",
      "0        maccs     1                0.741             0.363   \n",
      "0        maccs     2                0.726             0.329   \n",
      "0        maccs     3                0.685             0.685   \n",
      "0        maccs     4                0.329             0.726   \n",
      "..         ...   ...                  ...               ...   \n",
      "0        secfp     5                0.697             0.752   \n",
      "0        secfp     6                0.571             0.735   \n",
      "0        secfp     7                0.574             0.705   \n",
      "0        secfp     8                0.576             0.709   \n",
      "0        secfp     9                0.570             0.744   \n",
      "\n",
      "    test_BinaryMatthewsCorrCoef  \n",
      "0                         0.702  \n",
      "0                         0.570  \n",
      "0                         0.664  \n",
      "0                         0.317  \n",
      "0                         0.632  \n",
      "..                          ...  \n",
      "0                         0.394  \n",
      "0                         0.802  \n",
      "0                         0.768  \n",
      "0                         0.775  \n",
      "0                         0.789  \n",
      "\n",
      "[100 rows x 5 columns]\n"
     ]
    }
   ],
   "source": [
    "print(comparator_results)"
   ]
  },
  {
   "cell_type": "code",
   "execution_count": 57,
   "metadata": {},
   "outputs": [
    {
     "data": {
      "text/plain": [
       "<Axes: xlabel='Fingerprint', ylabel='test_BinaryAccuracy'>"
      ]
     },
     "execution_count": 57,
     "metadata": {},
     "output_type": "execute_result"
    },
    {
     "data": {
      "image/png": "[encoded data removed]",
      "text/plain": [
       "<Figure size 640x480 with 1 Axes>"
      ]
     },
     "metadata": {},
     "output_type": "display_data"
    }
   ],
   "source": [
    "mean_score = comparator_results.iloc[:,2].mean()  # Mean of entire column\n",
    "\n",
    "comparator_results_means = comparator_results.iloc[:,2] - mean_score\n",
    "comparator_results_means = comparator_results_means.sort_values(ascending=False)\n",
    "\n",
    "sns.barplot(\n",
    "    data = comparator_results,\n",
    "    x='Fingerprint',\n",
    "    y='test_BinaryAccuracy',\n",
    "    hue=\"Fingerprint\",\n",
    ")"
   ]
  },
  {
   "cell_type": "code",
   "execution_count": 56,
   "metadata": {},
   "outputs": [
    {
     "name": "stdout",
     "output_type": "stream",
     "text": [
      "9.058487269161868e-08\n"
     ]
    }
   ],
   "source": [
    "list_of_scores = []\n",
    "\n",
    "for fingerprint in regular_fingerprints:\n",
    "    fp_and_acc = comparator_results.filter([\"Fingerprint\", \"test_BinaryAccuracy\"], axis=1)\n",
    "    fp_and_acc = (fp_and_acc.query('Fingerprint == @fingerprint'))\n",
    "    list_of_scores.append(fp_and_acc)\n",
    "\n",
    "\n",
    "friedman_stat, friedman_p = friedmanchisquare(*[list_of_scores[x].iloc[:, 1] for x in range(len(list_of_scores))])\n",
    "print(friedman_p)"
   ]
  },
  {
   "cell_type": "code",
   "execution_count": null,
   "metadata": {},
   "outputs": [],
   "source": [
    "def train_step(model: torch.nn.Module, dataloader: torch.utils.data.DataLoader, loss_fn: torch.nn.Module, optimizer: torch.optim.Optimizer):\n",
    "    model.train()\n",
    "    train_metrics = metric_collection.clone(prefix=\"train_\")\n",
    "    train_loss, train_accuracy = 0, 0\n",
    "\n",
    "    for batch, (X, y) in enumerate(dataloader):\n",
    "        X, y = X.to(device), y.to(device)\n",
    "        predicted_y = model0(X)\n",
    "        predicted_y = predicted_y.squeeze(1)\n",
    "\n",
    "        loss = loss_fn(predicted_y, y)\n",
    "        train_loss += loss.item()\n",
    "        train_metrics_results = train_metrics(predicted_y, y)\n",
    "        \n",
    "        optimizer.zero_grad()\n",
    "        loss.backward()\n",
    "        optimizer.step()\n",
    "\n",
    "    train_metrics_results = train_metrics.compute()\n",
    "    train_metrics.reset()\n",
    "    \n",
    "    train_loss = train_loss / len(dataloader)\n",
    "\n",
    "    return train_loss, train_metrics_results #, predicted_y, y"
   ]
  },
  {
   "cell_type": "code",
   "execution_count": null,
   "metadata": {},
   "outputs": [],
   "source": [
    "def test_step(model: torch.nn.Module, dataloader: torch.utils.data.DataLoader, loss_fn: torch.nn.Module):\n",
    "    model.eval()\n",
    "    test_metrics = metric_collection.clone(prefix=\"test_\")\n",
    "    test_loss = 0\n",
    "\n",
    "    with torch.inference_mode():\n",
    "        for batch, (X, y) in enumerate(dataloader):\n",
    "            X, y = X.to(device), y.to(device)\n",
    "            test_predicted_y = model0(X)\n",
    "            test_predicted_y = test_predicted_y.squeeze(1)\n",
    "            # print(test_predicted_y.shape); print(y.shape)#  Uncomment to confirm shape\n",
    "\n",
    "            loss = loss_fn(test_predicted_y, y)\n",
    "            test_loss += loss.item()\n",
    "            \n",
    "            test_metrics_results = test_metrics(test_predicted_y, y)\n",
    "        \n",
    "        test_metrics_results = test_metrics.compute()\n",
    "        test_metrics.reset()\n",
    "\n",
    "    test_loss = test_loss / len(dataloader)\n",
    "    \n",
    "    return test_loss, test_metrics_results"
   ]
  },
  {
   "cell_type": "code",
   "execution_count": null,
   "metadata": {},
   "outputs": [],
   "source": [
    "def metics_tensor_dict_to_floats(metrics):\n",
    "    return {key: value.to(device='cpu', non_blocking=True).item() if hasattr(value, 'to') \n",
    "else value for key, value in metrics.items()}"
   ]
  },
  {
   "cell_type": "code",
   "execution_count": null,
   "metadata": {},
   "outputs": [],
   "source": [
    "from sklearn.model_selection import StratifiedKFold\n",
    "\n",
    "\n",
    "def train(model: torch.nn.Module, dataset: torch.utils.data.Dataset, optimizer: torch.optim.Optimizer, loss_fn: torch.nn.Module = nn.BCELoss(), epochs: int = 10, k_folds: int = 5, batch_size: int = 256, DP:int = 3):\n",
    "    kfold = StratifiedKFold(k_folds, shuffle=True, random_state=42)\n",
    "    score_df = []\n",
    "\n",
    "    for fold, (train_idx, test_idx) in enumerate(kfold.split(dataset, dataset.labels)): \n",
    "        loss = {\"train_loss\": [], \"test_loss\": []}\n",
    "        \n",
    "        train_dataset = torch.utils.data.Subset(dataset, train_idx)\n",
    "        test_dataset = torch.utils.data.Subset(dataset, test_idx)\n",
    "        \n",
    "        train_loader = torch.utils.data.DataLoader(train_dataset, batch_size, shuffle=True)\n",
    "        test_loader = torch.utils.data.DataLoader(test_dataset, batch_size, shuffle=True)\n",
    "        \n",
    "        reset_weights(model)\n",
    "\n",
    "        for epoch in range(epochs):\n",
    "            # tracker.increment()\n",
    "            train_loss, train_metrics = train_step(model=model, dataloader=train_loader, loss_fn=loss_fn, optimizer=optimizer)\n",
    "            # tracker.update(predicted_y, y)\n",
    "            test_loss, test_metrics = test_step(model=model, dataloader=test_loader, loss_fn=loss_fn)\n",
    "\n",
    "            train_metrics, test_metrics = metics_tensor_dict_to_floats(train_metrics), metics_tensor_dict_to_floats(test_metrics)\n",
    "            loss[\"train_loss\"].append(train_loss)\n",
    "            loss[\"test_loss\"].append(test_loss)\n",
    "            \n",
    "            if EarlyStopper().early_stop(test_loss):\n",
    "                break\n",
    "\n",
    "        score_df.append(pd.DataFrame.from_dict(test_metrics, orient=\"index\").transpose().round(DP))\n",
    "        \n",
    "        print(f\"Fold {fold+1} final results after {epoch+1} epochs: Train Acc: {train_metrics['train_BinaryAccuracy']:.{DP}f} Train Loss: {train_loss:.{DP}f} (n = {len(train_idx)}) | Test Acc: {test_metrics['test_BinaryAccuracy']:.{DP}f} Test Loss: {test_loss:.{DP}f} (n = {len(test_idx)}) \")\n",
    "\n",
    "    score_df = pd.concat(score_df)\n",
    "    score_df.insert(0, \"Fold\", range(k_folds))\n",
    "    score_df.set_index(\"Fold\", inplace=True)\n",
    "    \n",
    "    return loss, score_df #, tracker.compute_all()"
   ]
  },
  {
   "cell_type": "code",
   "execution_count": null,
   "metadata": {},
   "outputs": [],
   "source": [
    "# Define loss function and optimizer\n",
    "loss_fn = nn.BCEWithLogitsLoss()\n",
    "optimizer = torch.optim.Adam(model0.parameters(), lr=1e-4)\n",
    "\n",
    "reset_weights(model0)\n",
    "model0_loss, model0_df = train(model=model0, dataset=dilidataset, optimizer=optimizer, loss_fn=loss_fn, epochs=1, k_folds=2, batch_size=256)"
   ]
  },
  {
   "cell_type": "code",
   "execution_count": null,
   "metadata": {},
   "outputs": [],
   "source": [
    "from Modules import PyTorch_Training\n",
    "\n",
    "PyTorch_Training.Model_Train_Test(model0, metric_collection, loss_fn=loss_fn).train_model(dilidataset, epochs=2)"
   ]
  },
  {
   "cell_type": "code",
   "execution_count": null,
   "metadata": {},
   "outputs": [],
   "source": [
    "regular_fingerprints = [\n",
    "    \"ecfp\",\n",
    "    \"ecfp-count\",\n",
    "    \"fcfp\"\n",
    "]\n",
    "df_train = pd.read_csv('Transformed_Data/rega_train.csv')\n",
    "\n",
    "fp_df = []\n",
    "\n",
    "\n",
    "\n",
    "for fingerprint in regular_fingerprints:\n",
    "    df_train = pd.read_csv('Transformed_Data/rega_train.csv')\n",
    "    df_train = Fingerprint_Generator.generate_fp_column(df_train, df_train.smiles, fp_type=fingerprint)\n",
    "    df_train = df_train.drop(\"smiles\", axis=1)\n",
    "    \n",
    "    DILIfeatures = df_train.iloc[:, 1]\n",
    "    DILIlabels = df_train.iloc[:, 0]\n",
    "    \n",
    "    dilidataset = DILIDataset(DILIfeatures, DILIlabels)\n",
    "    \n",
    "    \n",
    "    loss, score_df = train(model=model0, dataset=dilidataset, optimizer=optimizer, loss_fn=loss_fn, epochs=10, k_folds=5, batch_size=256)\n",
    "    \n",
    "    fp_df.append(score_df)"
   ]
  },
  {
   "cell_type": "code",
   "execution_count": null,
   "metadata": {},
   "outputs": [],
   "source": [
    "import matplotlib.pyplot as plt\n",
    "\n",
    "\n",
    "def plot_loss_curve(results: dict[str, list[float]]):\n",
    "    train_loss = results[\"train_loss\"]\n",
    "    test_loss = results[\"test_loss\"]\n",
    "\n",
    "    # Plot loss\n",
    "    plt.figure(figsize=(10, 6))\n",
    "    \n",
    "    plt.plot(train_loss, label=\"train_loss\")\n",
    "    plt.plot(test_loss, label=\"test_loss\")\n",
    "    \n",
    "    plt.title(\"Loss vs Epochs\")\n",
    "    plt.ylabel(\"Loss\")\n",
    "    plt.xlabel(\"Epochs\")\n",
    "    plt.legend()\n",
    "\n",
    "\n",
    "plot_loss_curve(model0_loss)"
   ]
  },
  {
   "cell_type": "code",
   "execution_count": null,
   "metadata": {},
   "outputs": [],
   "source": [
    "# from Modules import My_Pytorch_Utilities\n",
    "\n",
    "# dummy_data = torch.rand([1, 2048])\n",
    "\n",
    "# dummy_data.shape\n",
    "\n",
    "# My_Pytorch_Utilities.save(model0, \"DILIst\", dummy_data.to(device))"
   ]
  },
  {
   "cell_type": "code",
   "execution_count": null,
   "metadata": {},
   "outputs": [],
   "source": [
    "from Modules import PyTorch_Pretrained_Inference\n",
    "\n",
    "validation_smiles = [\"CCC\", \"CCCC\", \"Fc1ccc(cc1)[C@@]3(OCc2cc(C#N)ccc23)CCCN(C)C\"]\n",
    "validation_smiles_labels = [1, 0, 1]\n",
    "\n",
    "regular_fingerprints = [\n",
    "    \"ecfp\",\n",
    "    \"fcfp\",\n",
    "    \"secfp\",\n",
    "]\n",
    "\n",
    "PyTorch_Pretrained_Inference.DILI_Inference(validation_smiles, model0).regular_fingerprint(regular_fingerprints)"
   ]
  },
  {
   "cell_type": "code",
   "execution_count": null,
   "metadata": {},
   "outputs": [],
   "source": [
    "from Modules import Fingerprint_Comparator\n",
    "\n",
    "Fingerprint_Comparator.PyTorch_Pretrained(validation_smiles, validation_smiles_labels, model0).regular_fingerprint(regular_fingerprints, 2048)"
   ]
  },
  {
   "cell_type": "code",
   "execution_count": null,
   "metadata": {},
   "outputs": [],
   "source": [
    "# ## Assuming you have loaded_model and device available\n",
    "\n",
    "# from Modules import Fingerprint_Generator\n",
    "\n",
    "# validation_smiles = [\"CCC\", \"CCCC\", \"Fc1ccc(cc1)[C@@]3(OCc2cc(C#N)ccc23)CCCN(C)C\"]\n",
    "\n",
    "# def evaluate_smiles(model, input_smiles):\n",
    "#     scores = {}\n",
    "#     validation_fp = Fingerprint_Generator.Smiles_To_Fingerprint(input_smiles, fingerprint).astype(torch.Tensor).squeeze(1).to(device)\n",
    "#     with torch.no_grad():\n",
    "#         model0.eval()\n",
    "#         for i, input in enumerate(validation_fp):\n",
    "#             output = model(input)\n",
    "#             scores.update({round(output.item(), 3): validation_smiles[i]})\n",
    "#             # scores.append(output.item())\n",
    "#         return scores\n",
    "\n",
    "# print(evaluate_smiles(model0, validation_smiles))\n",
    "\n",
    "\n",
    "# # print(f\"Prediction for {validation_smiles}: {prediction:.3f}\")"
   ]
  }
 ],
 "metadata": {
  "kernelspec": {
   "display_name": "honours",
   "language": "python",
   "name": "python3"
  },
  "language_info": {
   "codemirror_mode": {
    "name": "ipython",
    "version": 3
   },
   "file_extension": ".py",
   "mimetype": "text/x-python",
   "name": "python",
   "nbconvert_exporter": "python",
   "pygments_lexer": "ipython3",
   "version": "3.11.6"
  }
 },
 "nbformat": 4,
 "nbformat_minor": 2
}
