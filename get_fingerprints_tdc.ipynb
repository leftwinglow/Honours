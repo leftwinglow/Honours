{
 "cells": [
  {
   "cell_type": "markdown",
   "metadata": {},
   "source": [
    "## Project outline\n",
    "### Could it have been predicted?\n",
    "\n",
    "In this project we will develop a series of safety pharmacology models using python based cheminformatic tools such as Rdkit, Scikitlearn, and pytorch. We want to see if machine learning cheminformatic toxicity models can single out the molecules that were ultimately removed from the market. I have collected a database of drugs that were withdrawn from the market due to toxicity for various reasons. This can be combined with a database of currently available medications to form a test set which can be used to test a model designed to predict toxicity. Many of the drugs that have been withdrawn over the years were withdrawn due to hepatotoxicity or DILI (drug induced liver injury) so I have collected a dataset of molecules with BSEP binding values to develop a model capable of predicting hepatoxicity. This will be the first model. If time allows, we will also gather data on other toxicities responsible for drug withdrawal such as binding the HERG (IKr) associated protein and potentially other secondary pharmacology assay targets such as Gprotein-coupledreceptors (GPCRs), enzymes, kinases, nuclear hormone receptors, ion channels and transporters.\n",
    "\n",
    "### References\n",
    "Assay Targets:\n",
    "\n",
    "Jenkinson, S., et al., A practical guide to secondary pharmacology in drug discovery. Journal of Pharmacological and Toxicological Methods, 2020. 105.\n",
    "\n",
    "BSEP Database:\n",
    "\n",
    "AbdulHameed, M.D.M., R. Liu, and A. Wallqvist, Using a Graph Convolutional Neural Network Model to Identify Bile Salt Export Pump Inhibitors. ACS Omega, 2023. 8(24): p. 21853-21861.\n",
    "\n",
    "Dataset of Withdrawn drugs:\n",
    "\n",
    "Siramshetty, V.B., et al., WITHDRAWN--a resource for withdrawn and discontinued drugs. Nucleic Acids Res, 2016. 44(D1): p. D1080-6.\n",
    "\n",
    "Onakpoya, I. J., Heneghan, C. J., & Aronson, J. K. (2016). Post-marketing withdrawal of 462 medicinal products because of adverse drug reactions: a systematic review of the world literature. BMC Medicine, 14, 10."
   ]
  },
  {
   "cell_type": "markdown",
   "metadata": {},
   "source": [
    "## Import Dependencies\n",
    "\n",
    "### General\n",
    "* Pandas\n",
    "* Numpy\n",
    "* Seaborn\n",
    "\n",
    "### Datasets\n",
    "* TDC Tox\n",
    "\n",
    "### RDKit Modules\n",
    "* AllChem\n",
    "* rdMolDescriptors\n",
    "* IPythonConsole\n",
    "* Draw\n",
    "* DataStructs\n",
    "* Butina"
   ]
  },
  {
   "cell_type": "code",
   "execution_count": 34,
   "metadata": {},
   "outputs": [],
   "source": [
    "import pandas as pd\n",
    "import numpy as np\n",
    "import seaborn as sn\n",
    "#---------------------- Therapeutic Drug Commons (TDC data) from https://tdcommons.ai/single_pred_tasks/tox/#dili-drug-induced-liver-injury\n",
    "from tdc.single_pred import Tox\n",
    "#---------------------- RDKit packages\n",
    "from rdkit.Chem import AllChem\n",
    "from rdkit.Chem import rdMolDescriptors\n",
    "from rdkit.Chem.Draw import IPythonConsole\n",
    "from rdkit.Chem import Draw\n",
    "from rdkit import DataStructs\n",
    "from rdkit.ML.Cluster import Butina\n",
    "#-\n",
    "from sklearn.metrics import r2_score, mean_absolute_error, mean_squared_error\n",
    "from sklearn.ensemble import RandomForestRegressor\n",
    "import time\n",
    "from sklearn.model_selection import ShuffleSplit, cross_validate,train_test_split\n"
   ]
  },
  {
   "cell_type": "markdown",
   "metadata": {},
   "source": [
    "## Data cleaning\n",
    "\n",
    "### Reading, converting to pandas\n",
    "\n",
    "Read TDC Tox DILI Dataset & convert to Pandas dataframe.\\\n",
    "Rename columns to be more human-readable."
   ]
  },
  {
   "cell_type": "code",
   "execution_count": null,
   "metadata": {},
   "outputs": [],
   "source": [
    "# Make this a function that works for multiple datasets, concatenates them\n",
    "\n",
    "tox_data = Tox(name = 'DILI')\n",
    "tox_df = tox_data.get_data()\n",
    "tox_df.columns = [\"X\", \"SMILES\", \"DILI?\"]"
   ]
  },
  {
   "cell_type": "code",
   "execution_count": 491,
   "metadata": {},
   "outputs": [
    {
     "name": "stdout",
     "output_type": "stream",
     "text": [
      "                                              SMILES  BSEP ACTIVITY\n",
      "0  CC[C@H]1C(=O)N(C)[C@H](C)C(=O)N(CC)[C@@H](C(C)...              1\n",
      "1  CCC1C(=O)N(C)C(C)C(=O)N(CC)C(C(C)C)C(=O)NC(C(C...              1\n"
     ]
    }
   ],
   "source": [
    "Hameed_df = pd.read_excel(\"Transformed_Data/Hameed_BSEP.xlsx\", sheet_name=1, usecols = range(1, 3))\n",
    "\n",
    "print(Hameed_df.head(2))"
   ]
  },
  {
   "cell_type": "code",
   "execution_count": 475,
   "metadata": {},
   "outputs": [
    {
     "name": "stdout",
     "output_type": "stream",
     "text": [
      "                  Medicinal product Reason for withdrawal  \\\n",
      "6                    Alatrofloxacin                 Liver   \n",
      "11                          Alpidem                 Liver   \n",
      "30                          Aspirin                 Liver   \n",
      "35                         Bendazac                 Liver   \n",
      "38                        Benzarone                 Liver   \n",
      "39                    Benzbromarone                 Liver   \n",
      "40                     Benziodarone                 Liver   \n",
      "52                        Bromfenac                 Liver   \n",
      "89                        Cincophen                 Liver   \n",
      "98                        Clomacron                 Liver   \n",
      "104                        Coumarin                 Liver   \n",
      "108                      Cyclofenil                 Liver   \n",
      "109                     Cyclovalone                 Liver   \n",
      "118         Diacetoxydiphenolisatin                 Liver   \n",
      "125  Diethyl-\\naminoethoxyhexestrol                 Liver   \n",
      "133                       Dilevalol                 Liver   \n",
      "146                        Droxicam                 Liver   \n",
      "147                      Ebrotidine                 Liver   \n",
      "154                    Erythromycin                 Liver   \n",
      "163                         Exifone                 Liver   \n",
      "166                     Febarbamate                 Liver   \n",
      "170                       Fenclozic                 Liver   \n",
      "182                   Fluproquazone                 Liver   \n",
      "214                        Ibufenac                 Liver   \n",
      "246                     Lumiracoxib                 Liver   \n",
      "253                    Medifoxamine                 Liver   \n",
      "284                      Moxisylyte                 Liver   \n",
      "295                      Nevirapine                 Liver   \n",
      "300                      Nimesulide                 Liver   \n",
      "302                     Nitrefazole                 Liver   \n",
      "317                   Oxyphenisatin                 Liver   \n",
      "377                   Pyrrolizidine                 Liver   \n",
      "437                       Tolcapone                 Liver   \n",
      "438                       Tolrestat                 Liver   \n",
      "446                    Troglitazone                 Liver   \n",
      "447                   Trovafloxacin                 Liver   \n",
      "456                        Xenazoic                 Liver   \n",
      "457                    Ximelagatran                 Liver   \n",
      "\n",
      "                                            pcp_result  \n",
      "6               [Compound(3086677), Compound(5282517)]  \n",
      "11                                   [Compound(54897)]  \n",
      "30                                    [Compound(2244)]  \n",
      "35                                    [Compound(2313)]  \n",
      "38                                  [Compound(255968)]  \n",
      "39                                    [Compound(2333)]  \n",
      "40                                    [Compound(6237)]  \n",
      "52                                   [Compound(60726)]  \n",
      "89                                    [Compound(8593)]  \n",
      "98                                                  []  \n",
      "104                                    [Compound(323)]  \n",
      "108                                   [Compound(2898)]  \n",
      "109                                [Compound(1550234)]  \n",
      "118                                                 []  \n",
      "125                                                 []  \n",
      "133                                 [Compound(134044)]  \n",
      "146                                  [Compound(65679)]  \n",
      "147                                  [Compound(65869)]  \n",
      "154                                  [Compound(12560)]  \n",
      "163                                  [Compound(40399)]  \n",
      "166                                  [Compound(25803)]  \n",
      "170                                                 []  \n",
      "182                                  [Compound(38503)]  \n",
      "214                                  [Compound(15250)]  \n",
      "246                                 [Compound(151166)]  \n",
      "253                                  [Compound(36109)]  \n",
      "284                                   [Compound(4260)]  \n",
      "295                                   [Compound(4463)]  \n",
      "300                                   [Compound(4495)]  \n",
      "302                                  [Compound(71900)]  \n",
      "317                                  [Compound(31315)]  \n",
      "377                                  [Compound(12558)]  \n",
      "437                                [Compound(4659569)]  \n",
      "438                                  [Compound(53359)]  \n",
      "446                                   [Compound(5591)]  \n",
      "447                                  [Compound(62959)]  \n",
      "456                                 [Compound(239062)]  \n",
      "457  [Compound(9574101), Compound(5478933), Compoun...  \n"
     ]
    }
   ],
   "source": [
    "onakpoya_df = pd.read_csv('Transformed_Data/Onakpoya_Drugs.csv', skiprows=[0]) # Read the table as csv\n",
    "onakpoya_df = onakpoya_df.filter(['Medicinal product', 'Reason for withdrawal']) # Drop irrelevant columns\n",
    "onakpoya_df = onakpoya_df[onakpoya_df['Reason for withdrawal'].str.endswith('Liver', na = False)] # Drop non-DILI related withdrawal\n",
    "onakpoya_df = onakpoya_df.replace({'‡':''}, regex=True) # Remove uninterpretable characters\n",
    "onakpoya_df['Medicinal product'] = onakpoya_df['Medicinal product'].str.partition(' ')[0] # Only keep first word of drug name\n",
    "\n",
    "## Drop multiword rows\n",
    "# multiword_rows = onakpoya_df[onakpoya_df['Medicinal product'].str.split().str.len() > 1].index\n",
    "# onakpoya_df = onakpoya_df.drop(multiword_rows, axis = 0)\n",
    "\n",
    "import pubchempy as pcp\n",
    "\n",
    "onakpoya_df['pcp_result'] = onakpoya_df['Medicinal product'].map(lambda x: pcp.get_compounds(identifier=x, namespace='name')) # Get pubchem CID for each compound\n",
    "\n",
    "#onakpoya_df['pcp_result'] = onakpoya_df['pcp_result'].str.partition(' ')[0] # Only keep first CID\n",
    "\n",
    "print(onakpoya_df)\n"
   ]
  },
  {
   "cell_type": "code",
   "execution_count": 292,
   "metadata": {},
   "outputs": [],
   "source": [
    "onakpoya_df.to_csv('Transformed_Data/attempto.csv')"
   ]
  },
  {
   "cell_type": "code",
   "execution_count": 483,
   "metadata": {},
   "outputs": [],
   "source": [
    "onakpoya_df2 = onakpoya_df\n",
    "\n",
    "#onakpoya_df2.to_csv('Transformed_Data/attempt.csv')\n",
    "\n",
    "# for compound in onakpoya_df2['pcp_result']:\n",
    "#     print(onakpoya_df2['pcp_result'].isomeric_smiles)\n"
   ]
  },
  {
   "cell_type": "markdown",
   "metadata": {},
   "source": [
    "### Append skeleton structures\n",
    "\n",
    "Generate RDKit molecular structure and append skeleton diagram as a column to the dataset."
   ]
  },
  {
   "cell_type": "code",
   "execution_count": 476,
   "metadata": {},
   "outputs": [
    {
     "name": "stdout",
     "output_type": "stream",
     "text": [
      "       X                 SMILES  DILI?  \\\n",
      "0  187.0   CC(=O)OCC[N+](C)(C)C    0.0   \n",
      "1  247.0  C[N+](C)(C)CC(=O)[O-]    0.0   \n",
      "\n",
      "                                           Structure  \n",
      "0  <rdkit.Chem.rdchem.Mol object at 0x0000022D65A...  \n",
      "1  <rdkit.Chem.rdchem.Mol object at 0x0000022D65A...  \n"
     ]
    }
   ],
   "source": [
    "# Get RDKit molecular structure\n",
    "from rdkit.Chem import PandasTools\n",
    "PandasTools.AddMoleculeColumnToFrame(tox_df, 'SMILES', 'Structure')\n",
    "print(tox_df.head(2))\n",
    "\n",
    "# Display RDKit molecule skeleton - Use Ipython to fix broken pandas functionality (doesn't display skeleton in HTML table)\n",
    "# from IPython.display import HTML"
   ]
  },
  {
   "cell_type": "markdown",
   "metadata": {},
   "source": [
    "# Get Fingerprints\n",
    "\n",
    "Define function 'generate_fingerprints'\n",
    "Initialise empty list of Morgan fingerprints\n",
    "for molecules in a given dataframe, generate their morgan fingerprints and append them to the dataframe\n",
    "Reutrn appended dataframe as numpy array to analyse using 'shape'\n",
    "\n",
    "Run generate_fingerprints on each molecule in the dataframe\n",
    "\n",
    "Use shape to confirm success - First number should equal dataframe length\n"
   ]
  },
  {
   "cell_type": "code",
   "execution_count": 477,
   "metadata": {},
   "outputs": [],
   "source": [
    "from rdkit import DataStructs\n",
    "\n",
    "def computeMorganFP(mol, depth = 2, nBits = 2048):\n",
    "    a = np.zeros(nBits, int)\n",
    "    DataStructs.ConvertToNumpyArray(AllChem.GetMorganFingerprintAsBitVect(mol, depth, nBits), a)\n",
    "    return a\n",
    "\n",
    "tox_df[\"m3fp\"] = tox_df[\"Structure\"].map(computeMorganFP)"
   ]
  },
  {
   "cell_type": "code",
   "execution_count": 479,
   "metadata": {},
   "outputs": [
    {
     "name": "stdout",
     "output_type": "stream",
     "text": [
      "   0  1  2  3  4  5  6  7  8  9  ...  2039  2040  2041  2042  2043  2044  \\\n",
      "0  0  0  0  0  0  0  0  0  0  0  ...     0     0     0     0     0     0   \n",
      "1  0  0  0  0  0  0  0  0  0  0  ...     0     0     0     0     0     0   \n",
      "\n",
      "   2045  2046  2047  DILI?  \n",
      "0     0     0     0      0  \n",
      "1     0     0     0      0  \n",
      "\n",
      "[2 rows x 2049 columns]\n"
     ]
    }
   ],
   "source": [
    "morgan_df = tox_df[\"m3fp\"].apply(pd.Series)\n",
    "\n",
    "morgan_df.insert(len(morgan_df.columns), \"DILI?\", tox_df[\"DILI?\"].astype(int)) # Insert \"DILI?\" column as the last column\n",
    "\n",
    "morgan_df.columns = morgan_df.columns.astype(str) # Set all column titles to string - Required for model\n",
    "\n",
    "print(morgan_df.head(2))"
   ]
  },
  {
   "cell_type": "code",
   "execution_count": 480,
   "metadata": {},
   "outputs": [
    {
     "data": {
      "text/html": [
       "<style>#sk-container-id-24 {color: black;}#sk-container-id-24 pre{padding: 0;}#sk-container-id-24 div.sk-toggleable {background-color: white;}#sk-container-id-24 label.sk-toggleable__label {cursor: pointer;display: block;width: 100%;margin-bottom: 0;padding: 0.3em;box-sizing: border-box;text-align: center;}#sk-container-id-24 label.sk-toggleable__label-arrow:before {content: \"▸\";float: left;margin-right: 0.25em;color: #696969;}#sk-container-id-24 label.sk-toggleable__label-arrow:hover:before {color: black;}#sk-container-id-24 div.sk-estimator:hover label.sk-toggleable__label-arrow:before {color: black;}#sk-container-id-24 div.sk-toggleable__content {max-height: 0;max-width: 0;overflow: hidden;text-align: left;background-color: #f0f8ff;}#sk-container-id-24 div.sk-toggleable__content pre {margin: 0.2em;color: black;border-radius: 0.25em;background-color: #f0f8ff;}#sk-container-id-24 input.sk-toggleable__control:checked~div.sk-toggleable__content {max-height: 200px;max-width: 100%;overflow: auto;}#sk-container-id-24 input.sk-toggleable__control:checked~label.sk-toggleable__label-arrow:before {content: \"▾\";}#sk-container-id-24 div.sk-estimator input.sk-toggleable__control:checked~label.sk-toggleable__label {background-color: #d4ebff;}#sk-container-id-24 div.sk-label input.sk-toggleable__control:checked~label.sk-toggleable__label {background-color: #d4ebff;}#sk-container-id-24 input.sk-hidden--visually {border: 0;clip: rect(1px 1px 1px 1px);clip: rect(1px, 1px, 1px, 1px);height: 1px;margin: -1px;overflow: hidden;padding: 0;position: absolute;width: 1px;}#sk-container-id-24 div.sk-estimator {font-family: monospace;background-color: #f0f8ff;border: 1px dotted black;border-radius: 0.25em;box-sizing: border-box;margin-bottom: 0.5em;}#sk-container-id-24 div.sk-estimator:hover {background-color: #d4ebff;}#sk-container-id-24 div.sk-parallel-item::after {content: \"\";width: 100%;border-bottom: 1px solid gray;flex-grow: 1;}#sk-container-id-24 div.sk-label:hover label.sk-toggleable__label {background-color: #d4ebff;}#sk-container-id-24 div.sk-serial::before {content: \"\";position: absolute;border-left: 1px solid gray;box-sizing: border-box;top: 0;bottom: 0;left: 50%;z-index: 0;}#sk-container-id-24 div.sk-serial {display: flex;flex-direction: column;align-items: center;background-color: white;padding-right: 0.2em;padding-left: 0.2em;position: relative;}#sk-container-id-24 div.sk-item {position: relative;z-index: 1;}#sk-container-id-24 div.sk-parallel {display: flex;align-items: stretch;justify-content: center;background-color: white;position: relative;}#sk-container-id-24 div.sk-item::before, #sk-container-id-24 div.sk-parallel-item::before {content: \"\";position: absolute;border-left: 1px solid gray;box-sizing: border-box;top: 0;bottom: 0;left: 50%;z-index: -1;}#sk-container-id-24 div.sk-parallel-item {display: flex;flex-direction: column;z-index: 1;position: relative;background-color: white;}#sk-container-id-24 div.sk-parallel-item:first-child::after {align-self: flex-end;width: 50%;}#sk-container-id-24 div.sk-parallel-item:last-child::after {align-self: flex-start;width: 50%;}#sk-container-id-24 div.sk-parallel-item:only-child::after {width: 0;}#sk-container-id-24 div.sk-dashed-wrapped {border: 1px dashed gray;margin: 0 0.4em 0.5em 0.4em;box-sizing: border-box;padding-bottom: 0.4em;background-color: white;}#sk-container-id-24 div.sk-label label {font-family: monospace;font-weight: bold;display: inline-block;line-height: 1.2em;}#sk-container-id-24 div.sk-label-container {text-align: center;}#sk-container-id-24 div.sk-container {/* jupyter's `normalize.less` sets `[hidden] { display: none; }` but bootstrap.min.css set `[hidden] { display: none !important; }` so we also need the `!important` here to be able to override the default hidden behavior on the sphinx rendered scikit-learn.org. See: https://github.com/scikit-learn/scikit-learn/issues/21755 */display: inline-block !important;position: relative;}#sk-container-id-24 div.sk-text-repr-fallback {display: none;}</style><div id=\"sk-container-id-24\" class=\"sk-top-container\"><div class=\"sk-text-repr-fallback\"><pre>RandomForestRegressor(random_state=42)</pre><b>In a Jupyter environment, please rerun this cell to show the HTML representation or trust the notebook. <br />On GitHub, the HTML representation is unable to render, please try loading this page with nbviewer.org.</b></div><div class=\"sk-container\" hidden><div class=\"sk-item\"><div class=\"sk-estimator sk-toggleable\"><input class=\"sk-toggleable__control sk-hidden--visually\" id=\"sk-estimator-id-24\" type=\"checkbox\" checked><label for=\"sk-estimator-id-24\" class=\"sk-toggleable__label sk-toggleable__label-arrow\">RandomForestRegressor</label><div class=\"sk-toggleable__content\"><pre>RandomForestRegressor(random_state=42)</pre></div></div></div></div></div>"
      ],
      "text/plain": [
       "RandomForestRegressor(random_state=42)"
      ]
     },
     "execution_count": 480,
     "metadata": {},
     "output_type": "execute_result"
    }
   ],
   "source": [
    "# Instantiate Random Forest Regressor\n",
    "model_rf = RandomForestRegressor(random_state=42)\n",
    "\n",
    "# Instantiate a dict of paramaters of RFR\n",
    "params_rf = {'bootstrap': [True, False],\n",
    "               'max_depth': [range(1, 4096, 10), None],\n",
    "               'max_features': ['auto', 'sqrt', 'log2', 1],\n",
    "               'min_samples_leaf': range(1, 8, 1),\n",
    "               'min_samples_split': range(1, 8, 1),\n",
    "               'n_estimators': range(10, 800, 10)}\n",
    "\n",
    "x = morgan_df.iloc[:, 0:len(morgan_df.columns)-1] # Features\n",
    "y = morgan_df[\"DILI?\"].values # Labels\n",
    "\n",
    "model_rf.fit(x, y)"
   ]
  },
  {
   "cell_type": "code",
   "execution_count": 481,
   "metadata": {},
   "outputs": [
    {
     "name": "stdout",
     "output_type": "stream",
     "text": [
      "Tuned Logistic Regression Parameters: {'n_estimators': 420, 'min_samples_split': 5, 'min_samples_leaf': 1, 'max_features': 'sqrt', 'max_depth': None, 'bootstrap': False}\n",
      "Best score is 0.39720108557062417\n"
     ]
    }
   ],
   "source": [
    "# Set up scoring methods for hyperparameter tuning\n",
    "scoring = ['r2', 'neg_root_mean_squared_error']\n",
    "\n",
    "# Enable multithreading functionality\n",
    "import multiprocessing\n",
    "n_jobs = multiprocessing.cpu_count()-1\n",
    "\n",
    "# Run RandomizedSearchCV to optimise random forest hyperparameters\n",
    "from sklearn.model_selection import RandomizedSearchCV\n",
    "\n",
    "rf_cv = RandomizedSearchCV(model_rf, params_rf, cv = 5, n_iter=128, n_jobs=n_jobs, random_state=42, scoring='r2') #5-fold precedended in AbdulHameed\n",
    "\n",
    "rf_cv.fit(x, y)\n",
    "\n",
    "# Print scores\n",
    "print(\"Tuned Logistic Regression Parameters: {}\".format(rf_cv.best_params_)) \n",
    "print(\"Best score is {}\".format(rf_cv.best_score_))"
   ]
  },
  {
   "cell_type": "markdown",
   "metadata": {},
   "source": [
    "## Thanks To\n",
    "\n",
    "https://www.youtube.com/watch?v=-oHqQBUyrQ0\n",
    "\n",
    "https://towardsdatascience.com/hyperparameter-tuning-the-random-forest-in-python-using-scikit-learn-28d2aa77dd74\n",
    "\n",
    "https://github.com/PatWalters/practical_cheminformatics_posts/blob/main/solubility/literature_solubility_model.ipynb\n",
    "\n",
    "https://leftwinglow.github.io/BachelorsProject/\n",
    "\n",
    "https://github.com/gashawmg/Molecular-fingerprints/blob/main/Calculating%20molecular%20fingerprints%20available%20in%20RDkit%20.ipynb\n",
    "\n",
    "https://github.com/gashawmg/Avalon-fingerprints-for-machine-learning/blob/main/Avalon%20fingerprints%20for%20predictive%20modeling.ipynb"
   ]
  }
 ],
 "metadata": {
  "kernelspec": {
   "display_name": "Python 3 (ipykernel)",
   "language": "python",
   "name": "python3"
  },
  "language_info": {
   "codemirror_mode": {
    "name": "ipython",
    "version": 3
   },
   "file_extension": ".py",
   "mimetype": "text/x-python",
   "name": "python",
   "nbconvert_exporter": "python",
   "pygments_lexer": "ipython3",
   "version": "3.11.5"
  }
 },
 "nbformat": 4,
 "nbformat_minor": 2
}
