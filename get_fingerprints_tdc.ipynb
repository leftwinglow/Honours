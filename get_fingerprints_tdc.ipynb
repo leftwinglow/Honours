{
 "cells": [
  {
   "cell_type": "markdown",
   "metadata": {},
   "source": [
    "## Import Dependencies\n",
    "\n",
    "### General\n",
    "* Pandas\n",
    "* Numpy\n",
    "* Seaborn\n",
    "\n",
    "### Datasets\n",
    "* TDC Tox\n",
    "\n",
    "### RDKit Modules\n",
    "* AllChem\n",
    "* rdMolDescriptors\n",
    "* IPythonConsole\n",
    "* Draw\n",
    "* DataStructs\n",
    "* Butina"
   ]
  },
  {
   "cell_type": "code",
   "execution_count": 7,
   "metadata": {},
   "outputs": [],
   "source": [
    "import pandas as pd\n",
    "import numpy as np\n",
    "import seaborn as sn\n",
    "#---------------------- Therapeutic Drug Commons (TDC data) from https://tdcommons.ai/single_pred_tasks/tox/#dili-drug-induced-liver-injury\n",
    "from tdc.single_pred import Tox\n",
    "#---------------------- RDKit packages\n",
    "from rdkit.Chem import AllChem\n",
    "from rdkit.Chem import rdMolDescriptors\n",
    "from rdkit.Chem.Draw import IPythonConsole\n",
    "from rdkit.Chem import Draw\n",
    "from rdkit import DataStructs\n",
    "from rdkit.ML.Cluster import Butina"
   ]
  },
  {
   "cell_type": "markdown",
   "metadata": {},
   "source": [
    "## Data cleaning\n",
    "\n",
    "### Reading, converting to pandas\n",
    "\n",
    "Read TDC Tox DILI Dataset & convert to Pandas dataframe.\\\n",
    "Rename columns to be more human-readable."
   ]
  },
  {
   "cell_type": "code",
   "execution_count": 8,
   "metadata": {},
   "outputs": [
    {
     "name": "stderr",
     "output_type": "stream",
     "text": [
      "Found local copy...\n",
      "Loading...\n",
      "Done!\n"
     ]
    }
   ],
   "source": [
    "# Make this a function that works for multiple datasets, concatenates them\n",
    "\n",
    "tox_data = Tox(name = 'DILI')\n",
    "\n",
    "tox_df = tox_data.get_data()\n",
    "\n",
    "tox_df.columns = [\"X\", \"SMILES\", \"DILI? (bool)\"]"
   ]
  },
  {
   "cell_type": "markdown",
   "metadata": {},
   "source": [
    "### Append skeleton structures\n",
    "\n",
    "Generate RDKit molecular structure and append skeleton diagram as a column to the dataset."
   ]
  },
  {
   "cell_type": "code",
   "execution_count": null,
   "metadata": {},
   "outputs": [],
   "source": [
    "\n",
    "# Get RDKit molecular structure\n",
    "from rdkit.Chem import PandasTools\n",
    "PandasTools.AddMoleculeColumnToFrame(tox_df, 'SMILES', 'Structure')\n",
    "\n",
    "# Display RDKit molecule skeleton - Use Ipython to fix broken pandas functionality (doesn't display skeleton in HTML table)\n",
    "from IPython.display import HTML\n",
    "HTML(tox_df.to_html())"
   ]
  },
  {
   "cell_type": "markdown",
   "metadata": {},
   "source": [
    "# Get Fingerprints\n",
    "\n",
    "Define function 'generate_fingerprints'\n",
    "Initialise empty list of Morgan fingerprints\n",
    "for molecules in a given dataframe, generate their morgan fingerprints and append them to the dataframe\n",
    "Reutrn appended dataframe as numpy array to analyse using 'shape'\n",
    "\n",
    "Run generate_fingerprints on each molecule in the dataframe\n",
    "\n",
    "Use shape to confirm success - First number should equal dataframe length\n"
   ]
  },
  {
   "cell_type": "code",
   "execution_count": 10,
   "metadata": {},
   "outputs": [],
   "source": [
    "from rdkit import DataStructs\n",
    "\n",
    "def computeMorganFP(mol, depth = 2, nBits = 2048):\n",
    "    a = np.zeros(nBits, int)\n",
    "    DataStructs.ConvertToNumpyArray(AllChem.GetMorganFingerprintAsBitVect(mol,depth,nBits),a)\n",
    "    return a\n",
    "\n",
    "\n",
    "tox_df[\"m3fp\"] = tox_df[\"Structure\"].map(computeMorganFP)"
   ]
  },
  {
   "cell_type": "code",
   "execution_count": 16,
   "metadata": {},
   "outputs": [
    {
     "name": "stdout",
     "output_type": "stream",
     "text": [
      "<bound method NDFrame.describe of      0  1  2  3  4  5  6  7  8  9  ...  2039  2040  2041  2042  2043  2044  \\\n",
      "0    0  0  0  0  0  0  0  0  0  0  ...     0     0     0     0     0     0   \n",
      "1    0  0  0  0  0  0  0  0  0  0  ...     0     0     0     0     0     0   \n",
      "2    0  1  0  0  0  0  0  0  0  0  ...     0     0     0     0     0     0   \n",
      "3    0  0  0  0  0  0  0  0  0  0  ...     0     0     0     0     0     0   \n",
      "4    0  1  0  0  0  0  0  0  0  0  ...     0     0     0     0     0     0   \n",
      "..  .. .. .. .. .. .. .. .. .. ..  ...   ...   ...   ...   ...   ...   ...   \n",
      "470  0  1  0  0  0  0  0  0  0  0  ...     0     0     0     0     0     0   \n",
      "471  0  1  0  0  0  0  0  0  0  0  ...     0     0     0     0     0     0   \n",
      "472  0  0  0  0  0  0  0  0  0  0  ...     0     0     0     0     0     0   \n",
      "473  0  1  0  0  0  0  0  0  0  0  ...     0     0     0     0     0     0   \n",
      "474  0  0  0  0  0  0  0  0  0  0  ...     0     0     0     0     0     0   \n",
      "\n",
      "     2045  2046  2047  DILI?  \n",
      "0       0     0     0      0  \n",
      "1       0     0     0      0  \n",
      "2       0     0     0      0  \n",
      "3       0     0     0      0  \n",
      "4       0     0     0      0  \n",
      "..    ...   ...   ...    ...  \n",
      "470     0     0     0      1  \n",
      "471     0     0     0      0  \n",
      "472     0     0     0      1  \n",
      "473     0     0     0      0  \n",
      "474     0     0     0      1  \n",
      "\n",
      "[475 rows x 2049 columns]>\n"
     ]
    }
   ],
   "source": [
    "morgan_df = tox_df[\"m3fp\"].apply(pd.Series)\n",
    "\n",
    "morgan_df.insert(2048, \"DILI?\", tox_df[\"DILI? (bool)\"].astype(int))\n",
    "\n",
    "\n",
    "print(morgan_df.describe)"
   ]
  },
  {
   "cell_type": "markdown",
   "metadata": {},
   "source": [
    "## Thanks To\n",
    "\n",
    "https://www.youtube.com/watch?v=-oHqQBUyrQ0"
   ]
  }
 ],
 "metadata": {
  "kernelspec": {
   "display_name": "Python 3 (ipykernel)",
   "language": "python",
   "name": "python3"
  },
  "language_info": {
   "codemirror_mode": {
    "name": "ipython",
    "version": 3
   },
   "file_extension": ".py",
   "mimetype": "text/x-python",
   "name": "python",
   "nbconvert_exporter": "python",
   "pygments_lexer": "ipython3",
   "version": "3.11.5"
  }
 },
 "nbformat": 4,
 "nbformat_minor": 2
}
