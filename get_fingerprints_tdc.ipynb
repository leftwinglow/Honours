{
 "cells": [
  {
   "cell_type": "markdown",
   "metadata": {},
   "source": [
    "## Project outline\n",
    "### Could it have been predicted?\n",
    "\n",
    "In this project we will develop a series of safety pharmacology models using python based cheminformatic tools such as Rdkit, Scikitlearn, and pytorch. We want to see if machine learning cheminformatic toxicity models can single out the molecules that were ultimately removed from the market. I have collected a database of drugs that were withdrawn from the market due to toxicity for various reasons. This can be combined with a database of currently available medications to form a test set which can be used to test a model designed to predict toxicity. Many of the drugs that have been withdrawn over the years were withdrawn due to hepatotoxicity or DILI (drug induced liver injury) so I have collected a dataset of molecules with BSEP binding values to develop a model capable of predicting hepatoxicity. This will be the first model. If time allows, we will also gather data on other toxicities responsible for drug withdrawal such as binding the HERG (IKr) associated protein and potentially other secondary pharmacology assay targets such as Gprotein-coupledreceptors (GPCRs), enzymes, kinases, nuclear hormone receptors, ion channels and transporters.\n",
    "\n",
    "### References\n",
    "Assay Targets:\n",
    "\n",
    "Jenkinson, S., et al., A practical guide to secondary pharmacology in drug discovery. Journal of Pharmacological and Toxicological Methods, 2020. 105.\n",
    "\n",
    "BSEP Database:\n",
    "\n",
    "AbdulHameed, M.D.M., R. Liu, and A. Wallqvist, Using a Graph Convolutional Neural Network Model to Identify Bile Salt Export Pump Inhibitors. ACS Omega, 2023. 8(24): p. 21853-21861.\n",
    "\n",
    "Dataset of Withdrawn drugs:\n",
    "\n",
    "Siramshetty, V.B., et al., WITHDRAWN--a resource for withdrawn and discontinued drugs. Nucleic Acids Res, 2016. 44(D1): p. D1080-6.\n",
    "\n",
    "Onakpoya, I. J., Heneghan, C. J., & Aronson, J. K. (2016). Post-marketing withdrawal of 462 medicinal products because of adverse drug reactions: a systematic review of the world literature. BMC Medicine, 14, 10."
   ]
  },
  {
   "cell_type": "markdown",
   "metadata": {},
   "source": [
    "## Import Dependencies\n",
    "\n",
    "### General\n",
    "* Pandas\n",
    "* Numpy\n",
    "* Seaborn\n",
    "\n",
    "### Datasets\n",
    "* TDC Tox\n",
    "\n",
    "### RDKit Modules\n",
    "* AllChem\n",
    "* rdMolDescriptors\n",
    "* IPythonConsole\n",
    "* Draw\n",
    "* DataStructs\n",
    "* Butina"
   ]
  },
  {
   "cell_type": "code",
   "execution_count": 1,
   "metadata": {},
   "outputs": [],
   "source": [
    "import pandas as pd\n",
    "import numpy as np\n",
    "import seaborn as sn\n",
    "#---------------------- Therapeutic Drug Commons (TDC data) from https://tdcommons.ai/single_pred_tasks/tox/#dili-drug-induced-liver-injury\n",
    "from tdc.single_pred import Tox\n",
    "#---------------------- RDKit packages\n",
    "from rdkit.Chem import AllChem\n",
    "from rdkit.Chem import rdMolDescriptors\n",
    "from rdkit.Chem.Draw import IPythonConsole\n",
    "from rdkit.Chem import Draw\n",
    "from rdkit import DataStructs\n",
    "from rdkit.ML.Cluster import Butina\n",
    "#-\n",
    "from sklearn.metrics import r2_score, mean_absolute_error, mean_squared_error\n",
    "from sklearn import ensemble\n",
    "from sklearn.model_selection import ShuffleSplit, cross_validate,train_test_split"
   ]
  },
  {
   "cell_type": "markdown",
   "metadata": {},
   "source": [
    "## Data cleaning\n",
    "\n",
    "### Reading, converting to pandas\n",
    "\n",
    "Read TDC Tox DILI Dataset & convert to Pandas dataframe.\\\n",
    "Rename columns to be more human-readable."
   ]
  },
  {
   "cell_type": "code",
   "execution_count": 2,
   "metadata": {},
   "outputs": [
    {
     "name": "stderr",
     "output_type": "stream",
     "text": [
      "Found local copy...\n",
      "Loading...\n",
      "Done!\n"
     ]
    }
   ],
   "source": [
    "# This is Xu dataset\n",
    "tox_data = Tox(name = 'DILI')\n",
    "tox_df = tox_data.get_data()\n",
    "tox_df.columns = [\"X\", \"SMILES\", \"DILI?\"]"
   ]
  },
  {
   "cell_type": "code",
   "execution_count": 10,
   "metadata": {},
   "outputs": [
    {
     "name": "stdout",
     "output_type": "stream",
     "text": [
      "                                              SMILES  BSEP ACTIVITY\n",
      "0  CC[C@H]1C(=O)N(C)[C@H](C)C(=O)N(CC)[C@@H](C(C)...              1\n",
      "1  CCC1C(=O)N(C)C(C)C(=O)N(CC)C(C(C)C)C(=O)NC(C(C...              1\n"
     ]
    }
   ],
   "source": [
    "Hameed_df = pd.read_excel(\"Transformed_Data/Hameed_BSEP.xlsx\", sheet_name=1, usecols = range(1, 3))\n",
    "\n",
    "print(Hameed_df.head(2))"
   ]
  },
  {
   "cell_type": "code",
   "execution_count": 11,
   "metadata": {},
   "outputs": [
    {
     "ename": "KeyboardInterrupt",
     "evalue": "",
     "output_type": "error",
     "traceback": [
      "\u001b[1;31m---------------------------------------------------------------------------\u001b[0m",
      "\u001b[1;31mKeyboardInterrupt\u001b[0m                         Traceback (most recent call last)",
      "\u001b[1;32mc:\\Users\\Luke\\Documents\\University\\5th Year\\Honours Python\\get_fingerprints_tdc.ipynb Cell 7\u001b[0m line \u001b[0;36m1\n\u001b[0;32m      <a href='vscode-notebook-cell:/c%3A/Users/Luke/Documents/University/5th%20Year/Honours%20Python/get_fingerprints_tdc.ipynb#W6sZmlsZQ%3D%3D?line=6'>7</a>\u001b[0m \u001b[39m## Drop multiword rows\u001b[39;00m\n\u001b[0;32m      <a href='vscode-notebook-cell:/c%3A/Users/Luke/Documents/University/5th%20Year/Honours%20Python/get_fingerprints_tdc.ipynb#W6sZmlsZQ%3D%3D?line=7'>8</a>\u001b[0m \u001b[39m# multiword_rows = onakpoya_df[onakpoya_df['Medicinal product'].str.split().str.len() > 1].index\u001b[39;00m\n\u001b[0;32m      <a href='vscode-notebook-cell:/c%3A/Users/Luke/Documents/University/5th%20Year/Honours%20Python/get_fingerprints_tdc.ipynb#W6sZmlsZQ%3D%3D?line=8'>9</a>\u001b[0m \u001b[39m# onakpoya_df = onakpoya_df.drop(multiword_rows, axis = 0)\u001b[39;00m\n\u001b[0;32m     <a href='vscode-notebook-cell:/c%3A/Users/Luke/Documents/University/5th%20Year/Honours%20Python/get_fingerprints_tdc.ipynb#W6sZmlsZQ%3D%3D?line=10'>11</a>\u001b[0m \u001b[39mimport\u001b[39;00m \u001b[39mpubchempy\u001b[39;00m \u001b[39mas\u001b[39;00m \u001b[39mpcp\u001b[39;00m\n\u001b[1;32m---> <a href='vscode-notebook-cell:/c%3A/Users/Luke/Documents/University/5th%20Year/Honours%20Python/get_fingerprints_tdc.ipynb#W6sZmlsZQ%3D%3D?line=12'>13</a>\u001b[0m onakpoya_df[\u001b[39m'\u001b[39m\u001b[39mpcp_result\u001b[39m\u001b[39m'\u001b[39m] \u001b[39m=\u001b[39m onakpoya_df[\u001b[39m'\u001b[39;49m\u001b[39mMedicinal product\u001b[39;49m\u001b[39m'\u001b[39;49m]\u001b[39m.\u001b[39;49mmap(\u001b[39mlambda\u001b[39;49;00m x: pcp\u001b[39m.\u001b[39;49mget_compounds(identifier\u001b[39m=\u001b[39;49mx, namespace\u001b[39m=\u001b[39;49m\u001b[39m'\u001b[39;49m\u001b[39mname\u001b[39;49m\u001b[39m'\u001b[39;49m)) \u001b[39m# Get pubchem CID for each compound\u001b[39;00m\n\u001b[0;32m     <a href='vscode-notebook-cell:/c%3A/Users/Luke/Documents/University/5th%20Year/Honours%20Python/get_fingerprints_tdc.ipynb#W6sZmlsZQ%3D%3D?line=14'>15</a>\u001b[0m \u001b[39m#onakpoya_df['pcp_result'] = onakpoya_df['pcp_result'].str.partition(' ')[0] # Only keep first CID\u001b[39;00m\n\u001b[0;32m     <a href='vscode-notebook-cell:/c%3A/Users/Luke/Documents/University/5th%20Year/Honours%20Python/get_fingerprints_tdc.ipynb#W6sZmlsZQ%3D%3D?line=16'>17</a>\u001b[0m \u001b[39mprint\u001b[39m(onakpoya_df\u001b[39m.\u001b[39mhead(\u001b[39m2\u001b[39m))\n",
      "File \u001b[1;32mc:\\Users\\Luke\\anaconda3\\envs\\honours\\Lib\\site-packages\\pandas\\core\\series.py:4540\u001b[0m, in \u001b[0;36mSeries.map\u001b[1;34m(self, arg, na_action)\u001b[0m\n\u001b[0;32m   4460\u001b[0m \u001b[39mdef\u001b[39;00m \u001b[39mmap\u001b[39m(\n\u001b[0;32m   4461\u001b[0m     \u001b[39mself\u001b[39m,\n\u001b[0;32m   4462\u001b[0m     arg: Callable \u001b[39m|\u001b[39m Mapping \u001b[39m|\u001b[39m Series,\n\u001b[0;32m   4463\u001b[0m     na_action: Literal[\u001b[39m\"\u001b[39m\u001b[39mignore\u001b[39m\u001b[39m\"\u001b[39m] \u001b[39m|\u001b[39m \u001b[39mNone\u001b[39;00m \u001b[39m=\u001b[39m \u001b[39mNone\u001b[39;00m,\n\u001b[0;32m   4464\u001b[0m ) \u001b[39m-\u001b[39m\u001b[39m>\u001b[39m Series:\n\u001b[0;32m   4465\u001b[0m \u001b[39m    \u001b[39m\u001b[39m\"\"\"\u001b[39;00m\n\u001b[0;32m   4466\u001b[0m \u001b[39m    Map values of Series according to an input mapping or function.\u001b[39;00m\n\u001b[0;32m   4467\u001b[0m \n\u001b[1;32m   (...)\u001b[0m\n\u001b[0;32m   4538\u001b[0m \u001b[39m    dtype: object\u001b[39;00m\n\u001b[0;32m   4539\u001b[0m \u001b[39m    \"\"\"\u001b[39;00m\n\u001b[1;32m-> 4540\u001b[0m     new_values \u001b[39m=\u001b[39m \u001b[39mself\u001b[39;49m\u001b[39m.\u001b[39;49m_map_values(arg, na_action\u001b[39m=\u001b[39;49mna_action)\n\u001b[0;32m   4541\u001b[0m     \u001b[39mreturn\u001b[39;00m \u001b[39mself\u001b[39m\u001b[39m.\u001b[39m_constructor(new_values, index\u001b[39m=\u001b[39m\u001b[39mself\u001b[39m\u001b[39m.\u001b[39mindex, copy\u001b[39m=\u001b[39m\u001b[39mFalse\u001b[39;00m)\u001b[39m.\u001b[39m__finalize__(\n\u001b[0;32m   4542\u001b[0m         \u001b[39mself\u001b[39m, method\u001b[39m=\u001b[39m\u001b[39m\"\u001b[39m\u001b[39mmap\u001b[39m\u001b[39m\"\u001b[39m\n\u001b[0;32m   4543\u001b[0m     )\n",
      "File \u001b[1;32mc:\\Users\\Luke\\anaconda3\\envs\\honours\\Lib\\site-packages\\pandas\\core\\base.py:921\u001b[0m, in \u001b[0;36mIndexOpsMixin._map_values\u001b[1;34m(self, mapper, na_action, convert)\u001b[0m\n\u001b[0;32m    918\u001b[0m \u001b[39mif\u001b[39;00m \u001b[39misinstance\u001b[39m(arr, ExtensionArray):\n\u001b[0;32m    919\u001b[0m     \u001b[39mreturn\u001b[39;00m arr\u001b[39m.\u001b[39mmap(mapper, na_action\u001b[39m=\u001b[39mna_action)\n\u001b[1;32m--> 921\u001b[0m \u001b[39mreturn\u001b[39;00m algorithms\u001b[39m.\u001b[39;49mmap_array(arr, mapper, na_action\u001b[39m=\u001b[39;49mna_action, convert\u001b[39m=\u001b[39;49mconvert)\n",
      "File \u001b[1;32mc:\\Users\\Luke\\anaconda3\\envs\\honours\\Lib\\site-packages\\pandas\\core\\algorithms.py:1814\u001b[0m, in \u001b[0;36mmap_array\u001b[1;34m(arr, mapper, na_action, convert)\u001b[0m\n\u001b[0;32m   1812\u001b[0m values \u001b[39m=\u001b[39m arr\u001b[39m.\u001b[39mastype(\u001b[39mobject\u001b[39m, copy\u001b[39m=\u001b[39m\u001b[39mFalse\u001b[39;00m)\n\u001b[0;32m   1813\u001b[0m \u001b[39mif\u001b[39;00m na_action \u001b[39mis\u001b[39;00m \u001b[39mNone\u001b[39;00m:\n\u001b[1;32m-> 1814\u001b[0m     \u001b[39mreturn\u001b[39;00m lib\u001b[39m.\u001b[39;49mmap_infer(values, mapper, convert\u001b[39m=\u001b[39;49mconvert)\n\u001b[0;32m   1815\u001b[0m \u001b[39melse\u001b[39;00m:\n\u001b[0;32m   1816\u001b[0m     \u001b[39mreturn\u001b[39;00m lib\u001b[39m.\u001b[39mmap_infer_mask(\n\u001b[0;32m   1817\u001b[0m         values, mapper, mask\u001b[39m=\u001b[39misna(values)\u001b[39m.\u001b[39mview(np\u001b[39m.\u001b[39muint8), convert\u001b[39m=\u001b[39mconvert\n\u001b[0;32m   1818\u001b[0m     )\n",
      "File \u001b[1;32mlib.pyx:2917\u001b[0m, in \u001b[0;36mpandas._libs.lib.map_infer\u001b[1;34m()\u001b[0m\n",
      "\u001b[1;32mc:\\Users\\Luke\\Documents\\University\\5th Year\\Honours Python\\get_fingerprints_tdc.ipynb Cell 7\u001b[0m line \u001b[0;36m1\n\u001b[0;32m      <a href='vscode-notebook-cell:/c%3A/Users/Luke/Documents/University/5th%20Year/Honours%20Python/get_fingerprints_tdc.ipynb#W6sZmlsZQ%3D%3D?line=6'>7</a>\u001b[0m \u001b[39m## Drop multiword rows\u001b[39;00m\n\u001b[0;32m      <a href='vscode-notebook-cell:/c%3A/Users/Luke/Documents/University/5th%20Year/Honours%20Python/get_fingerprints_tdc.ipynb#W6sZmlsZQ%3D%3D?line=7'>8</a>\u001b[0m \u001b[39m# multiword_rows = onakpoya_df[onakpoya_df['Medicinal product'].str.split().str.len() > 1].index\u001b[39;00m\n\u001b[0;32m      <a href='vscode-notebook-cell:/c%3A/Users/Luke/Documents/University/5th%20Year/Honours%20Python/get_fingerprints_tdc.ipynb#W6sZmlsZQ%3D%3D?line=8'>9</a>\u001b[0m \u001b[39m# onakpoya_df = onakpoya_df.drop(multiword_rows, axis = 0)\u001b[39;00m\n\u001b[0;32m     <a href='vscode-notebook-cell:/c%3A/Users/Luke/Documents/University/5th%20Year/Honours%20Python/get_fingerprints_tdc.ipynb#W6sZmlsZQ%3D%3D?line=10'>11</a>\u001b[0m \u001b[39mimport\u001b[39;00m \u001b[39mpubchempy\u001b[39;00m \u001b[39mas\u001b[39;00m \u001b[39mpcp\u001b[39;00m\n\u001b[1;32m---> <a href='vscode-notebook-cell:/c%3A/Users/Luke/Documents/University/5th%20Year/Honours%20Python/get_fingerprints_tdc.ipynb#W6sZmlsZQ%3D%3D?line=12'>13</a>\u001b[0m onakpoya_df[\u001b[39m'\u001b[39m\u001b[39mpcp_result\u001b[39m\u001b[39m'\u001b[39m] \u001b[39m=\u001b[39m onakpoya_df[\u001b[39m'\u001b[39m\u001b[39mMedicinal product\u001b[39m\u001b[39m'\u001b[39m]\u001b[39m.\u001b[39mmap(\u001b[39mlambda\u001b[39;00m x: pcp\u001b[39m.\u001b[39;49mget_compounds(identifier\u001b[39m=\u001b[39;49mx, namespace\u001b[39m=\u001b[39;49m\u001b[39m'\u001b[39;49m\u001b[39mname\u001b[39;49m\u001b[39m'\u001b[39;49m)) \u001b[39m# Get pubchem CID for each compound\u001b[39;00m\n\u001b[0;32m     <a href='vscode-notebook-cell:/c%3A/Users/Luke/Documents/University/5th%20Year/Honours%20Python/get_fingerprints_tdc.ipynb#W6sZmlsZQ%3D%3D?line=14'>15</a>\u001b[0m \u001b[39m#onakpoya_df['pcp_result'] = onakpoya_df['pcp_result'].str.partition(' ')[0] # Only keep first CID\u001b[39;00m\n\u001b[0;32m     <a href='vscode-notebook-cell:/c%3A/Users/Luke/Documents/University/5th%20Year/Honours%20Python/get_fingerprints_tdc.ipynb#W6sZmlsZQ%3D%3D?line=16'>17</a>\u001b[0m \u001b[39mprint\u001b[39m(onakpoya_df\u001b[39m.\u001b[39mhead(\u001b[39m2\u001b[39m))\n",
      "File \u001b[1;32mc:\\Users\\Luke\\anaconda3\\envs\\honours\\Lib\\site-packages\\pubchempy.py:321\u001b[0m, in \u001b[0;36mget_compounds\u001b[1;34m(identifier, namespace, searchtype, as_dataframe, **kwargs)\u001b[0m\n\u001b[0;32m    312\u001b[0m \u001b[39mdef\u001b[39;00m \u001b[39mget_compounds\u001b[39m(identifier, namespace\u001b[39m=\u001b[39m\u001b[39m'\u001b[39m\u001b[39mcid\u001b[39m\u001b[39m'\u001b[39m, searchtype\u001b[39m=\u001b[39m\u001b[39mNone\u001b[39;00m, as_dataframe\u001b[39m=\u001b[39m\u001b[39mFalse\u001b[39;00m, \u001b[39m*\u001b[39m\u001b[39m*\u001b[39mkwargs):\n\u001b[0;32m    313\u001b[0m \u001b[39m    \u001b[39m\u001b[39m\"\"\"Retrieve the specified compound records from PubChem.\u001b[39;00m\n\u001b[0;32m    314\u001b[0m \n\u001b[0;32m    315\u001b[0m \u001b[39m    :param identifier: The compound identifier to use as a search query.\u001b[39;00m\n\u001b[1;32m   (...)\u001b[0m\n\u001b[0;32m    319\u001b[0m \u001b[39m                         :class:`~pandas.DataFrame` and return that.\u001b[39;00m\n\u001b[0;32m    320\u001b[0m \u001b[39m    \"\"\"\u001b[39;00m\n\u001b[1;32m--> 321\u001b[0m     results \u001b[39m=\u001b[39m get_json(identifier, namespace, searchtype\u001b[39m=\u001b[39;49msearchtype, \u001b[39m*\u001b[39;49m\u001b[39m*\u001b[39;49mkwargs)\n\u001b[0;32m    322\u001b[0m     compounds \u001b[39m=\u001b[39m [Compound(r) \u001b[39mfor\u001b[39;00m r \u001b[39min\u001b[39;00m results[\u001b[39m'\u001b[39m\u001b[39mPC_Compounds\u001b[39m\u001b[39m'\u001b[39m]] \u001b[39mif\u001b[39;00m results \u001b[39melse\u001b[39;00m []\n\u001b[0;32m    323\u001b[0m     \u001b[39mif\u001b[39;00m as_dataframe:\n",
      "File \u001b[1;32mc:\\Users\\Luke\\anaconda3\\envs\\honours\\Lib\\site-packages\\pubchempy.py:299\u001b[0m, in \u001b[0;36mget_json\u001b[1;34m(identifier, namespace, domain, operation, searchtype, **kwargs)\u001b[0m\n\u001b[0;32m    297\u001b[0m \u001b[39m\u001b[39m\u001b[39m\"\"\"Request wrapper that automatically parses JSON response and supresses NotFoundError.\"\"\"\u001b[39;00m\n\u001b[0;32m    298\u001b[0m \u001b[39mtry\u001b[39;00m:\n\u001b[1;32m--> 299\u001b[0m     \u001b[39mreturn\u001b[39;00m json\u001b[39m.\u001b[39mloads(get(identifier, namespace, domain, operation, \u001b[39m'\u001b[39;49m\u001b[39mJSON\u001b[39;49m\u001b[39m'\u001b[39;49m, searchtype, \u001b[39m*\u001b[39;49m\u001b[39m*\u001b[39;49mkwargs)\u001b[39m.\u001b[39mdecode())\n\u001b[0;32m    300\u001b[0m \u001b[39mexcept\u001b[39;00m NotFoundError \u001b[39mas\u001b[39;00m e:\n\u001b[0;32m    301\u001b[0m     log\u001b[39m.\u001b[39minfo(e)\n",
      "File \u001b[1;32mc:\\Users\\Luke\\anaconda3\\envs\\honours\\Lib\\site-packages\\pubchempy.py:292\u001b[0m, in \u001b[0;36mget\u001b[1;34m(identifier, namespace, domain, operation, output, searchtype, **kwargs)\u001b[0m\n\u001b[0;32m    290\u001b[0m             response \u001b[39m=\u001b[39m request(identifier, namespace, domain, operation, output, searchtype, \u001b[39m*\u001b[39m\u001b[39m*\u001b[39mkwargs)\u001b[39m.\u001b[39mread()\n\u001b[0;32m    291\u001b[0m \u001b[39melse\u001b[39;00m:\n\u001b[1;32m--> 292\u001b[0m     response \u001b[39m=\u001b[39m request(identifier, namespace, domain, operation, output, searchtype, \u001b[39m*\u001b[39;49m\u001b[39m*\u001b[39;49mkwargs)\u001b[39m.\u001b[39mread()\n\u001b[0;32m    293\u001b[0m \u001b[39mreturn\u001b[39;00m response\n",
      "File \u001b[1;32mc:\\Users\\Luke\\anaconda3\\envs\\honours\\Lib\\site-packages\\pubchempy.py:271\u001b[0m, in \u001b[0;36mrequest\u001b[1;34m(identifier, namespace, domain, operation, output, searchtype, **kwargs)\u001b[0m\n\u001b[0;32m    269\u001b[0m     log\u001b[39m.\u001b[39mdebug(\u001b[39m'\u001b[39m\u001b[39mRequest URL: \u001b[39m\u001b[39m%s\u001b[39;00m\u001b[39m'\u001b[39m, apiurl)\n\u001b[0;32m    270\u001b[0m     log\u001b[39m.\u001b[39mdebug(\u001b[39m'\u001b[39m\u001b[39mRequest data: \u001b[39m\u001b[39m%s\u001b[39;00m\u001b[39m'\u001b[39m, postdata)\n\u001b[1;32m--> 271\u001b[0m     response \u001b[39m=\u001b[39m urlopen(apiurl, postdata)\n\u001b[0;32m    272\u001b[0m     \u001b[39mreturn\u001b[39;00m response\n\u001b[0;32m    273\u001b[0m \u001b[39mexcept\u001b[39;00m HTTPError \u001b[39mas\u001b[39;00m e:\n",
      "File \u001b[1;32mc:\\Users\\Luke\\anaconda3\\envs\\honours\\Lib\\urllib\\request.py:216\u001b[0m, in \u001b[0;36murlopen\u001b[1;34m(url, data, timeout, cafile, capath, cadefault, context)\u001b[0m\n\u001b[0;32m    214\u001b[0m \u001b[39melse\u001b[39;00m:\n\u001b[0;32m    215\u001b[0m     opener \u001b[39m=\u001b[39m _opener\n\u001b[1;32m--> 216\u001b[0m \u001b[39mreturn\u001b[39;00m opener\u001b[39m.\u001b[39;49mopen(url, data, timeout)\n",
      "File \u001b[1;32mc:\\Users\\Luke\\anaconda3\\envs\\honours\\Lib\\urllib\\request.py:519\u001b[0m, in \u001b[0;36mOpenerDirector.open\u001b[1;34m(self, fullurl, data, timeout)\u001b[0m\n\u001b[0;32m    516\u001b[0m     req \u001b[39m=\u001b[39m meth(req)\n\u001b[0;32m    518\u001b[0m sys\u001b[39m.\u001b[39maudit(\u001b[39m'\u001b[39m\u001b[39murllib.Request\u001b[39m\u001b[39m'\u001b[39m, req\u001b[39m.\u001b[39mfull_url, req\u001b[39m.\u001b[39mdata, req\u001b[39m.\u001b[39mheaders, req\u001b[39m.\u001b[39mget_method())\n\u001b[1;32m--> 519\u001b[0m response \u001b[39m=\u001b[39m \u001b[39mself\u001b[39;49m\u001b[39m.\u001b[39;49m_open(req, data)\n\u001b[0;32m    521\u001b[0m \u001b[39m# post-process response\u001b[39;00m\n\u001b[0;32m    522\u001b[0m meth_name \u001b[39m=\u001b[39m protocol\u001b[39m+\u001b[39m\u001b[39m\"\u001b[39m\u001b[39m_response\u001b[39m\u001b[39m\"\u001b[39m\n",
      "File \u001b[1;32mc:\\Users\\Luke\\anaconda3\\envs\\honours\\Lib\\urllib\\request.py:536\u001b[0m, in \u001b[0;36mOpenerDirector._open\u001b[1;34m(self, req, data)\u001b[0m\n\u001b[0;32m    533\u001b[0m     \u001b[39mreturn\u001b[39;00m result\n\u001b[0;32m    535\u001b[0m protocol \u001b[39m=\u001b[39m req\u001b[39m.\u001b[39mtype\n\u001b[1;32m--> 536\u001b[0m result \u001b[39m=\u001b[39m \u001b[39mself\u001b[39;49m\u001b[39m.\u001b[39;49m_call_chain(\u001b[39mself\u001b[39;49m\u001b[39m.\u001b[39;49mhandle_open, protocol, protocol \u001b[39m+\u001b[39;49m\n\u001b[0;32m    537\u001b[0m                           \u001b[39m'\u001b[39;49m\u001b[39m_open\u001b[39;49m\u001b[39m'\u001b[39;49m, req)\n\u001b[0;32m    538\u001b[0m \u001b[39mif\u001b[39;00m result:\n\u001b[0;32m    539\u001b[0m     \u001b[39mreturn\u001b[39;00m result\n",
      "File \u001b[1;32mc:\\Users\\Luke\\anaconda3\\envs\\honours\\Lib\\urllib\\request.py:496\u001b[0m, in \u001b[0;36mOpenerDirector._call_chain\u001b[1;34m(self, chain, kind, meth_name, *args)\u001b[0m\n\u001b[0;32m    494\u001b[0m \u001b[39mfor\u001b[39;00m handler \u001b[39min\u001b[39;00m handlers:\n\u001b[0;32m    495\u001b[0m     func \u001b[39m=\u001b[39m \u001b[39mgetattr\u001b[39m(handler, meth_name)\n\u001b[1;32m--> 496\u001b[0m     result \u001b[39m=\u001b[39m func(\u001b[39m*\u001b[39;49margs)\n\u001b[0;32m    497\u001b[0m     \u001b[39mif\u001b[39;00m result \u001b[39mis\u001b[39;00m \u001b[39mnot\u001b[39;00m \u001b[39mNone\u001b[39;00m:\n\u001b[0;32m    498\u001b[0m         \u001b[39mreturn\u001b[39;00m result\n",
      "File \u001b[1;32mc:\\Users\\Luke\\anaconda3\\envs\\honours\\Lib\\urllib\\request.py:1391\u001b[0m, in \u001b[0;36mHTTPSHandler.https_open\u001b[1;34m(self, req)\u001b[0m\n\u001b[0;32m   1390\u001b[0m \u001b[39mdef\u001b[39;00m \u001b[39mhttps_open\u001b[39m(\u001b[39mself\u001b[39m, req):\n\u001b[1;32m-> 1391\u001b[0m     \u001b[39mreturn\u001b[39;00m \u001b[39mself\u001b[39;49m\u001b[39m.\u001b[39;49mdo_open(http\u001b[39m.\u001b[39;49mclient\u001b[39m.\u001b[39;49mHTTPSConnection, req,\n\u001b[0;32m   1392\u001b[0m         context\u001b[39m=\u001b[39;49m\u001b[39mself\u001b[39;49m\u001b[39m.\u001b[39;49m_context, check_hostname\u001b[39m=\u001b[39;49m\u001b[39mself\u001b[39;49m\u001b[39m.\u001b[39;49m_check_hostname)\n",
      "File \u001b[1;32mc:\\Users\\Luke\\anaconda3\\envs\\honours\\Lib\\urllib\\request.py:1348\u001b[0m, in \u001b[0;36mAbstractHTTPHandler.do_open\u001b[1;34m(self, http_class, req, **http_conn_args)\u001b[0m\n\u001b[0;32m   1346\u001b[0m \u001b[39mtry\u001b[39;00m:\n\u001b[0;32m   1347\u001b[0m     \u001b[39mtry\u001b[39;00m:\n\u001b[1;32m-> 1348\u001b[0m         h\u001b[39m.\u001b[39;49mrequest(req\u001b[39m.\u001b[39;49mget_method(), req\u001b[39m.\u001b[39;49mselector, req\u001b[39m.\u001b[39;49mdata, headers,\n\u001b[0;32m   1349\u001b[0m                   encode_chunked\u001b[39m=\u001b[39;49mreq\u001b[39m.\u001b[39;49mhas_header(\u001b[39m'\u001b[39;49m\u001b[39mTransfer-encoding\u001b[39;49m\u001b[39m'\u001b[39;49m))\n\u001b[0;32m   1350\u001b[0m     \u001b[39mexcept\u001b[39;00m \u001b[39mOSError\u001b[39;00m \u001b[39mas\u001b[39;00m err: \u001b[39m# timeout error\u001b[39;00m\n\u001b[0;32m   1351\u001b[0m         \u001b[39mraise\u001b[39;00m URLError(err)\n",
      "File \u001b[1;32mc:\\Users\\Luke\\anaconda3\\envs\\honours\\Lib\\http\\client.py:1286\u001b[0m, in \u001b[0;36mHTTPConnection.request\u001b[1;34m(self, method, url, body, headers, encode_chunked)\u001b[0m\n\u001b[0;32m   1283\u001b[0m \u001b[39mdef\u001b[39;00m \u001b[39mrequest\u001b[39m(\u001b[39mself\u001b[39m, method, url, body\u001b[39m=\u001b[39m\u001b[39mNone\u001b[39;00m, headers\u001b[39m=\u001b[39m{}, \u001b[39m*\u001b[39m,\n\u001b[0;32m   1284\u001b[0m             encode_chunked\u001b[39m=\u001b[39m\u001b[39mFalse\u001b[39;00m):\n\u001b[0;32m   1285\u001b[0m \u001b[39m    \u001b[39m\u001b[39m\"\"\"Send a complete request to the server.\"\"\"\u001b[39;00m\n\u001b[1;32m-> 1286\u001b[0m     \u001b[39mself\u001b[39;49m\u001b[39m.\u001b[39;49m_send_request(method, url, body, headers, encode_chunked)\n",
      "File \u001b[1;32mc:\\Users\\Luke\\anaconda3\\envs\\honours\\Lib\\http\\client.py:1332\u001b[0m, in \u001b[0;36mHTTPConnection._send_request\u001b[1;34m(self, method, url, body, headers, encode_chunked)\u001b[0m\n\u001b[0;32m   1328\u001b[0m \u001b[39mif\u001b[39;00m \u001b[39misinstance\u001b[39m(body, \u001b[39mstr\u001b[39m):\n\u001b[0;32m   1329\u001b[0m     \u001b[39m# RFC 2616 Section 3.7.1 says that text default has a\u001b[39;00m\n\u001b[0;32m   1330\u001b[0m     \u001b[39m# default charset of iso-8859-1.\u001b[39;00m\n\u001b[0;32m   1331\u001b[0m     body \u001b[39m=\u001b[39m _encode(body, \u001b[39m'\u001b[39m\u001b[39mbody\u001b[39m\u001b[39m'\u001b[39m)\n\u001b[1;32m-> 1332\u001b[0m \u001b[39mself\u001b[39;49m\u001b[39m.\u001b[39;49mendheaders(body, encode_chunked\u001b[39m=\u001b[39;49mencode_chunked)\n",
      "File \u001b[1;32mc:\\Users\\Luke\\anaconda3\\envs\\honours\\Lib\\http\\client.py:1281\u001b[0m, in \u001b[0;36mHTTPConnection.endheaders\u001b[1;34m(self, message_body, encode_chunked)\u001b[0m\n\u001b[0;32m   1279\u001b[0m \u001b[39melse\u001b[39;00m:\n\u001b[0;32m   1280\u001b[0m     \u001b[39mraise\u001b[39;00m CannotSendHeader()\n\u001b[1;32m-> 1281\u001b[0m \u001b[39mself\u001b[39;49m\u001b[39m.\u001b[39;49m_send_output(message_body, encode_chunked\u001b[39m=\u001b[39;49mencode_chunked)\n",
      "File \u001b[1;32mc:\\Users\\Luke\\anaconda3\\envs\\honours\\Lib\\http\\client.py:1041\u001b[0m, in \u001b[0;36mHTTPConnection._send_output\u001b[1;34m(self, message_body, encode_chunked)\u001b[0m\n\u001b[0;32m   1039\u001b[0m msg \u001b[39m=\u001b[39m \u001b[39mb\u001b[39m\u001b[39m\"\u001b[39m\u001b[39m\\r\u001b[39;00m\u001b[39m\\n\u001b[39;00m\u001b[39m\"\u001b[39m\u001b[39m.\u001b[39mjoin(\u001b[39mself\u001b[39m\u001b[39m.\u001b[39m_buffer)\n\u001b[0;32m   1040\u001b[0m \u001b[39mdel\u001b[39;00m \u001b[39mself\u001b[39m\u001b[39m.\u001b[39m_buffer[:]\n\u001b[1;32m-> 1041\u001b[0m \u001b[39mself\u001b[39;49m\u001b[39m.\u001b[39;49msend(msg)\n\u001b[0;32m   1043\u001b[0m \u001b[39mif\u001b[39;00m message_body \u001b[39mis\u001b[39;00m \u001b[39mnot\u001b[39;00m \u001b[39mNone\u001b[39;00m:\n\u001b[0;32m   1044\u001b[0m \n\u001b[0;32m   1045\u001b[0m     \u001b[39m# create a consistent interface to message_body\u001b[39;00m\n\u001b[0;32m   1046\u001b[0m     \u001b[39mif\u001b[39;00m \u001b[39mhasattr\u001b[39m(message_body, \u001b[39m'\u001b[39m\u001b[39mread\u001b[39m\u001b[39m'\u001b[39m):\n\u001b[0;32m   1047\u001b[0m         \u001b[39m# Let file-like take precedence over byte-like.  This\u001b[39;00m\n\u001b[0;32m   1048\u001b[0m         \u001b[39m# is needed to allow the current position of mmap'ed\u001b[39;00m\n\u001b[0;32m   1049\u001b[0m         \u001b[39m# files to be taken into account.\u001b[39;00m\n",
      "File \u001b[1;32mc:\\Users\\Luke\\anaconda3\\envs\\honours\\Lib\\http\\client.py:979\u001b[0m, in \u001b[0;36mHTTPConnection.send\u001b[1;34m(self, data)\u001b[0m\n\u001b[0;32m    977\u001b[0m \u001b[39mif\u001b[39;00m \u001b[39mself\u001b[39m\u001b[39m.\u001b[39msock \u001b[39mis\u001b[39;00m \u001b[39mNone\u001b[39;00m:\n\u001b[0;32m    978\u001b[0m     \u001b[39mif\u001b[39;00m \u001b[39mself\u001b[39m\u001b[39m.\u001b[39mauto_open:\n\u001b[1;32m--> 979\u001b[0m         \u001b[39mself\u001b[39;49m\u001b[39m.\u001b[39;49mconnect()\n\u001b[0;32m    980\u001b[0m     \u001b[39melse\u001b[39;00m:\n\u001b[0;32m    981\u001b[0m         \u001b[39mraise\u001b[39;00m NotConnected()\n",
      "File \u001b[1;32mc:\\Users\\Luke\\anaconda3\\envs\\honours\\Lib\\http\\client.py:1458\u001b[0m, in \u001b[0;36mHTTPSConnection.connect\u001b[1;34m(self)\u001b[0m\n\u001b[0;32m   1455\u001b[0m \u001b[39melse\u001b[39;00m:\n\u001b[0;32m   1456\u001b[0m     server_hostname \u001b[39m=\u001b[39m \u001b[39mself\u001b[39m\u001b[39m.\u001b[39mhost\n\u001b[1;32m-> 1458\u001b[0m \u001b[39mself\u001b[39m\u001b[39m.\u001b[39msock \u001b[39m=\u001b[39m \u001b[39mself\u001b[39;49m\u001b[39m.\u001b[39;49m_context\u001b[39m.\u001b[39;49mwrap_socket(\u001b[39mself\u001b[39;49m\u001b[39m.\u001b[39;49msock,\n\u001b[0;32m   1459\u001b[0m                                       server_hostname\u001b[39m=\u001b[39;49mserver_hostname)\n",
      "File \u001b[1;32mc:\\Users\\Luke\\anaconda3\\envs\\honours\\Lib\\ssl.py:517\u001b[0m, in \u001b[0;36mSSLContext.wrap_socket\u001b[1;34m(self, sock, server_side, do_handshake_on_connect, suppress_ragged_eofs, server_hostname, session)\u001b[0m\n\u001b[0;32m    511\u001b[0m \u001b[39mdef\u001b[39;00m \u001b[39mwrap_socket\u001b[39m(\u001b[39mself\u001b[39m, sock, server_side\u001b[39m=\u001b[39m\u001b[39mFalse\u001b[39;00m,\n\u001b[0;32m    512\u001b[0m                 do_handshake_on_connect\u001b[39m=\u001b[39m\u001b[39mTrue\u001b[39;00m,\n\u001b[0;32m    513\u001b[0m                 suppress_ragged_eofs\u001b[39m=\u001b[39m\u001b[39mTrue\u001b[39;00m,\n\u001b[0;32m    514\u001b[0m                 server_hostname\u001b[39m=\u001b[39m\u001b[39mNone\u001b[39;00m, session\u001b[39m=\u001b[39m\u001b[39mNone\u001b[39;00m):\n\u001b[0;32m    515\u001b[0m     \u001b[39m# SSLSocket class handles server_hostname encoding before it calls\u001b[39;00m\n\u001b[0;32m    516\u001b[0m     \u001b[39m# ctx._wrap_socket()\u001b[39;00m\n\u001b[1;32m--> 517\u001b[0m     \u001b[39mreturn\u001b[39;00m \u001b[39mself\u001b[39;49m\u001b[39m.\u001b[39;49msslsocket_class\u001b[39m.\u001b[39;49m_create(\n\u001b[0;32m    518\u001b[0m         sock\u001b[39m=\u001b[39;49msock,\n\u001b[0;32m    519\u001b[0m         server_side\u001b[39m=\u001b[39;49mserver_side,\n\u001b[0;32m    520\u001b[0m         do_handshake_on_connect\u001b[39m=\u001b[39;49mdo_handshake_on_connect,\n\u001b[0;32m    521\u001b[0m         suppress_ragged_eofs\u001b[39m=\u001b[39;49msuppress_ragged_eofs,\n\u001b[0;32m    522\u001b[0m         server_hostname\u001b[39m=\u001b[39;49mserver_hostname,\n\u001b[0;32m    523\u001b[0m         context\u001b[39m=\u001b[39;49m\u001b[39mself\u001b[39;49m,\n\u001b[0;32m    524\u001b[0m         session\u001b[39m=\u001b[39;49msession\n\u001b[0;32m    525\u001b[0m     )\n",
      "File \u001b[1;32mc:\\Users\\Luke\\anaconda3\\envs\\honours\\Lib\\ssl.py:1108\u001b[0m, in \u001b[0;36mSSLSocket._create\u001b[1;34m(cls, sock, server_side, do_handshake_on_connect, suppress_ragged_eofs, server_hostname, context, session)\u001b[0m\n\u001b[0;32m   1105\u001b[0m         \u001b[39mif\u001b[39;00m timeout \u001b[39m==\u001b[39m \u001b[39m0.0\u001b[39m:\n\u001b[0;32m   1106\u001b[0m             \u001b[39m# non-blocking\u001b[39;00m\n\u001b[0;32m   1107\u001b[0m             \u001b[39mraise\u001b[39;00m \u001b[39mValueError\u001b[39;00m(\u001b[39m\"\u001b[39m\u001b[39mdo_handshake_on_connect should not be specified for non-blocking sockets\u001b[39m\u001b[39m\"\u001b[39m)\n\u001b[1;32m-> 1108\u001b[0m         \u001b[39mself\u001b[39;49m\u001b[39m.\u001b[39;49mdo_handshake()\n\u001b[0;32m   1109\u001b[0m \u001b[39mexcept\u001b[39;00m (\u001b[39mOSError\u001b[39;00m, \u001b[39mValueError\u001b[39;00m):\n\u001b[0;32m   1110\u001b[0m     \u001b[39mself\u001b[39m\u001b[39m.\u001b[39mclose()\n",
      "File \u001b[1;32mc:\\Users\\Luke\\anaconda3\\envs\\honours\\Lib\\ssl.py:1379\u001b[0m, in \u001b[0;36mSSLSocket.do_handshake\u001b[1;34m(self, block)\u001b[0m\n\u001b[0;32m   1377\u001b[0m     \u001b[39mif\u001b[39;00m timeout \u001b[39m==\u001b[39m \u001b[39m0.0\u001b[39m \u001b[39mand\u001b[39;00m block:\n\u001b[0;32m   1378\u001b[0m         \u001b[39mself\u001b[39m\u001b[39m.\u001b[39msettimeout(\u001b[39mNone\u001b[39;00m)\n\u001b[1;32m-> 1379\u001b[0m     \u001b[39mself\u001b[39;49m\u001b[39m.\u001b[39;49m_sslobj\u001b[39m.\u001b[39;49mdo_handshake()\n\u001b[0;32m   1380\u001b[0m \u001b[39mfinally\u001b[39;00m:\n\u001b[0;32m   1381\u001b[0m     \u001b[39mself\u001b[39m\u001b[39m.\u001b[39msettimeout(timeout)\n",
      "\u001b[1;31mKeyboardInterrupt\u001b[0m: "
     ]
    }
   ],
   "source": [
    "onakpoya_df = pd.read_csv('Transformed_Data/Onakpoya_Drugs.csv', skiprows=[0]) # Read the table as csv\n",
    "onakpoya_df = onakpoya_df.filter(['Medicinal product', 'Reason for withdrawal']) # Drop irrelevant columns\n",
    "onakpoya_df = onakpoya_df[onakpoya_df['Reason for withdrawal'].str.endswith('Liver', na = False)] # Drop non-DILI related withdrawal\n",
    "onakpoya_df = onakpoya_df.replace({'‡':''}, regex=True) # Remove uninterpretable characters\n",
    "onakpoya_df['Medicinal product'] = onakpoya_df['Medicinal product'].str.partition(' ')[0] # Only keep first word of drug name\n",
    "\n",
    "## Drop multiword rows\n",
    "# multiword_rows = onakpoya_df[onakpoya_df['Medicinal product'].str.split().str.len() > 1].index\n",
    "# onakpoya_df = onakpoya_df.drop(multiword_rows, axis = 0)\n",
    "\n",
    "import pubchempy as pcp\n",
    "\n",
    "onakpoya_df['pcp_result'] = onakpoya_df['Medicinal product'].map(lambda x: pcp.get_compounds(identifier=x, namespace='name')) # Get pubchem CID for each compound\n",
    "\n",
    "#onakpoya_df['pcp_result'] = onakpoya_df['pcp_result'].str.partition(' ')[0] # Only keep first CID\n",
    "\n",
    "print(onakpoya_df.head(2))\n"
   ]
  },
  {
   "cell_type": "code",
   "execution_count": null,
   "metadata": {},
   "outputs": [],
   "source": [
    "onakpoya_df.to_csv('Transformed_Data/attempto.csv')"
   ]
  },
  {
   "cell_type": "code",
   "execution_count": null,
   "metadata": {},
   "outputs": [],
   "source": [
    "onakpoya_df2 = onakpoya_df\n",
    "\n",
    "#onakpoya_df2.to_csv('Transformed_Data/attempt.csv')\n",
    "\n",
    "# for compound in onakpoya_df2['pcp_result']:\n",
    "#     print(onakpoya_df2['pcp_result'].isomeric_smiles)\n"
   ]
  },
  {
   "cell_type": "markdown",
   "metadata": {},
   "source": [
    "### Append skeleton structures\n",
    "\n",
    "Generate RDKit molecular structure and append skeleton diagram as a column to the dataset."
   ]
  },
  {
   "cell_type": "code",
   "execution_count": 4,
   "metadata": {},
   "outputs": [
    {
     "name": "stdout",
     "output_type": "stream",
     "text": [
      "       X                 SMILES  DILI?  \\\n",
      "0  187.0   CC(=O)OCC[N+](C)(C)C    0.0   \n",
      "1  247.0  C[N+](C)(C)CC(=O)[O-]    0.0   \n",
      "\n",
      "                                           Structure  \n",
      "0  <rdkit.Chem.rdchem.Mol object at 0x0000021F2DE...  \n",
      "1  <rdkit.Chem.rdchem.Mol object at 0x0000021F2DE...  \n"
     ]
    }
   ],
   "source": [
    "# Get RDKit molecular structure\n",
    "from rdkit.Chem import PandasTools\n",
    "PandasTools.AddMoleculeColumnToFrame(tox_df, 'SMILES', 'Structure')\n",
    "print(tox_df.head(2))\n",
    "\n",
    "# Display RDKit molecule skeleton - Use Ipython to fix broken pandas functionality (doesn't display skeleton in HTML table)\n",
    "# from IPython.display import HTML"
   ]
  },
  {
   "cell_type": "markdown",
   "metadata": {},
   "source": [
    "# Get Fingerprints\n",
    "\n",
    "Define function 'generate_fingerprints'\n",
    "Initialise empty list of Morgan fingerprints\n",
    "for molecules in a given dataframe, generate their morgan fingerprints and append them to the dataframe\n",
    "Reutrn appended dataframe as numpy array to analyse using 'shape'\n",
    "\n",
    "Run generate_fingerprints on each molecule in the dataframe\n",
    "\n",
    "Use shape to confirm success - First number should equal dataframe length\n"
   ]
  },
  {
   "cell_type": "code",
   "execution_count": 13,
   "metadata": {},
   "outputs": [
    {
     "name": "stdout",
     "output_type": "stream",
     "text": [
      "              X                                             SMILES  DILI?  \\\n",
      "0         187.0                               CC(=O)OCC[N+](C)(C)C    0.0   \n",
      "1         247.0                              C[N+](C)(C)CC(=O)[O-]    0.0   \n",
      "2         298.0       O=C(NC(CO)C(O)c1ccc([N+](=O)[O-])cc1)C(Cl)Cl    0.0   \n",
      "3         338.0                                    O=C(O)c1ccccc1O    0.0   \n",
      "4         444.0                     CC(NC(C)(C)C)C(=O)c1cccc(Cl)c1    0.0   \n",
      "..          ...                                                ...    ...   \n",
      "470  23663956.0           CCCC(CCC)C(=O)O.CCCC(CCC)C(=O)[O-].[Na+]    1.0   \n",
      "471  23673837.0  CCCCC(CC)COC(=O)CC(C(=O)OCC(CC)CCCC)S(=O)(=O)[...    0.0   \n",
      "472  54675785.0  C=C1c2cccc(O)c2C(O)=C2C(=O)C3(O)C(O)=C(C(N)=O)...    1.0   \n",
      "473  54678501.0                             O=C1OC(C(O)CO)C(O)=C1O    0.0   \n",
      "474  54680690.0  CN(C)C1C(=O)C(C(N)=O)=C(O)C2(O)C(=O)C3=C(O)c4c...    1.0   \n",
      "\n",
      "                                             Structure  \\\n",
      "0    <rdkit.Chem.rdchem.Mol object at 0x0000021F2DE...   \n",
      "1    <rdkit.Chem.rdchem.Mol object at 0x0000021F2DE...   \n",
      "2    <rdkit.Chem.rdchem.Mol object at 0x0000021F2DE...   \n",
      "3    <rdkit.Chem.rdchem.Mol object at 0x0000021F2DE...   \n",
      "4    <rdkit.Chem.rdchem.Mol object at 0x0000021F2DE...   \n",
      "..                                                 ...   \n",
      "470  <rdkit.Chem.rdchem.Mol object at 0x0000021F2DE...   \n",
      "471  <rdkit.Chem.rdchem.Mol object at 0x0000021F2DE...   \n",
      "472  <rdkit.Chem.rdchem.Mol object at 0x0000021F2DE...   \n",
      "473  <rdkit.Chem.rdchem.Mol object at 0x0000021F2DE...   \n",
      "474  <rdkit.Chem.rdchem.Mol object at 0x0000021F2DE...   \n",
      "\n",
      "                                                  M3FP  \n",
      "0    [0, 0, 0, 0, 0, 0, 0, 0, 0, 0, 0, 0, 0, 1, 0, ...  \n",
      "1    [0, 0, 0, 0, 0, 0, 0, 0, 0, 0, 0, 0, 0, 0, 0, ...  \n",
      "2    [0, 1, 0, 0, 0, 0, 0, 0, 0, 0, 0, 0, 0, 0, 0, ...  \n",
      "3    [0, 0, 0, 0, 0, 0, 0, 0, 0, 0, 0, 0, 0, 0, 0, ...  \n",
      "4    [0, 1, 0, 0, 0, 0, 0, 0, 0, 0, 0, 0, 0, 0, 0, ...  \n",
      "..                                                 ...  \n",
      "470  [0, 1, 0, 0, 0, 0, 0, 0, 0, 0, 0, 0, 0, 0, 0, ...  \n",
      "471  [0, 1, 0, 0, 0, 0, 0, 0, 0, 0, 0, 0, 0, 0, 0, ...  \n",
      "472  [0, 0, 0, 0, 0, 0, 0, 0, 0, 0, 0, 0, 0, 0, 0, ...  \n",
      "473  [0, 1, 0, 0, 0, 0, 0, 0, 0, 0, 0, 0, 0, 0, 0, ...  \n",
      "474  [0, 0, 0, 0, 0, 0, 0, 0, 0, 0, 0, 0, 0, 0, 0, ...  \n",
      "\n",
      "[475 rows x 5 columns]\n"
     ]
    }
   ],
   "source": [
    "from rdkit.Chem import MolFromSmiles\n",
    "\n",
    "def smiles_to_morgan_fingerprint(smiles):\n",
    "    mol = MolFromSmiles(smiles)\n",
    "    fingerprint = AllChem.GetMorganFingerprintAsBitVect(mol, 2, nBits = 2048)\n",
    "    return fingerprint\n",
    "\n",
    "tox_df[\"M3FP\"] = [smiles_to_morgan_fingerprint(smiles) for smiles in tox_df[\"SMILES\"]]\n",
    "\n",
    "print(tox_df)"
   ]
  },
  {
   "cell_type": "code",
   "execution_count": 58,
   "metadata": {},
   "outputs": [
    {
     "name": "stdout",
     "output_type": "stream",
     "text": [
      "   0  1  2  3  4  5  6  7  8  9  ...  2039  2040  2041  2042  2043  2044  \\\n",
      "0  0  0  0  0  0  0  0  0  0  0  ...     0     0     0     0     0     0   \n",
      "1  0  0  0  0  0  0  0  0  0  0  ...     0     0     0     0     0     0   \n",
      "\n",
      "   2045  2046  2047  DILI?  \n",
      "0     0     0     0      0  \n",
      "1     0     0     0      0  \n",
      "\n",
      "[2 rows x 2049 columns]\n"
     ]
    }
   ],
   "source": [
    "morgan_df = tox_df[\"m3fp\"].apply(pd.Series)\n",
    "\n",
    "morgan_df.insert(len(morgan_df.columns), \"DILI?\", tox_df[\"DILI?\"].astype(int)) # Insert \"DILI?\" column as the last column\n",
    "\n",
    "morgan_df.columns = morgan_df.columns.astype(str) # Set all column titles to string - Required for model\n",
    "\n",
    "print(morgan_df.head(2))"
   ]
  },
  {
   "cell_type": "code",
   "execution_count": 59,
   "metadata": {},
   "outputs": [],
   "source": [
    "# Instantiate Random Forest Regressor\n",
    "model_rf = ensemble.RandomForestRegressor(random_state=42)\n",
    "\n",
    "# Instantiate a dict of paramaters of RFR\n",
    "params_rf = {\n",
    "            'bootstrap': [True, False],\n",
    "            'max_depth': [range(1, 4096, 10), None],\n",
    "            'max_features': ['auto', 'sqrt', 'log2', 1],\n",
    "            'min_samples_leaf': range(1, 8, 1),\n",
    "            'min_samples_split': range(1, 8, 1),\n",
    "            'n_estimators': range(10, 800, 10)\n",
    "            }\n",
    "\n",
    "X = morgan_df.iloc[:, 0:len(morgan_df.columns)-1] # Features\n",
    "y = morgan_df[\"DILI?\"].values # Labels\n",
    "\n",
    "#model_rf.fit(X, y)"
   ]
  },
  {
   "cell_type": "code",
   "execution_count": 60,
   "metadata": {},
   "outputs": [],
   "source": [
    "from sklearn.model_selection import RandomizedSearchCV\n",
    "\n",
    "# Set up scoring methods for hyperparameter tuning\n",
    "scoring = ['r2', 'neg_root_mean_squared_error']\n",
    "\n",
    "# Enable multithreading functionality\n",
    "import multiprocessing\n",
    "n_jobs = multiprocessing.cpu_count()-1\n",
    "\n",
    "X_train, X_test, y_train, y_test = train_test_split(X, y, train_size=0.8, test_size=0.2)"
   ]
  },
  {
   "cell_type": "code",
   "execution_count": 61,
   "metadata": {},
   "outputs": [
    {
     "name": "stdout",
     "output_type": "stream",
     "text": [
      "Tuned Logistic Regression Parameters: {'n_estimators': 710, 'min_samples_split': 2, 'min_samples_leaf': 1, 'max_features': 'log2', 'max_depth': None, 'bootstrap': False}\n",
      "Best score is 0.028006990579347368\n"
     ]
    }
   ],
   "source": [
    "# Run RandomizedSearchCV to optimise random forest hyperparameters\n",
    "rf_cv = RandomizedSearchCV(model_rf, params_rf, cv = 5, n_iter=12, n_jobs=n_jobs, random_state=42, scoring='r2') #5-fold precedended in AbdulHameed\n",
    "\n",
    "rf_cv.fit(X_test, y_test)\n",
    "\n",
    "# Print scores\n",
    "print(\"Tuned Logistic Regression Parameters: {}\".format(rf_cv.best_params_)) \n",
    "print(\"Best score is {}\".format(rf_cv.best_score_))"
   ]
  },
  {
   "cell_type": "code",
   "execution_count": 62,
   "metadata": {},
   "outputs": [
    {
     "ename": "RuntimeError",
     "evalue": "A pipeline has not yet been optimized. Please call fit() first.",
     "output_type": "error",
     "traceback": [
      "\u001b[1;31m---------------------------------------------------------------------------\u001b[0m",
      "\u001b[1;31mRuntimeError\u001b[0m                              Traceback (most recent call last)",
      "\u001b[1;32mc:\\Users\\Luke\\Documents\\University\\5th Year\\Honours Python\\get_fingerprints_tdc.ipynb Cell 19\u001b[0m line \u001b[0;36m5\n\u001b[0;32m      <a href='vscode-notebook-cell:/c%3A/Users/Luke/Documents/University/5th%20Year/Honours%20Python/get_fingerprints_tdc.ipynb#X26sZmlsZQ%3D%3D?line=0'>1</a>\u001b[0m \u001b[39mfrom\u001b[39;00m \u001b[39mtpot\u001b[39;00m \u001b[39mimport\u001b[39;00m TPOTRegressor\n\u001b[0;32m      <a href='vscode-notebook-cell:/c%3A/Users/Luke/Documents/University/5th%20Year/Honours%20Python/get_fingerprints_tdc.ipynb#X26sZmlsZQ%3D%3D?line=2'>3</a>\u001b[0m pipeline_optimiser \u001b[39m=\u001b[39m TPOTRegressor(random_state \u001b[39m=\u001b[39m \u001b[39m42\u001b[39m, n_jobs\u001b[39m=\u001b[39mn_jobs)\n\u001b[1;32m----> <a href='vscode-notebook-cell:/c%3A/Users/Luke/Documents/University/5th%20Year/Honours%20Python/get_fingerprints_tdc.ipynb#X26sZmlsZQ%3D%3D?line=4'>5</a>\u001b[0m pipeline_optimiser\u001b[39m.\u001b[39mfit(X_train, y_train)\n\u001b[0;32m      <a href='vscode-notebook-cell:/c%3A/Users/Luke/Documents/University/5th%20Year/Honours%20Python/get_fingerprints_tdc.ipynb#X26sZmlsZQ%3D%3D?line=5'>6</a>\u001b[0m \u001b[39mprint\u001b[39m(pipeline_optimiser\u001b[39m.\u001b[39mscore(X_test, y_test))\n",
      "File \u001b[1;32mc:\\Users\\Luke\\anaconda3\\envs\\honours\\Lib\\site-packages\\tpot\\base.py:864\u001b[0m, in \u001b[0;36mTPOTBase.fit\u001b[1;34m(self, features, target, sample_weight, groups)\u001b[0m\n\u001b[0;32m    861\u001b[0m     \u001b[39mexcept\u001b[39;00m (\u001b[39mKeyboardInterrupt\u001b[39;00m, \u001b[39mSystemExit\u001b[39;00m, \u001b[39mException\u001b[39;00m) \u001b[39mas\u001b[39;00m e:\n\u001b[0;32m    862\u001b[0m         \u001b[39m# raise the exception if it's our last attempt\u001b[39;00m\n\u001b[0;32m    863\u001b[0m         \u001b[39mif\u001b[39;00m attempt \u001b[39m==\u001b[39m (attempts \u001b[39m-\u001b[39m \u001b[39m1\u001b[39m):\n\u001b[1;32m--> 864\u001b[0m             \u001b[39mraise\u001b[39;00m e\n\u001b[0;32m    865\u001b[0m \u001b[39mreturn\u001b[39;00m \u001b[39mself\u001b[39m\n",
      "File \u001b[1;32mc:\\Users\\Luke\\anaconda3\\envs\\honours\\Lib\\site-packages\\tpot\\base.py:855\u001b[0m, in \u001b[0;36mTPOTBase.fit\u001b[1;34m(self, features, target, sample_weight, groups)\u001b[0m\n\u001b[0;32m    852\u001b[0m \u001b[39mif\u001b[39;00m \u001b[39mnot\u001b[39;00m \u001b[39misinstance\u001b[39m(\u001b[39mself\u001b[39m\u001b[39m.\u001b[39m_pbar, \u001b[39mtype\u001b[39m(\u001b[39mNone\u001b[39;00m)):\n\u001b[0;32m    853\u001b[0m     \u001b[39mself\u001b[39m\u001b[39m.\u001b[39m_pbar\u001b[39m.\u001b[39mclose()\n\u001b[1;32m--> 855\u001b[0m \u001b[39mself\u001b[39m\u001b[39m.\u001b[39m_update_top_pipeline()\n\u001b[0;32m    856\u001b[0m \u001b[39mself\u001b[39m\u001b[39m.\u001b[39m_summary_of_best_pipeline(features, target)\n\u001b[0;32m    857\u001b[0m \u001b[39m# Delete the temporary cache before exiting\u001b[39;00m\n",
      "File \u001b[1;32mc:\\Users\\Luke\\anaconda3\\envs\\honours\\Lib\\site-packages\\tpot\\base.py:962\u001b[0m, in \u001b[0;36mTPOTBase._update_top_pipeline\u001b[1;34m(self)\u001b[0m\n\u001b[0;32m    958\u001b[0m             \u001b[39mself\u001b[39m\u001b[39m.\u001b[39m_last_optimized_pareto_front_n_gens \u001b[39m=\u001b[39m \u001b[39m0\u001b[39m\n\u001b[0;32m    959\u001b[0m \u001b[39melse\u001b[39;00m:\n\u001b[0;32m    960\u001b[0m     \u001b[39m# If user passes CTRL+C in initial generation, self._pareto_front (halloffame) shoule be not updated yet.\u001b[39;00m\n\u001b[0;32m    961\u001b[0m     \u001b[39m# need raise RuntimeError because no pipeline has been optimized\u001b[39;00m\n\u001b[1;32m--> 962\u001b[0m     \u001b[39mraise\u001b[39;00m \u001b[39mRuntimeError\u001b[39;00m(\n\u001b[0;32m    963\u001b[0m         \u001b[39m\"\u001b[39m\u001b[39mA pipeline has not yet been optimized. Please call fit() first.\u001b[39m\u001b[39m\"\u001b[39m\n\u001b[0;32m    964\u001b[0m     )\n",
      "\u001b[1;31mRuntimeError\u001b[0m: A pipeline has not yet been optimized. Please call fit() first."
     ]
    }
   ],
   "source": [
    "from tpot import TPOTRegressor\n",
    "\n",
    "pipeline_optimiser = TPOTRegressor(random_state = 42, n_jobs=n_jobs)\n",
    "\n",
    "pipeline_optimiser.fit(X_train, y_train)\n",
    "print(pipeline_optimiser.score(X_test, y_test))"
   ]
  },
  {
   "cell_type": "code",
   "execution_count": null,
   "metadata": {},
   "outputs": [
    {
     "name": "stdout",
     "output_type": "stream",
     "text": [
      "Tuned Logistic Regression Parameters: {'n_estimators': 120, 'max_depth': 5, 'learning_rate': 0.05}\n",
      "Best score is 0.3560953880782183\n"
     ]
    }
   ],
   "source": [
    "# Instantiate an XGBoost\n",
    "\n",
    "model_gb = ensemble.GradientBoostingRegressor(random_state=42)\n",
    "\n",
    "params_gb = {\n",
    "            'n_estimators': range(0, 150, 10),\n",
    "            'max_depth': [2, 3, 5, 10, 15],\n",
    "            'learning_rate': [0.05, 0.1, 0.15, 0.20]\n",
    "            }\n",
    "\n",
    "from sklearn.model_selection import RandomizedSearchCV\n",
    "\n",
    "gb_cv = RandomizedSearchCV(model_gb, params_gb, cv = 5, n_iter=32, n_jobs=n_jobs, random_state=42, scoring='r2')\n",
    "\n",
    "gb_cv.fit(x, y)\n",
    "\n",
    "# Print scores\n",
    "print(\"Tuned Logistic Regression Parameters: {}\".format(gb_cv.best_params_)) \n",
    "print(\"Best score is {}\".format(gb_cv.best_score_))"
   ]
  },
  {
   "cell_type": "markdown",
   "metadata": {},
   "source": [
    "## Thanks To\n",
    "\n",
    "https://www.youtube.com/watch?v=-oHqQBUyrQ0\n",
    "\n",
    "https://towardsdatascience.com/hyperparameter-tuning-the-random-forest-in-python-using-scikit-learn-28d2aa77dd74\n",
    "\n",
    "https://github.com/PatWalters/practical_cheminformatics_posts/blob/main/solubility/literature_solubility_model.ipynb\n",
    "\n",
    "https://leftwinglow.github.io/BachelorsProject/\n",
    "\n",
    "https://github.com/gashawmg/Molecular-fingerprints/blob/main/Calculating%20molecular%20fingerprints%20available%20in%20RDkit%20.ipynb\n",
    "\n",
    "https://github.com/gashawmg/Avalon-fingerprints-for-machine-learning/blob/main/Avalon%20fingerprints%20for%20predictive%20modeling.ipynb"
   ]
  }
 ],
 "metadata": {
  "kernelspec": {
   "display_name": "Python 3 (ipykernel)",
   "language": "python",
   "name": "python3"
  },
  "language_info": {
   "codemirror_mode": {
    "name": "ipython",
    "version": 3
   },
   "file_extension": ".py",
   "mimetype": "text/x-python",
   "name": "python",
   "nbconvert_exporter": "python",
   "pygments_lexer": "ipython3",
   "version": "3.11.6"
  }
 },
 "nbformat": 4,
 "nbformat_minor": 2
}
