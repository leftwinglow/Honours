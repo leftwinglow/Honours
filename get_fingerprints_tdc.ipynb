{
 "cells": [
  {
   "cell_type": "markdown",
   "metadata": {},
   "source": [
    "## Import Dependencies\n",
    "\n",
    "### General\n",
    "* Pandas\n",
    "* Numpy\n",
    "* Seaborn\n",
    "\n",
    "### Datasets\n",
    "* TDC Tox\n",
    "\n",
    "### RDKit Modules\n",
    "* AllChem\n",
    "* rdMolDescriptors\n",
    "* IPythonConsole\n",
    "* Draw\n",
    "* DataStructs\n",
    "* Butina"
   ]
  },
  {
   "cell_type": "code",
   "execution_count": 1,
   "metadata": {},
   "outputs": [],
   "source": [
    "import pandas as pd\n",
    "import numpy as np\n",
    "import seaborn as sn\n",
    "#---------------------- Therapeutic Drug Commons (TDC data) from https://tdcommons.ai/single_pred_tasks/tox/#dili-drug-induced-liver-injury\n",
    "from tdc.single_pred import Tox\n",
    "#---------------------- RDKit packages\n",
    "from rdkit.Chem import AllChem\n",
    "from rdkit.Chem import rdMolDescriptors\n",
    "from rdkit.Chem.Draw import IPythonConsole\n",
    "from rdkit.Chem import Draw\n",
    "from rdkit import DataStructs\n",
    "from rdkit.ML.Cluster import Butina\n",
    "#-\n",
    "from sklearn.metrics import r2_score, mean_absolute_error, mean_squared_error\n",
    "from sklearn.ensemble import RandomForestRegressor\n",
    "import time\n",
    "from sklearn.model_selection import ShuffleSplit, cross_validate,train_test_split\n"
   ]
  },
  {
   "cell_type": "markdown",
   "metadata": {},
   "source": [
    "## Data cleaning\n",
    "\n",
    "### Reading, converting to pandas\n",
    "\n",
    "Read TDC Tox DILI Dataset & convert to Pandas dataframe.\\\n",
    "Rename columns to be more human-readable."
   ]
  },
  {
   "cell_type": "code",
   "execution_count": 2,
   "metadata": {},
   "outputs": [
    {
     "name": "stderr",
     "output_type": "stream",
     "text": [
      "Found local copy...\n",
      "Loading...\n",
      "Done!\n"
     ]
    }
   ],
   "source": [
    "# Make this a function that works for multiple datasets, concatenates them\n",
    "\n",
    "tox_data = Tox(name = 'DILI')\n",
    "\n",
    "tox_df = tox_data.get_data()\n",
    "\n",
    "tox_df.columns = [\"X\", \"SMILES\", \"DILI?\"]"
   ]
  },
  {
   "cell_type": "markdown",
   "metadata": {},
   "source": [
    "### Append skeleton structures\n",
    "\n",
    "Generate RDKit molecular structure and append skeleton diagram as a column to the dataset."
   ]
  },
  {
   "cell_type": "code",
   "execution_count": 3,
   "metadata": {},
   "outputs": [
    {
     "name": "stdout",
     "output_type": "stream",
     "text": [
      "<bound method NDFrame.head of               X                                             SMILES  DILI?  \\\n",
      "0         187.0                               CC(=O)OCC[N+](C)(C)C    0.0   \n",
      "1         247.0                              C[N+](C)(C)CC(=O)[O-]    0.0   \n",
      "2         298.0       O=C(NC(CO)C(O)c1ccc([N+](=O)[O-])cc1)C(Cl)Cl    0.0   \n",
      "3         338.0                                    O=C(O)c1ccccc1O    0.0   \n",
      "4         444.0                     CC(NC(C)(C)C)C(=O)c1cccc(Cl)c1    0.0   \n",
      "..          ...                                                ...    ...   \n",
      "470  23663956.0           CCCC(CCC)C(=O)O.CCCC(CCC)C(=O)[O-].[Na+]    1.0   \n",
      "471  23673837.0  CCCCC(CC)COC(=O)CC(C(=O)OCC(CC)CCCC)S(=O)(=O)[...    0.0   \n",
      "472  54675785.0  C=C1c2cccc(O)c2C(O)=C2C(=O)C3(O)C(O)=C(C(N)=O)...    1.0   \n",
      "473  54678501.0                             O=C1OC(C(O)CO)C(O)=C1O    0.0   \n",
      "474  54680690.0  CN(C)C1C(=O)C(C(N)=O)=C(O)C2(O)C(=O)C3=C(O)c4c...    1.0   \n",
      "\n",
      "                                             Structure  \n",
      "0    <rdkit.Chem.rdchem.Mol object at 0x0000022D4FC...  \n",
      "1    <rdkit.Chem.rdchem.Mol object at 0x0000022D4FC...  \n",
      "2    <rdkit.Chem.rdchem.Mol object at 0x0000022D4FC...  \n",
      "3    <rdkit.Chem.rdchem.Mol object at 0x0000022D4FC...  \n",
      "4    <rdkit.Chem.rdchem.Mol object at 0x0000022D4FC...  \n",
      "..                                                 ...  \n",
      "470  <rdkit.Chem.rdchem.Mol object at 0x0000022D4FD...  \n",
      "471  <rdkit.Chem.rdchem.Mol object at 0x0000022D4FD...  \n",
      "472  <rdkit.Chem.rdchem.Mol object at 0x0000022D4FD...  \n",
      "473  <rdkit.Chem.rdchem.Mol object at 0x0000022D4FD...  \n",
      "474  <rdkit.Chem.rdchem.Mol object at 0x0000022D4FD...  \n",
      "\n",
      "[475 rows x 4 columns]>\n"
     ]
    }
   ],
   "source": [
    "\n",
    "# Get RDKit molecular structure\n",
    "from rdkit.Chem import PandasTools\n",
    "PandasTools.AddMoleculeColumnToFrame(tox_df, 'SMILES', 'Structure')\n",
    "\n",
    "# Display RDKit molecule skeleton - Use Ipython to fix broken pandas functionality (doesn't display skeleton in HTML table)\n",
    "from IPython.display import HTML\n",
    "print(tox_df.head)"
   ]
  },
  {
   "cell_type": "markdown",
   "metadata": {},
   "source": [
    "# Get Fingerprints\n",
    "\n",
    "Define function 'generate_fingerprints'\n",
    "Initialise empty list of Morgan fingerprints\n",
    "for molecules in a given dataframe, generate their morgan fingerprints and append them to the dataframe\n",
    "Reutrn appended dataframe as numpy array to analyse using 'shape'\n",
    "\n",
    "Run generate_fingerprints on each molecule in the dataframe\n",
    "\n",
    "Use shape to confirm success - First number should equal dataframe length\n"
   ]
  },
  {
   "cell_type": "code",
   "execution_count": 4,
   "metadata": {},
   "outputs": [],
   "source": [
    "from rdkit import DataStructs\n",
    "\n",
    "def computeMorganFP(mol, depth = 2, nBits = 2048):\n",
    "    a = np.zeros(nBits, int)\n",
    "    DataStructs.ConvertToNumpyArray(AllChem.GetMorganFingerprintAsBitVect(mol,depth,nBits),a)\n",
    "    return a\n",
    "\n",
    "\n",
    "tox_df[\"m3fp\"] = tox_df[\"Structure\"].map(computeMorganFP)"
   ]
  },
  {
   "cell_type": "code",
   "execution_count": 5,
   "metadata": {},
   "outputs": [
    {
     "name": "stdout",
     "output_type": "stream",
     "text": [
      "<bound method NDFrame.describe of      0  1  2  3  4  5  6  7  8  9  ...  2039  2040  2041  2042  2043  2044  \\\n",
      "0    0  0  0  0  0  0  0  0  0  0  ...     0     0     0     0     0     0   \n",
      "1    0  0  0  0  0  0  0  0  0  0  ...     0     0     0     0     0     0   \n",
      "2    0  1  0  0  0  0  0  0  0  0  ...     0     0     0     0     0     0   \n",
      "3    0  0  0  0  0  0  0  0  0  0  ...     0     0     0     0     0     0   \n",
      "4    0  1  0  0  0  0  0  0  0  0  ...     0     0     0     0     0     0   \n",
      "..  .. .. .. .. .. .. .. .. .. ..  ...   ...   ...   ...   ...   ...   ...   \n",
      "470  0  1  0  0  0  0  0  0  0  0  ...     0     0     0     0     0     0   \n",
      "471  0  1  0  0  0  0  0  0  0  0  ...     0     0     0     0     0     0   \n",
      "472  0  0  0  0  0  0  0  0  0  0  ...     0     0     0     0     0     0   \n",
      "473  0  1  0  0  0  0  0  0  0  0  ...     0     0     0     0     0     0   \n",
      "474  0  0  0  0  0  0  0  0  0  0  ...     0     0     0     0     0     0   \n",
      "\n",
      "     2045  2046  2047  DILI?  \n",
      "0       0     0     0      0  \n",
      "1       0     0     0      0  \n",
      "2       0     0     0      0  \n",
      "3       0     0     0      0  \n",
      "4       0     0     0      0  \n",
      "..    ...   ...   ...    ...  \n",
      "470     0     0     0      1  \n",
      "471     0     0     0      0  \n",
      "472     0     0     0      1  \n",
      "473     0     0     0      0  \n",
      "474     0     0     0      1  \n",
      "\n",
      "[475 rows x 2049 columns]>\n"
     ]
    }
   ],
   "source": [
    "morgan_df = tox_df[\"m3fp\"].apply(pd.Series)\n",
    "\n",
    "morgan_df.insert(2048, \"DILI?\", tox_df[\"DILI?\"].astype(int))\n",
    "\n",
    "\n",
    "print(morgan_df.describe)"
   ]
  },
  {
   "cell_type": "code",
   "execution_count": 6,
   "metadata": {},
   "outputs": [],
   "source": [
    "# Instantiate a model\n",
    "\n",
    "model_rf = RandomForestRegressor(random_state=20)"
   ]
  },
  {
   "cell_type": "code",
   "execution_count": 23,
   "metadata": {},
   "outputs": [
    {
     "name": "stdout",
     "output_type": "stream",
     "text": [
      "<bound method NDFrame.describe of      0  1  2  3  4  5  6  7  8  9  ...  2039  2040  2041  2042  2043  2044  \\\n",
      "0    0  0  0  0  0  0  0  0  0  0  ...     0     0     0     0     0     0   \n",
      "1    0  0  0  0  0  0  0  0  0  0  ...     0     0     0     0     0     0   \n",
      "2    0  1  0  0  0  0  0  0  0  0  ...     0     0     0     0     0     0   \n",
      "3    0  0  0  0  0  0  0  0  0  0  ...     0     0     0     0     0     0   \n",
      "4    0  1  0  0  0  0  0  0  0  0  ...     0     0     0     0     0     0   \n",
      "..  .. .. .. .. .. .. .. .. .. ..  ...   ...   ...   ...   ...   ...   ...   \n",
      "470  0  1  0  0  0  0  0  0  0  0  ...     0     0     0     0     0     0   \n",
      "471  0  1  0  0  0  0  0  0  0  0  ...     0     0     0     0     0     0   \n",
      "472  0  0  0  0  0  0  0  0  0  0  ...     0     0     0     0     0     0   \n",
      "473  0  1  0  0  0  0  0  0  0  0  ...     0     0     0     0     0     0   \n",
      "474  0  0  0  0  0  0  0  0  0  0  ...     0     0     0     0     0     0   \n",
      "\n",
      "     2045  2046  2047  DILI?  \n",
      "0       0     0     0      0  \n",
      "1       0     0     0      0  \n",
      "2       0     0     0      0  \n",
      "3       0     0     0      0  \n",
      "4       0     0     0      0  \n",
      "..    ...   ...   ...    ...  \n",
      "470     0     0     0      1  \n",
      "471     0     0     0      0  \n",
      "472     0     0     0      1  \n",
      "473     0     0     0      0  \n",
      "474     0     0     0      1  \n",
      "\n",
      "[475 rows x 2049 columns]>\n",
      "R^2 : 0.36\n",
      "MAE : 0.4\n"
     ]
    }
   ],
   "source": [
    "cross_validation = ShuffleSplit(n_splits=5, test_size=0.3, random_state=20) #5-fold precedended in AbdulHameed, Random state is like a seed?\n",
    "\n",
    "scoring = ['r2', 'neg_root_mean_squared_error']\n",
    "\n",
    "morgan_df.columns = morgan_df.columns.astype(str)\n",
    "\n",
    "scores = cross_validate(model_rf, morgan_df.iloc[:, 0:len(morgan_df.columns)-1], morgan_df[\"DILI?\"], scoring=scoring, cv=cross_validation)\n",
    "\n",
    "print(morgan_df.describe)\n",
    "\n",
    "#print(scores)\n",
    "\n",
    "scores[\"test_r2\"]\n",
    "-scores[\"test_neg_root_mean_squared_error\"]\n",
    "\n",
    "print(\"R^2 :\", round(np.mean(scores['test_r2']), 2))\n",
    "print(\"MAE :\", round(np.mean(-scores[\"test_neg_root_mean_squared_error\"]), 2))"
   ]
  },
  {
   "cell_type": "markdown",
   "metadata": {},
   "source": [
    "## Thanks To\n",
    "\n",
    "https://www.youtube.com/watch?v=-oHqQBUyrQ0"
   ]
  }
 ],
 "metadata": {
  "kernelspec": {
   "display_name": "Python 3 (ipykernel)",
   "language": "python",
   "name": "python3"
  },
  "language_info": {
   "codemirror_mode": {
    "name": "ipython",
    "version": 3
   },
   "file_extension": ".py",
   "mimetype": "text/x-python",
   "name": "python",
   "nbconvert_exporter": "python",
   "pygments_lexer": "ipython3",
   "version": "3.11.5"
  }
 },
 "nbformat": 4,
 "nbformat_minor": 2
}
